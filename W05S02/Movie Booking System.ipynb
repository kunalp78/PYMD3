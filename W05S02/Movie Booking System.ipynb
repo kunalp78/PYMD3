{
 "cells": [
  {
   "cell_type": "code",
   "execution_count": 3,
   "id": "f1442641-076c-4f7c-a70a-4f5331704b39",
   "metadata": {},
   "outputs": [],
   "source": [
    "a = '125'"
   ]
  },
  {
   "cell_type": "code",
   "execution_count": 4,
   "id": "77f8f524-5ca4-4107-b72c-7fccef6dd67f",
   "metadata": {},
   "outputs": [
    {
     "data": {
      "text/plain": [
       "4208049318775016754"
      ]
     },
     "execution_count": 4,
     "metadata": {},
     "output_type": "execute_result"
    }
   ],
   "source": [
    "hash(a)"
   ]
  },
  {
   "cell_type": "code",
   "execution_count": 5,
   "id": "0b18be3a-b539-4c8f-8ee8-c6ad1a90e8db",
   "metadata": {},
   "outputs": [
    {
     "data": {
      "text/plain": [
       "4208049318775016754"
      ]
     },
     "execution_count": 5,
     "metadata": {},
     "output_type": "execute_result"
    }
   ],
   "source": [
    "hash('125')"
   ]
  },
  {
   "cell_type": "code",
   "execution_count": 6,
   "id": "30cfc94b-65f7-48bb-b02b-8553ad9b90c2",
   "metadata": {},
   "outputs": [],
   "source": [
    "class User:\n",
    "    user = {}\n",
    "    def __init__(self, name, password):\n",
    "        self.name = name\n",
    "        self.password = password"
   ]
  },
  {
   "cell_type": "code",
   "execution_count": 7,
   "id": "0ca6066b-4b21-4c48-8b16-2161688132a2",
   "metadata": {},
   "outputs": [],
   "source": [
    "user1 = User(\"Bhagyashree\", \"1254896\")"
   ]
  },
  {
   "cell_type": "code",
   "execution_count": 13,
   "id": "6f92cc5c-4bb5-4992-b256-357311fbb1f0",
   "metadata": {},
   "outputs": [],
   "source": [
    "user2 = User(\"Kunal\", \"1254896\")"
   ]
  },
  {
   "cell_type": "code",
   "execution_count": 8,
   "id": "721fd4d9-50da-4fe2-891e-801ab5111676",
   "metadata": {},
   "outputs": [
    {
     "data": {
      "text/plain": [
       "<__main__.User at 0x23033a041a0>"
      ]
     },
     "execution_count": 8,
     "metadata": {},
     "output_type": "execute_result"
    }
   ],
   "source": [
    "user1"
   ]
  },
  {
   "cell_type": "code",
   "execution_count": 9,
   "id": "11dc794b-62d7-419e-adf5-cd1e7cfecea6",
   "metadata": {},
   "outputs": [],
   "source": [
    "l = []"
   ]
  },
  {
   "cell_type": "code",
   "execution_count": 11,
   "id": "5f19dd62-2ec3-4ec6-9a59-5b8f6af0c74f",
   "metadata": {},
   "outputs": [],
   "source": [
    "l.append(user1.__dict__)"
   ]
  },
  {
   "cell_type": "code",
   "execution_count": 12,
   "id": "51095f22-de0a-4c17-870a-f997c4ac4b5b",
   "metadata": {},
   "outputs": [
    {
     "data": {
      "text/plain": [
       "[{'name': 'Bhagyashree', 'password': '1254896'}]"
      ]
     },
     "execution_count": 12,
     "metadata": {},
     "output_type": "execute_result"
    }
   ],
   "source": [
    "l"
   ]
  },
  {
   "cell_type": "code",
   "execution_count": 14,
   "id": "f6a0c3f3-21ed-482c-b2dc-8152981ff081",
   "metadata": {},
   "outputs": [],
   "source": [
    "l.append(user2.__dict__)"
   ]
  },
  {
   "cell_type": "code",
   "execution_count": 15,
   "id": "951e68f3-a66c-4793-9f93-60e0520237ad",
   "metadata": {},
   "outputs": [
    {
     "data": {
      "text/plain": [
       "[{'name': 'Bhagyashree', 'password': '1254896'},\n",
       " {'name': 'Kunal', 'password': '1254896'}]"
      ]
     },
     "execution_count": 15,
     "metadata": {},
     "output_type": "execute_result"
    }
   ],
   "source": [
    "l"
   ]
  },
  {
   "cell_type": "code",
   "execution_count": 16,
   "id": "d7b406f2-e5fa-444a-bc9f-fbbe3c94b27b",
   "metadata": {},
   "outputs": [
    {
     "name": "stdout",
     "output_type": "stream",
     "text": [
      "{'name': 'Kunal', 'password': '1254896'}\n"
     ]
    }
   ],
   "source": [
    "u = \"Kunal\"\n",
    "for user in l:\n",
    "    if u == user[\"name\"]:\n",
    "        print(user)\n",
    "        break"
   ]
  },
  {
   "cell_type": "code",
   "execution_count": 17,
   "id": "7c84d3dc-e78e-4fb5-b268-88982e9668ae",
   "metadata": {},
   "outputs": [],
   "source": [
    "d = {}"
   ]
  },
  {
   "cell_type": "code",
   "execution_count": 23,
   "id": "b680294b-3eee-4d99-9246-5dc998c1baee",
   "metadata": {},
   "outputs": [],
   "source": [
    "d[user1.name] = user1"
   ]
  },
  {
   "cell_type": "code",
   "execution_count": 27,
   "id": "19b3f0bb-f566-46c3-b069-d15e1ee69115",
   "metadata": {},
   "outputs": [
    {
     "name": "stdout",
     "output_type": "stream",
     "text": [
      "{'name': 'Bhagyashree', 'password': '1254896'}\n"
     ]
    }
   ],
   "source": [
    "if u in d:\n",
    "    print(d[u].__dict__)"
   ]
  },
  {
   "cell_type": "code",
   "execution_count": 25,
   "id": "05e8436d-56dd-42e0-8e98-d25c3dda2a42",
   "metadata": {},
   "outputs": [],
   "source": [
    "d[user2.name] = user1"
   ]
  },
  {
   "cell_type": "code",
   "execution_count": 28,
   "id": "44006f44-b76b-4250-982a-0dd3c3ee2398",
   "metadata": {},
   "outputs": [
    {
     "data": {
      "text/plain": [
       "<__main__.User at 0x23033827110>"
      ]
     },
     "execution_count": 28,
     "metadata": {},
     "output_type": "execute_result"
    }
   ],
   "source": [
    "User(\"Bhagyashree\", \"1254896\")"
   ]
  },
  {
   "cell_type": "code",
   "execution_count": 29,
   "id": "5970c4ca-0685-479d-aabc-8449519f5f11",
   "metadata": {},
   "outputs": [
    {
     "data": {
      "text/plain": [
       "{'Bhagyashree': <__main__.User at 0x23033a041a0>,\n",
       " 'Kunal': <__main__.User at 0x23033a041a0>}"
      ]
     },
     "execution_count": 29,
     "metadata": {},
     "output_type": "execute_result"
    }
   ],
   "source": [
    "d"
   ]
  },
  {
   "cell_type": "code",
   "execution_count": 33,
   "id": "9b684e6c-3116-467f-8544-ee6ded0cc56f",
   "metadata": {},
   "outputs": [],
   "source": [
    "s = \"I am doing good fdsbfkjbsdkjfbsdf sdfksdfnsd fosdkf sdfsdkfbs fjsf,b sdfka jbf aslksdba sd,jf sdvjdkvd vdkhdfbsdjh dscscj 123\" \\\n",
    "    \"456 sdmfhijsdfbsdkjfndskfnbsdfksdf sdfsdjfnsdfnsdf sdfskdjfsdf\""
   ]
  },
  {
   "cell_type": "code",
   "execution_count": 34,
   "id": "699a4a28-3c21-4680-8b8c-a07d60a921ce",
   "metadata": {},
   "outputs": [
    {
     "data": {
      "text/plain": [
       "'I am doing good fdsbfkjbsdkjfbsdf sdfksdfnsd fosdkf sdfsdkfbs fjsf,b sdfka jbf aslksdba sd,jf sdvjdkvd vdkhdfbsdjh dscscj 123456 sdmfhijsdfbsdkjfndskfnbsdfksdf sdfsdjfnsdfnsdf sdfskdjfsdf'"
      ]
     },
     "execution_count": 34,
     "metadata": {},
     "output_type": "execute_result"
    }
   ],
   "source": [
    "s"
   ]
  },
  {
   "cell_type": "code",
   "execution_count": 49,
   "id": "7d219546-8389-4ed7-bcf7-acb490eb2f0b",
   "metadata": {},
   "outputs": [],
   "source": [
    "class A(object):\n",
    "    __count = 0\n",
    "    def __init__(self):\n",
    "        print(\"A\")\n",
    "\n",
    "    def __new__(cls):\n",
    "        cls.__count += 1\n",
    "        if cls.__count > 1:\n",
    "            raise Exception(\"Cannot create a new instance\")\n",
    "        return super().__new__(cls)"
   ]
  },
  {
   "cell_type": "code",
   "execution_count": 50,
   "id": "94a10f3f-f7ed-4c92-b513-16da6c31125d",
   "metadata": {},
   "outputs": [
    {
     "name": "stdout",
     "output_type": "stream",
     "text": [
      "A\n"
     ]
    }
   ],
   "source": [
    "a = A()"
   ]
  },
  {
   "cell_type": "code",
   "execution_count": 51,
   "id": "088b42a9-4c3c-43c8-938a-a9b65257d81e",
   "metadata": {},
   "outputs": [
    {
     "ename": "Exception",
     "evalue": "Cannot create a new instance",
     "output_type": "error",
     "traceback": [
      "\u001b[1;31m---------------------------------------------------------------------------\u001b[0m",
      "\u001b[1;31mException\u001b[0m                                 Traceback (most recent call last)",
      "Cell \u001b[1;32mIn[51], line 1\u001b[0m\n\u001b[1;32m----> 1\u001b[0m b \u001b[38;5;241m=\u001b[39m \u001b[43mA\u001b[49m\u001b[43m(\u001b[49m\u001b[43m)\u001b[49m\n",
      "Cell \u001b[1;32mIn[49], line 9\u001b[0m, in \u001b[0;36mA.__new__\u001b[1;34m(cls)\u001b[0m\n\u001b[0;32m      7\u001b[0m \u001b[38;5;28mcls\u001b[39m\u001b[38;5;241m.\u001b[39m__count \u001b[38;5;241m+\u001b[39m\u001b[38;5;241m=\u001b[39m \u001b[38;5;241m1\u001b[39m\n\u001b[0;32m      8\u001b[0m \u001b[38;5;28;01mif\u001b[39;00m \u001b[38;5;28mcls\u001b[39m\u001b[38;5;241m.\u001b[39m__count \u001b[38;5;241m>\u001b[39m \u001b[38;5;241m1\u001b[39m:\n\u001b[1;32m----> 9\u001b[0m     \u001b[38;5;28;01mraise\u001b[39;00m \u001b[38;5;167;01mException\u001b[39;00m(\u001b[38;5;124m\"\u001b[39m\u001b[38;5;124mCannot create a new instance\u001b[39m\u001b[38;5;124m\"\u001b[39m)\n\u001b[0;32m     10\u001b[0m \u001b[38;5;28;01mreturn\u001b[39;00m \u001b[38;5;28msuper\u001b[39m()\u001b[38;5;241m.\u001b[39m\u001b[38;5;21m__new__\u001b[39m(\u001b[38;5;28mcls\u001b[39m)\n",
      "\u001b[1;31mException\u001b[0m: Cannot create a new instance"
     ]
    }
   ],
   "source": [
    "b = A()"
   ]
  },
  {
   "cell_type": "code",
   "execution_count": null,
   "id": "ab8d480f-e583-4bbb-9300-63e39cc80408",
   "metadata": {},
   "outputs": [],
   "source": []
  }
 ],
 "metadata": {
  "kernelspec": {
   "display_name": "Python 3 (ipykernel)",
   "language": "python",
   "name": "python3"
  },
  "language_info": {
   "codemirror_mode": {
    "name": "ipython",
    "version": 3
   },
   "file_extension": ".py",
   "mimetype": "text/x-python",
   "name": "python",
   "nbconvert_exporter": "python",
   "pygments_lexer": "ipython3",
   "version": "3.13.1"
  }
 },
 "nbformat": 4,
 "nbformat_minor": 5
}
