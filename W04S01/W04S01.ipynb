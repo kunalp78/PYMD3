{
 "cells": [
  {
   "cell_type": "markdown",
   "id": "5415a3dc-4239-4747-bc7f-19577023e972",
   "metadata": {},
   "source": [
    "## Object oriented programming in python"
   ]
  },
  {
   "cell_type": "code",
   "execution_count": null,
   "id": "31608b35-9526-4c41-836c-c030ed95aff8",
   "metadata": {},
   "outputs": [],
   "source": [
    "properties: name, age, contact details, recipient list, subject, body\n",
    "behaviours: wlaking, running, swimming, adding attachments, sending mails\n",
    "\n",
    "four pillars of OOPS:\n",
    "1) Encapsulation\n",
    "2) Inheritence\n",
    "3) Abstraction\n",
    "4) Polymorphirsm"
   ]
  },
  {
   "cell_type": "markdown",
   "id": "f5116f4a-60f4-44dd-b8fc-fdf9c5bfe9ee",
   "metadata": {},
   "source": [
    "#### defining class in python"
   ]
  },
  {
   "cell_type": "code",
   "execution_count": 1,
   "id": "dc63fa0a-e8e7-4563-b327-e24e22f8e1fd",
   "metadata": {},
   "outputs": [],
   "source": [
    "class Employee:\n",
    "    def __init__(self, name, age):\n",
    "        self.name = name\n",
    "        self.age = age\n",
    "\n",
    "    def set_name(self, name):\n",
    "        # set name below\n",
    "        self.name = name\n",
    "\n",
    "e1 = Employee(\"Chaitanya\", 25)"
   ]
  },
  {
   "cell_type": "code",
   "execution_count": 2,
   "id": "b15b5a8a-1b8e-483b-9905-4a53871c7e24",
   "metadata": {},
   "outputs": [
    {
     "data": {
      "text/plain": [
       "<__main__.Employee at 0x19afdcec2f0>"
      ]
     },
     "execution_count": 2,
     "metadata": {},
     "output_type": "execute_result"
    }
   ],
   "source": [
    "e1"
   ]
  },
  {
   "cell_type": "code",
   "execution_count": 3,
   "id": "33e19364-3bd8-40ae-8900-286f136218fb",
   "metadata": {},
   "outputs": [],
   "source": [
    "e2 = Employee(\"Chintan\", 29)"
   ]
  },
  {
   "cell_type": "code",
   "execution_count": 5,
   "id": "f88b17fa-cdde-4daa-83ab-73087b4d8f37",
   "metadata": {},
   "outputs": [
    {
     "data": {
      "text/plain": [
       "<__main__.Employee at 0x19afdb0a850>"
      ]
     },
     "execution_count": 5,
     "metadata": {},
     "output_type": "execute_result"
    }
   ],
   "source": [
    "e2"
   ]
  },
  {
   "cell_type": "code",
   "execution_count": 7,
   "id": "bc0070d9-ef09-4e7a-8c31-83ba886a1b29",
   "metadata": {},
   "outputs": [
    {
     "data": {
      "text/plain": [
       "'Chaitanya'"
      ]
     },
     "execution_count": 7,
     "metadata": {},
     "output_type": "execute_result"
    }
   ],
   "source": [
    "e1.name"
   ]
  },
  {
   "cell_type": "code",
   "execution_count": 8,
   "id": "399cda27-7d74-42a1-aac1-f8d68f5c9b9b",
   "metadata": {},
   "outputs": [
    {
     "data": {
      "text/plain": [
       "'Chintan'"
      ]
     },
     "execution_count": 8,
     "metadata": {},
     "output_type": "execute_result"
    }
   ],
   "source": [
    "e2.name"
   ]
  },
  {
   "cell_type": "code",
   "execution_count": 9,
   "id": "9876947e-d500-4b0c-98cc-f28805a28e7e",
   "metadata": {},
   "outputs": [
    {
     "name": "stdout",
     "output_type": "stream",
     "text": [
      "1765194785056\n"
     ]
    }
   ],
   "source": [
    "class Employee:\n",
    "    def __init__(self, name, age):\n",
    "        print(id(self))\n",
    "        self.name = name\n",
    "        self.age = age\n",
    "\n",
    "    def set_name(self, name):\n",
    "        # set name below\n",
    "        self.name = name\n",
    "\n",
    "e1 = Employee(\"Chaitanya\", 25)"
   ]
  },
  {
   "cell_type": "code",
   "execution_count": 10,
   "id": "a38077e5-7290-4354-8a92-f1af746cb998",
   "metadata": {},
   "outputs": [
    {
     "name": "stdout",
     "output_type": "stream",
     "text": [
      "1765194785056\n"
     ]
    }
   ],
   "source": [
    "print(id(e1))"
   ]
  },
  {
   "cell_type": "code",
   "execution_count": 11,
   "id": "ca535ec4-6d48-49bb-96a3-044bf5adc0e1",
   "metadata": {},
   "outputs": [
    {
     "name": "stdout",
     "output_type": "stream",
     "text": [
      "1765194785392\n",
      "1765192805712\n"
     ]
    }
   ],
   "source": [
    "class Employee:\n",
    "    def __init__(self, name, age, address=\"\"):\n",
    "        print(id(self))\n",
    "        self.name = name\n",
    "        self.age = age\n",
    "        self.address = address\n",
    "\n",
    "    def set_name(self, name):\n",
    "        # set name below\n",
    "        self.name = name\n",
    "\n",
    "e1 = Employee(\"Chaitanya\", 25)\n",
    "e2 = Employee(\"Ajay\", 29, \"Bangalore\")"
   ]
  },
  {
   "cell_type": "code",
   "execution_count": 12,
   "id": "8de4bed4-1c8a-4d08-8574-f4b8985dd385",
   "metadata": {},
   "outputs": [
    {
     "data": {
      "text/plain": [
       "''"
      ]
     },
     "execution_count": 12,
     "metadata": {},
     "output_type": "execute_result"
    }
   ],
   "source": [
    "e1.address"
   ]
  },
  {
   "cell_type": "code",
   "execution_count": 13,
   "id": "83bfdb9f-9440-45c5-86c1-c77cc4783dfc",
   "metadata": {},
   "outputs": [
    {
     "data": {
      "text/plain": [
       "'Bangalore'"
      ]
     },
     "execution_count": 13,
     "metadata": {},
     "output_type": "execute_result"
    }
   ],
   "source": [
    "e2.address"
   ]
  },
  {
   "cell_type": "code",
   "execution_count": 14,
   "id": "941bb1c6-f6a6-45c0-9184-2092ead7b9b0",
   "metadata": {},
   "outputs": [
    {
     "data": {
      "text/plain": [
       "{'name': 'Ajay', 'age': 29, 'address': 'Bangalore'}"
      ]
     },
     "execution_count": 14,
     "metadata": {},
     "output_type": "execute_result"
    }
   ],
   "source": [
    "e2.__dict__"
   ]
  },
  {
   "cell_type": "code",
   "execution_count": 15,
   "id": "6fa52bc8-bd9c-4861-8d91-6359c0147d81",
   "metadata": {},
   "outputs": [
    {
     "data": {
      "text/plain": [
       "{'name': 'Chaitanya', 'age': 25, 'address': ''}"
      ]
     },
     "execution_count": 15,
     "metadata": {},
     "output_type": "execute_result"
    }
   ],
   "source": [
    "e1.__dict__"
   ]
  },
  {
   "cell_type": "code",
   "execution_count": 16,
   "id": "22228176-8f74-472f-b2a0-ea86ec4c344f",
   "metadata": {},
   "outputs": [],
   "source": [
    "e1.set_name(\"Chaitanya Pr\")"
   ]
  },
  {
   "cell_type": "code",
   "execution_count": 17,
   "id": "95cae116-037d-4916-ac56-b6a05a4a403e",
   "metadata": {},
   "outputs": [
    {
     "data": {
      "text/plain": [
       "{'name': 'Chaitanya Pr', 'age': 25, 'address': ''}"
      ]
     },
     "execution_count": 17,
     "metadata": {},
     "output_type": "execute_result"
    }
   ],
   "source": [
    "e1.__dict__"
   ]
  },
  {
   "cell_type": "code",
   "execution_count": 18,
   "id": "ddea1a6b-66b0-498f-a1b4-3e3013698824",
   "metadata": {},
   "outputs": [],
   "source": [
    "class A:\n",
    "    def funct_1(self):\n",
    "        self.a = \"some val\""
   ]
  },
  {
   "cell_type": "code",
   "execution_count": 19,
   "id": "988cacb4-1b0c-4e95-a6c5-6f615a016e2a",
   "metadata": {},
   "outputs": [],
   "source": [
    "ob_a = A()"
   ]
  },
  {
   "cell_type": "code",
   "execution_count": 22,
   "id": "871e4c53-a725-4564-869d-e519b104d033",
   "metadata": {},
   "outputs": [
    {
     "data": {
      "text/plain": [
       "{'a': 'some val'}"
      ]
     },
     "execution_count": 22,
     "metadata": {},
     "output_type": "execute_result"
    }
   ],
   "source": [
    "ob_a.__dict__"
   ]
  },
  {
   "cell_type": "code",
   "execution_count": 21,
   "id": "4e973ddc-d54e-418a-b75e-42427f583c7b",
   "metadata": {},
   "outputs": [],
   "source": [
    "ob_a.funct_1()"
   ]
  },
  {
   "cell_type": "code",
   "execution_count": 23,
   "id": "2522d7db-c128-427e-89b6-f28d054cf514",
   "metadata": {},
   "outputs": [
    {
     "data": {
      "text/plain": [
       "{'a': 'some val'}"
      ]
     },
     "execution_count": 23,
     "metadata": {},
     "output_type": "execute_result"
    }
   ],
   "source": [
    "ob_a.__dict__"
   ]
  },
  {
   "cell_type": "code",
   "execution_count": 24,
   "id": "77a340f2-2003-409f-8b69-b5978eca3973",
   "metadata": {},
   "outputs": [],
   "source": [
    "class Dog:\n",
    "    species = \"Canis familiaris\"\n",
    "    def __init__(self, name, age):\n",
    "        self.name = name\n",
    "        self.age = age"
   ]
  },
  {
   "cell_type": "code",
   "execution_count": 25,
   "id": "0326c3f0-d2df-4b88-bbdc-25d2ce607c14",
   "metadata": {},
   "outputs": [],
   "source": [
    "a = Dog(\"Tommy\", 5)\n",
    "b = Dog(\"Garfield\", 8)"
   ]
  },
  {
   "cell_type": "code",
   "execution_count": 26,
   "id": "a6a730dc-7e2c-4713-b4e1-f271a344b4ce",
   "metadata": {},
   "outputs": [
    {
     "data": {
      "text/plain": [
       "'Tommy'"
      ]
     },
     "execution_count": 26,
     "metadata": {},
     "output_type": "execute_result"
    }
   ],
   "source": [
    "a.name"
   ]
  },
  {
   "cell_type": "code",
   "execution_count": 27,
   "id": "ced24a96-2796-4f81-b7ba-f1f195b72f51",
   "metadata": {},
   "outputs": [
    {
     "data": {
      "text/plain": [
       "'Garfield'"
      ]
     },
     "execution_count": 27,
     "metadata": {},
     "output_type": "execute_result"
    }
   ],
   "source": [
    "b.name"
   ]
  },
  {
   "cell_type": "code",
   "execution_count": 28,
   "id": "fb6ebf03-98be-46b4-9f3c-73528126e57c",
   "metadata": {},
   "outputs": [
    {
     "data": {
      "text/plain": [
       "'Canis familiaris'"
      ]
     },
     "execution_count": 28,
     "metadata": {},
     "output_type": "execute_result"
    }
   ],
   "source": [
    "a.species"
   ]
  },
  {
   "cell_type": "code",
   "execution_count": 29,
   "id": "4eafb201-b1ad-4beb-abd2-e38b6726d38b",
   "metadata": {},
   "outputs": [
    {
     "data": {
      "text/plain": [
       "'Canis familiaris'"
      ]
     },
     "execution_count": 29,
     "metadata": {},
     "output_type": "execute_result"
    }
   ],
   "source": [
    "b.species"
   ]
  },
  {
   "cell_type": "code",
   "execution_count": 30,
   "id": "9a12037c-8408-4531-b0c6-93737177e474",
   "metadata": {},
   "outputs": [
    {
     "ename": "TypeError",
     "evalue": "Dog.__init__() missing 2 required positional arguments: 'name' and 'age'",
     "output_type": "error",
     "traceback": [
      "\u001b[1;31m---------------------------------------------------------------------------\u001b[0m",
      "\u001b[1;31mTypeError\u001b[0m                                 Traceback (most recent call last)",
      "Cell \u001b[1;32mIn[30], line 1\u001b[0m\n\u001b[1;32m----> 1\u001b[0m c \u001b[38;5;241m=\u001b[39m \u001b[43mDog\u001b[49m\u001b[43m(\u001b[49m\u001b[43m)\u001b[49m\n",
      "\u001b[1;31mTypeError\u001b[0m: Dog.__init__() missing 2 required positional arguments: 'name' and 'age'"
     ]
    }
   ],
   "source": [
    "c = Dog()"
   ]
  },
  {
   "cell_type": "code",
   "execution_count": 31,
   "id": "ece1aeec-ef5b-4247-95f7-dd987a32b37a",
   "metadata": {},
   "outputs": [
    {
     "ename": "TypeError",
     "evalue": "Dog.__init__() takes 3 positional arguments but 4 were given",
     "output_type": "error",
     "traceback": [
      "\u001b[1;31m---------------------------------------------------------------------------\u001b[0m",
      "\u001b[1;31mTypeError\u001b[0m                                 Traceback (most recent call last)",
      "Cell \u001b[1;32mIn[31], line 1\u001b[0m\n\u001b[1;32m----> 1\u001b[0m d \u001b[38;5;241m=\u001b[39m \u001b[43mDog\u001b[49m\u001b[43m(\u001b[49m\u001b[38;5;241;43m4\u001b[39;49m\u001b[43m,\u001b[49m\u001b[43m \u001b[49m\u001b[38;5;241;43m5\u001b[39;49m\u001b[43m,\u001b[49m\u001b[43m \u001b[49m\u001b[38;5;241;43m8\u001b[39;49m\u001b[43m)\u001b[49m\n",
      "\u001b[1;31mTypeError\u001b[0m: Dog.__init__() takes 3 positional arguments but 4 were given"
     ]
    }
   ],
   "source": [
    "d = Dog(4, 5, 8)"
   ]
  },
  {
   "cell_type": "code",
   "execution_count": 32,
   "id": "debee422-97b6-4160-970d-d6b402680f44",
   "metadata": {},
   "outputs": [
    {
     "data": {
      "text/plain": [
       "'Canis familiaris'"
      ]
     },
     "execution_count": 32,
     "metadata": {},
     "output_type": "execute_result"
    }
   ],
   "source": [
    "Dog.species"
   ]
  },
  {
   "cell_type": "code",
   "execution_count": 37,
   "id": "1936403f-6f3f-4347-bf36-cac9809caccb",
   "metadata": {},
   "outputs": [],
   "source": [
    "class Dog:\n",
    "    species = \"Canis familiaris\"\n",
    "    def __init__(self, name, age):\n",
    "        self.name = name\n",
    "        self.age = age"
   ]
  },
  {
   "cell_type": "code",
   "execution_count": 38,
   "id": "22257091-8371-402e-8f68-19d7c2d24b2e",
   "metadata": {},
   "outputs": [],
   "source": [
    "a = Dog(\"rocky\", 5)"
   ]
  },
  {
   "cell_type": "code",
   "execution_count": 39,
   "id": "affeec84-92e8-4716-8299-18e2435eabe8",
   "metadata": {},
   "outputs": [
    {
     "data": {
      "text/plain": [
       "'Canis familiaris'"
      ]
     },
     "execution_count": 39,
     "metadata": {},
     "output_type": "execute_result"
    }
   ],
   "source": [
    "a.species"
   ]
  },
  {
   "cell_type": "code",
   "execution_count": 40,
   "id": "743cc222-ba9b-4ae6-9656-011063b942b0",
   "metadata": {},
   "outputs": [
    {
     "data": {
      "text/plain": [
       "{'name': 'rocky', 'age': 5}"
      ]
     },
     "execution_count": 40,
     "metadata": {},
     "output_type": "execute_result"
    }
   ],
   "source": [
    "a.__dict__"
   ]
  },
  {
   "cell_type": "code",
   "execution_count": 41,
   "id": "3f8ad78d-7f4d-4158-a5d5-3abcbc522791",
   "metadata": {},
   "outputs": [],
   "source": [
    "a.species = \"Bull Dog\""
   ]
  },
  {
   "cell_type": "code",
   "execution_count": 43,
   "id": "5b658595-ed62-4cf9-9624-f51070938e2a",
   "metadata": {},
   "outputs": [
    {
     "data": {
      "text/plain": [
       "{'name': 'rocky', 'age': 5, 'species': 'Bull Dog'}"
      ]
     },
     "execution_count": 43,
     "metadata": {},
     "output_type": "execute_result"
    }
   ],
   "source": [
    "a.__dict__"
   ]
  },
  {
   "cell_type": "code",
   "execution_count": 44,
   "id": "d150d97d-3dd2-4811-ad6a-03fd2e8bd55d",
   "metadata": {},
   "outputs": [],
   "source": [
    "b = Dog(\"Marrie\", 5)"
   ]
  },
  {
   "cell_type": "code",
   "execution_count": 45,
   "id": "938f470a-ff38-470e-96cb-79aa05c0ee01",
   "metadata": {},
   "outputs": [
    {
     "data": {
      "text/plain": [
       "'Canis familiaris'"
      ]
     },
     "execution_count": 45,
     "metadata": {},
     "output_type": "execute_result"
    }
   ],
   "source": [
    "b.species"
   ]
  },
  {
   "cell_type": "code",
   "execution_count": 46,
   "id": "943b0be5-c3fe-45a5-85a4-1068fca34914",
   "metadata": {},
   "outputs": [],
   "source": [
    "Dog.species = \"Bull dog\""
   ]
  },
  {
   "cell_type": "code",
   "execution_count": 47,
   "id": "788dee9a-4b66-4e7d-a9e5-ac60719cb126",
   "metadata": {},
   "outputs": [
    {
     "data": {
      "text/plain": [
       "'Bull dog'"
      ]
     },
     "execution_count": 47,
     "metadata": {},
     "output_type": "execute_result"
    }
   ],
   "source": [
    "b.species"
   ]
  },
  {
   "cell_type": "code",
   "execution_count": 49,
   "id": "c15f2918-60d2-4f79-b75f-c71855bda73b",
   "metadata": {},
   "outputs": [
    {
     "data": {
      "text/plain": [
       "{'name': 'Marrie', 'age': 5}"
      ]
     },
     "execution_count": 49,
     "metadata": {},
     "output_type": "execute_result"
    }
   ],
   "source": [
    "b.__dict__"
   ]
  },
  {
   "cell_type": "code",
   "execution_count": 50,
   "id": "50514ac8-909d-4d7e-839f-edcb7d8fbaae",
   "metadata": {},
   "outputs": [],
   "source": [
    "b.name = \"doggy\""
   ]
  },
  {
   "cell_type": "code",
   "execution_count": 51,
   "id": "b187a6cc-44ed-41b7-a5c5-d6454134452f",
   "metadata": {},
   "outputs": [
    {
     "data": {
      "text/plain": [
       "{'name': 'doggy', 'age': 5}"
      ]
     },
     "execution_count": 51,
     "metadata": {},
     "output_type": "execute_result"
    }
   ],
   "source": [
    "b.__dict__"
   ]
  },
  {
   "cell_type": "code",
   "execution_count": null,
   "id": "e0bee2cb-fc50-4501-926d-59d515be5d05",
   "metadata": {},
   "outputs": [],
   "source": [
    "- Class reference change the class attribute.\n",
    "- we can access class attribute using object reference but for Read only operation\n",
    "- if we try to change the class attribute directly using object refence it creates a new object attribute for that particular\n",
    "  object\n",
    "- An object method can only be accessed via object reference\n",
    "- A class method can be accesed by an object reference "
   ]
  },
  {
   "cell_type": "code",
   "execution_count": 52,
   "id": "86cb3fa8-a253-4574-bd5a-5f57ba12deae",
   "metadata": {},
   "outputs": [],
   "source": [
    "class Dog:\n",
    "    species = \"Canis familiaris\"\n",
    "    def __init__(self, name, age):\n",
    "        self.name = name\n",
    "        self.age = age\n",
    "\n",
    "    def change_name(self, name):\n",
    "        self.name = name\n",
    "\n",
    "    @classmethod\n",
    "    def change_species(cls, new_sp):\n",
    "        cls.species = new_sp"
   ]
  },
  {
   "cell_type": "code",
   "execution_count": 53,
   "id": "7ce7fe65-25a6-4d71-bc0d-1f3dde148d0d",
   "metadata": {},
   "outputs": [],
   "source": [
    "a = Dog(\"Harvey\", 3)"
   ]
  },
  {
   "cell_type": "code",
   "execution_count": 54,
   "id": "ac86788b-b3f2-4610-ae9e-e79ed4e38169",
   "metadata": {},
   "outputs": [
    {
     "data": {
      "text/plain": [
       "'Canis familiaris'"
      ]
     },
     "execution_count": 54,
     "metadata": {},
     "output_type": "execute_result"
    }
   ],
   "source": [
    "a.species"
   ]
  },
  {
   "cell_type": "code",
   "execution_count": 55,
   "id": "4af800fb-1292-468c-8a94-15788ffc99c9",
   "metadata": {},
   "outputs": [],
   "source": [
    "a.change_species(\"Bull Dog\")"
   ]
  },
  {
   "cell_type": "code",
   "execution_count": 56,
   "id": "f5a238b6-734a-4af0-b3c7-fda4927cf788",
   "metadata": {},
   "outputs": [
    {
     "data": {
      "text/plain": [
       "'Bull Dog'"
      ]
     },
     "execution_count": 56,
     "metadata": {},
     "output_type": "execute_result"
    }
   ],
   "source": [
    "Dog.species"
   ]
  },
  {
   "cell_type": "code",
   "execution_count": 57,
   "id": "9231e7b8-de76-4e80-8a38-8e589a01d273",
   "metadata": {},
   "outputs": [
    {
     "data": {
      "text/plain": [
       "{'name': 'Harvey', 'age': 3}"
      ]
     },
     "execution_count": 57,
     "metadata": {},
     "output_type": "execute_result"
    }
   ],
   "source": [
    "a.__dict__"
   ]
  },
  {
   "cell_type": "code",
   "execution_count": 58,
   "id": "fbbdbfcd-3092-4ab5-919b-1061a12dd969",
   "metadata": {},
   "outputs": [],
   "source": [
    "Dog.change_species(\"Canis familiaris\")"
   ]
  },
  {
   "cell_type": "code",
   "execution_count": 59,
   "id": "daf91ca7-45a9-4b02-b6e7-0310f9592048",
   "metadata": {},
   "outputs": [
    {
     "data": {
      "text/plain": [
       "'Canis familiaris'"
      ]
     },
     "execution_count": 59,
     "metadata": {},
     "output_type": "execute_result"
    }
   ],
   "source": [
    "Dog.species"
   ]
  },
  {
   "cell_type": "code",
   "execution_count": 60,
   "id": "8f4f3e30-59ba-4f2a-ad8f-abdd6027d08b",
   "metadata": {},
   "outputs": [
    {
     "data": {
      "text/plain": [
       "'Canis familiaris'"
      ]
     },
     "execution_count": 60,
     "metadata": {},
     "output_type": "execute_result"
    }
   ],
   "source": [
    "a.species"
   ]
  },
  {
   "cell_type": "code",
   "execution_count": 61,
   "id": "da2d8ff2-8bf8-4b98-8b80-a01cfeeda0d2",
   "metadata": {},
   "outputs": [
    {
     "data": {
      "text/plain": [
       "{'name': 'Harvey', 'age': 3}"
      ]
     },
     "execution_count": 61,
     "metadata": {},
     "output_type": "execute_result"
    }
   ],
   "source": [
    "a.__dict__"
   ]
  },
  {
   "cell_type": "code",
   "execution_count": 62,
   "id": "80a7f622-004a-440b-84c2-b56dea59d848",
   "metadata": {},
   "outputs": [],
   "source": [
    "a.change_name(\"Rocky\")"
   ]
  },
  {
   "cell_type": "code",
   "execution_count": 63,
   "id": "02f32296-df98-49e6-b407-9fb0122a94d0",
   "metadata": {},
   "outputs": [
    {
     "data": {
      "text/plain": [
       "{'name': 'Rocky', 'age': 3}"
      ]
     },
     "execution_count": 63,
     "metadata": {},
     "output_type": "execute_result"
    }
   ],
   "source": [
    "a.__dict__"
   ]
  },
  {
   "cell_type": "code",
   "execution_count": 64,
   "id": "86c09ba3-726e-47a3-9820-6fd22e750367",
   "metadata": {},
   "outputs": [
    {
     "ename": "TypeError",
     "evalue": "Dog.change_name() missing 1 required positional argument: 'name'",
     "output_type": "error",
     "traceback": [
      "\u001b[1;31m---------------------------------------------------------------------------\u001b[0m",
      "\u001b[1;31mTypeError\u001b[0m                                 Traceback (most recent call last)",
      "Cell \u001b[1;32mIn[64], line 1\u001b[0m\n\u001b[1;32m----> 1\u001b[0m \u001b[43mDog\u001b[49m\u001b[38;5;241;43m.\u001b[39;49m\u001b[43mchange_name\u001b[49m\u001b[43m(\u001b[49m\u001b[38;5;124;43m\"\u001b[39;49m\u001b[38;5;124;43mTommy\u001b[39;49m\u001b[38;5;124;43m\"\u001b[39;49m\u001b[43m)\u001b[49m\n",
      "\u001b[1;31mTypeError\u001b[0m: Dog.change_name() missing 1 required positional argument: 'name'"
     ]
    }
   ],
   "source": [
    "Dog.change_name(\"Tommy\")"
   ]
  },
  {
   "cell_type": "code",
   "execution_count": 65,
   "id": "207686d0-5659-4dda-90dc-0536770858cc",
   "metadata": {},
   "outputs": [],
   "source": [
    "Dog.change_name(a, \"Tim\")"
   ]
  },
  {
   "cell_type": "code",
   "execution_count": 66,
   "id": "e3b0cfe0-5b65-448a-bc86-dfc8ad1acc06",
   "metadata": {},
   "outputs": [
    {
     "data": {
      "text/plain": [
       "{'name': 'Tim', 'age': 3}"
      ]
     },
     "execution_count": 66,
     "metadata": {},
     "output_type": "execute_result"
    }
   ],
   "source": [
    "a.__dict__"
   ]
  },
  {
   "cell_type": "code",
   "execution_count": 67,
   "id": "a92d61ea-1a59-4042-9015-989ee39ed119",
   "metadata": {},
   "outputs": [],
   "source": [
    "class Dog:\n",
    "    species = \"Canis familiaris\"\n",
    "    def __init__(self, name, age):\n",
    "        self.name = name\n",
    "        self.age = age\n",
    "\n",
    "    def change_name(self, name):\n",
    "        self.name = name\n",
    "\n",
    "    @classmethod\n",
    "    def change_species(cls, new_sp):\n",
    "        cls.species = new_sp\n",
    "\n",
    "    @staticmethod\n",
    "    def general_info():\n",
    "        print(\"Dogs are loyal animals and a great company\")"
   ]
  },
  {
   "cell_type": "code",
   "execution_count": 68,
   "id": "c5f0e0f9-b794-409a-9e8d-2277e0db0367",
   "metadata": {},
   "outputs": [],
   "source": [
    "a = Dog(\"Harvey\", 3)"
   ]
  },
  {
   "cell_type": "code",
   "execution_count": 69,
   "id": "c891945f-da59-4cf8-b6bf-1db900c34e2c",
   "metadata": {},
   "outputs": [
    {
     "name": "stdout",
     "output_type": "stream",
     "text": [
      "Dogs are loyal animals and a great company\n"
     ]
    }
   ],
   "source": [
    "a.general_info()"
   ]
  },
  {
   "cell_type": "code",
   "execution_count": 70,
   "id": "2691cf51-762a-4c46-af9f-4cc6c673f99e",
   "metadata": {},
   "outputs": [],
   "source": [
    "class Dog:\n",
    "    species = \"Canis familiaris\"\n",
    "    def __init__(self, name, age):\n",
    "        self.name = name\n",
    "        self.age = age\n",
    "\n",
    "    def change_name(self, name):\n",
    "        self.name = name\n",
    "\n",
    "    @classmethod\n",
    "    def change_species(cls, new_sp):\n",
    "        cls.species = new_sp\n",
    "\n",
    "    def general_info():\n",
    "        print(\"Dogs are loyal animals and a great company\")"
   ]
  },
  {
   "cell_type": "code",
   "execution_count": 71,
   "id": "d2f44d11-bc11-4e8c-b1cf-1614f2e51b15",
   "metadata": {},
   "outputs": [],
   "source": [
    "a = Dog(\"Harvey\", 3)"
   ]
  },
  {
   "cell_type": "code",
   "execution_count": 72,
   "id": "7358b197-f911-40fa-bddb-b741d8a4cfec",
   "metadata": {},
   "outputs": [
    {
     "ename": "TypeError",
     "evalue": "Dog.general_info() takes 0 positional arguments but 1 was given",
     "output_type": "error",
     "traceback": [
      "\u001b[1;31m---------------------------------------------------------------------------\u001b[0m",
      "\u001b[1;31mTypeError\u001b[0m                                 Traceback (most recent call last)",
      "Cell \u001b[1;32mIn[72], line 1\u001b[0m\n\u001b[1;32m----> 1\u001b[0m \u001b[43ma\u001b[49m\u001b[38;5;241;43m.\u001b[39;49m\u001b[43mgeneral_info\u001b[49m\u001b[43m(\u001b[49m\u001b[43m)\u001b[49m\n",
      "\u001b[1;31mTypeError\u001b[0m: Dog.general_info() takes 0 positional arguments but 1 was given"
     ]
    }
   ],
   "source": [
    "a.general_info()"
   ]
  },
  {
   "cell_type": "code",
   "execution_count": 78,
   "id": "f95bc4d1-299a-4ebb-b70e-c4d6ea2b6aed",
   "metadata": {},
   "outputs": [
    {
     "name": "stderr",
     "output_type": "stream",
     "text": [
      "<>:21: SyntaxWarning: \"is not\" with 'str' literal. Did you mean \"!=\"?\n",
      "<>:21: SyntaxWarning: \"is not\" with 'str' literal. Did you mean \"!=\"?\n",
      "C:\\Users\\Kunal\\AppData\\Local\\Temp\\ipykernel_13920\\3782904683.py:21: SyntaxWarning: \"is not\" with 'str' literal. Did you mean \"!=\"?\n",
      "  if position is not \"employee\":\n"
     ]
    }
   ],
   "source": [
    "class Employee:\n",
    "    def __init__(self, name, age, pos, address=\"\", salary=0):\n",
    "        self.name = name\n",
    "        self.age = age\n",
    "        self.address = address\n",
    "        self.salary = salary\n",
    "        self.position = pos\n",
    "\n",
    "    def set_name(self, name):\n",
    "        # set name below\n",
    "        self.name = name\n",
    "\n",
    "    def set_salary(self, salary):\n",
    "        if Employee.validate_if_employee(self.position) == True:\n",
    "            self.salary = salary\n",
    "        else:\n",
    "            self.salary -= (self.salary/10)\n",
    "\n",
    "    @staticmethod\n",
    "    def validate_if_employee(position):\n",
    "        if position is not \"employee\":\n",
    "            return False\n",
    "        else:\n",
    "            return True"
   ]
  },
  {
   "cell_type": "code",
   "execution_count": 79,
   "id": "37cf89a8-ddcc-4a1e-950d-efff93b6b41d",
   "metadata": {},
   "outputs": [],
   "source": [
    "e1 = Employee(\"Ramanuj\", 50, \"Contractor\", address=\"Bangalore\", salary=50000)"
   ]
  },
  {
   "cell_type": "code",
   "execution_count": 80,
   "id": "1b4fce82-0e3d-4bdc-9f9f-495f852d71cb",
   "metadata": {},
   "outputs": [],
   "source": [
    "e1.set_salary(50000)"
   ]
  },
  {
   "cell_type": "code",
   "execution_count": 81,
   "id": "b33cf5cf-eb23-49ac-a9f3-fb7e6f4c0968",
   "metadata": {},
   "outputs": [
    {
     "data": {
      "text/plain": [
       "{'name': 'Ramanuj',\n",
       " 'age': 50,\n",
       " 'address': 'Bangalore',\n",
       " 'salary': 45000.0,\n",
       " 'position': 'Contractor'}"
      ]
     },
     "execution_count": 81,
     "metadata": {},
     "output_type": "execute_result"
    }
   ],
   "source": [
    "e1.__dict__"
   ]
  },
  {
   "cell_type": "code",
   "execution_count": null,
   "id": "fb193756-9102-4c61-988e-4b09adaba7e8",
   "metadata": {},
   "outputs": [],
   "source": []
  }
 ],
 "metadata": {
  "kernelspec": {
   "display_name": "Python 3 (ipykernel)",
   "language": "python",
   "name": "python3"
  },
  "language_info": {
   "codemirror_mode": {
    "name": "ipython",
    "version": 3
   },
   "file_extension": ".py",
   "mimetype": "text/x-python",
   "name": "python",
   "nbconvert_exporter": "python",
   "pygments_lexer": "ipython3",
   "version": "3.13.1"
  }
 },
 "nbformat": 4,
 "nbformat_minor": 5
}
