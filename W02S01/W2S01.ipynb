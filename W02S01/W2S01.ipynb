{
 "cells": [
  {
   "cell_type": "code",
   "execution_count": null,
   "id": "6db2b95f-a617-4069-9922-53152edf3bff",
   "metadata": {},
   "outputs": [],
   "source": [
    "# tuples\n",
    "# an odered collection\n",
    "# indexing\n",
    "# limitations:\n",
    "# unchangeable once its declared"
   ]
  },
  {
   "cell_type": "code",
   "execution_count": 1,
   "id": "caff7466-a17d-4e5a-8ba7-174d6ea2f724",
   "metadata": {},
   "outputs": [],
   "source": [
    "t = ()"
   ]
  },
  {
   "cell_type": "code",
   "execution_count": 2,
   "id": "218f1b95-94f3-4db5-8e52-e23a77211fb1",
   "metadata": {},
   "outputs": [],
   "source": [
    "t1 = tuple()"
   ]
  },
  {
   "cell_type": "code",
   "execution_count": 3,
   "id": "989f536b-8ae9-4a84-86bc-14135840d1fb",
   "metadata": {},
   "outputs": [],
   "source": [
    "t = (1,)"
   ]
  },
  {
   "cell_type": "code",
   "execution_count": 4,
   "id": "b5849c4b-f2ba-4f75-9a82-b1461ecd8a2d",
   "metadata": {},
   "outputs": [
    {
     "data": {
      "text/plain": [
       "1"
      ]
     },
     "execution_count": 4,
     "metadata": {},
     "output_type": "execute_result"
    }
   ],
   "source": [
    "t[0]"
   ]
  },
  {
   "cell_type": "code",
   "execution_count": 5,
   "id": "9d410cb6-fe48-4513-8487-8985db308dd0",
   "metadata": {},
   "outputs": [
    {
     "ename": "IndexError",
     "evalue": "tuple index out of range",
     "output_type": "error",
     "traceback": [
      "\u001b[1;31m---------------------------------------------------------------------------\u001b[0m",
      "\u001b[1;31mIndexError\u001b[0m                                Traceback (most recent call last)",
      "Cell \u001b[1;32mIn[5], line 1\u001b[0m\n\u001b[1;32m----> 1\u001b[0m \u001b[43mt\u001b[49m\u001b[43m[\u001b[49m\u001b[38;5;241;43m1\u001b[39;49m\u001b[43m]\u001b[49m\n",
      "\u001b[1;31mIndexError\u001b[0m: tuple index out of range"
     ]
    }
   ],
   "source": [
    "t[1]"
   ]
  },
  {
   "cell_type": "code",
   "execution_count": 6,
   "id": "485f9967-3147-4627-90da-ccbc2b0fecbe",
   "metadata": {},
   "outputs": [],
   "source": [
    "t = (5)"
   ]
  },
  {
   "cell_type": "code",
   "execution_count": 7,
   "id": "595c609d-ba88-4a85-9ff6-831ddbe967e7",
   "metadata": {},
   "outputs": [
    {
     "name": "stdout",
     "output_type": "stream",
     "text": [
      "5\n"
     ]
    }
   ],
   "source": [
    "print(t)"
   ]
  },
  {
   "cell_type": "code",
   "execution_count": 8,
   "id": "7a66f1ba-fe53-4f17-b56c-6b5c0ffe8d39",
   "metadata": {},
   "outputs": [
    {
     "name": "stdout",
     "output_type": "stream",
     "text": [
      "[5]\n"
     ]
    }
   ],
   "source": [
    "l = [5]\n",
    "print(l)"
   ]
  },
  {
   "cell_type": "code",
   "execution_count": 9,
   "id": "72a550ae-e13a-42fd-aa0f-6ce57eeea014",
   "metadata": {},
   "outputs": [],
   "source": [
    "t2 = (1, 1, 1, 2, 5, 8)"
   ]
  },
  {
   "cell_type": "code",
   "execution_count": 10,
   "id": "89ac9039-e4f0-4c99-b9cb-cd61ef7cea36",
   "metadata": {},
   "outputs": [
    {
     "data": {
      "text/plain": [
       "(1, 1, 1, 2, 5, 8)"
      ]
     },
     "execution_count": 10,
     "metadata": {},
     "output_type": "execute_result"
    }
   ],
   "source": [
    "t2"
   ]
  },
  {
   "cell_type": "code",
   "execution_count": 11,
   "id": "097be358-d3bb-4ffc-a1bb-184b0db83220",
   "metadata": {},
   "outputs": [
    {
     "data": {
      "text/plain": [
       "1"
      ]
     },
     "execution_count": 11,
     "metadata": {},
     "output_type": "execute_result"
    }
   ],
   "source": [
    "t2[2]"
   ]
  },
  {
   "cell_type": "code",
   "execution_count": 12,
   "id": "b6cde0eb-b34a-43ec-a83e-8bb3c5c16781",
   "metadata": {},
   "outputs": [
    {
     "data": {
      "text/plain": [
       "2"
      ]
     },
     "execution_count": 12,
     "metadata": {},
     "output_type": "execute_result"
    }
   ],
   "source": [
    "t2[3]"
   ]
  },
  {
   "cell_type": "code",
   "execution_count": 13,
   "id": "ff739b56-2cc4-47f2-ac47-94b1d64fad49",
   "metadata": {},
   "outputs": [
    {
     "data": {
      "text/plain": [
       "5"
      ]
     },
     "execution_count": 13,
     "metadata": {},
     "output_type": "execute_result"
    }
   ],
   "source": [
    "t2[-2]"
   ]
  },
  {
   "cell_type": "code",
   "execution_count": 14,
   "id": "b69c545b-a63e-4af5-9955-2453dc0852f4",
   "metadata": {},
   "outputs": [],
   "source": [
    "t3 = (8, \"Vijay\", None, 6 + 5j)"
   ]
  },
  {
   "cell_type": "code",
   "execution_count": 16,
   "id": "5866134a-5e8f-49f5-bb71-8f93f8743435",
   "metadata": {},
   "outputs": [
    {
     "data": {
      "text/plain": [
       "(6+5j)"
      ]
     },
     "execution_count": 16,
     "metadata": {},
     "output_type": "execute_result"
    }
   ],
   "source": [
    "t3[-1]"
   ]
  },
  {
   "cell_type": "code",
   "execution_count": 17,
   "id": "352d2c00-70c2-4d72-9133-ee1b916756e8",
   "metadata": {},
   "outputs": [],
   "source": [
    "l = [8, \"Vijay\", None, 6 + 5j]"
   ]
  },
  {
   "cell_type": "code",
   "execution_count": 18,
   "id": "4ef6e86f-5a50-4105-a99e-4d858319c707",
   "metadata": {},
   "outputs": [],
   "source": [
    "l.append(\"Ajay\")"
   ]
  },
  {
   "cell_type": "code",
   "execution_count": 19,
   "id": "2af58eec-c611-45cf-ac9b-a79b72ed4dd1",
   "metadata": {},
   "outputs": [
    {
     "name": "stdout",
     "output_type": "stream",
     "text": [
      "[8, 'Vijay', None, (6+5j), 'Ajay']\n"
     ]
    }
   ],
   "source": [
    "print(l)"
   ]
  },
  {
   "cell_type": "code",
   "execution_count": 20,
   "id": "b0dc854b-2e33-41ba-b050-1cbc4cfcf721",
   "metadata": {
    "collapsed": true,
    "jupyter": {
     "outputs_hidden": true
    },
    "scrolled": true
   },
   "outputs": [
    {
     "name": "stdout",
     "output_type": "stream",
     "text": [
      "Help on class tuple in module builtins:\n",
      "\n",
      "class tuple(object)\n",
      " |  tuple(iterable=(), /)\n",
      " |\n",
      " |  Built-in immutable sequence.\n",
      " |\n",
      " |  If no argument is given, the constructor returns an empty tuple.\n",
      " |  If iterable is specified the tuple is initialized from iterable's items.\n",
      " |\n",
      " |  If the argument is a tuple, the return value is the same object.\n",
      " |\n",
      " |  Built-in subclasses:\n",
      " |      asyncgen_hooks\n",
      " |      UnraisableHookArgs\n",
      " |\n",
      " |  Methods defined here:\n",
      " |\n",
      " |  __add__(self, value, /)\n",
      " |      Return self+value.\n",
      " |\n",
      " |  __contains__(self, key, /)\n",
      " |      Return bool(key in self).\n",
      " |\n",
      " |  __eq__(self, value, /)\n",
      " |      Return self==value.\n",
      " |\n",
      " |  __ge__(self, value, /)\n",
      " |      Return self>=value.\n",
      " |\n",
      " |  __getattribute__(self, name, /)\n",
      " |      Return getattr(self, name).\n",
      " |\n",
      " |  __getitem__(self, key, /)\n",
      " |      Return self[key].\n",
      " |\n",
      " |  __getnewargs__(self, /)\n",
      " |\n",
      " |  __gt__(self, value, /)\n",
      " |      Return self>value.\n",
      " |\n",
      " |  __hash__(self, /)\n",
      " |      Return hash(self).\n",
      " |\n",
      " |  __iter__(self, /)\n",
      " |      Implement iter(self).\n",
      " |\n",
      " |  __le__(self, value, /)\n",
      " |      Return self<=value.\n",
      " |\n",
      " |  __len__(self, /)\n",
      " |      Return len(self).\n",
      " |\n",
      " |  __lt__(self, value, /)\n",
      " |      Return self<value.\n",
      " |\n",
      " |  __mul__(self, value, /)\n",
      " |      Return self*value.\n",
      " |\n",
      " |  __ne__(self, value, /)\n",
      " |      Return self!=value.\n",
      " |\n",
      " |  __repr__(self, /)\n",
      " |      Return repr(self).\n",
      " |\n",
      " |  __rmul__(self, value, /)\n",
      " |      Return value*self.\n",
      " |\n",
      " |  count(self, value, /)\n",
      " |      Return number of occurrences of value.\n",
      " |\n",
      " |  index(self, value, start=0, stop=9223372036854775807, /)\n",
      " |      Return first index of value.\n",
      " |\n",
      " |      Raises ValueError if the value is not present.\n",
      " |\n",
      " |  ----------------------------------------------------------------------\n",
      " |  Class methods defined here:\n",
      " |\n",
      " |  __class_getitem__(object, /)\n",
      " |      See PEP 585\n",
      " |\n",
      " |  ----------------------------------------------------------------------\n",
      " |  Static methods defined here:\n",
      " |\n",
      " |  __new__(*args, **kwargs)\n",
      " |      Create and return a new object.  See help(type) for accurate signature.\n",
      "\n"
     ]
    }
   ],
   "source": [
    "help(tuple)"
   ]
  },
  {
   "cell_type": "code",
   "execution_count": 21,
   "id": "f47616d0-4ab7-43d4-b585-9506c57892c3",
   "metadata": {},
   "outputs": [
    {
     "data": {
      "text/plain": [
       "3"
      ]
     },
     "execution_count": 21,
     "metadata": {},
     "output_type": "execute_result"
    }
   ],
   "source": [
    "t2.count(1)"
   ]
  },
  {
   "cell_type": "code",
   "execution_count": 22,
   "id": "01e4de96-3dc2-4316-a684-1b0bdf286940",
   "metadata": {},
   "outputs": [
    {
     "data": {
      "text/plain": [
       "1"
      ]
     },
     "execution_count": 22,
     "metadata": {},
     "output_type": "execute_result"
    }
   ],
   "source": [
    "t3.index(\"Vijay\")"
   ]
  },
  {
   "cell_type": "code",
   "execution_count": 23,
   "id": "16a48cc1-c375-4f92-9786-c90961a4efdb",
   "metadata": {},
   "outputs": [],
   "source": [
    "index = t3.index(\"Vijay\")"
   ]
  },
  {
   "cell_type": "code",
   "execution_count": 24,
   "id": "4f11339d-fc5d-4863-ab36-a190cad512a5",
   "metadata": {},
   "outputs": [
    {
     "data": {
      "text/plain": [
       "'Vijay'"
      ]
     },
     "execution_count": 24,
     "metadata": {},
     "output_type": "execute_result"
    }
   ],
   "source": [
    "t3[index]"
   ]
  },
  {
   "cell_type": "code",
   "execution_count": 25,
   "id": "d19d4e4a-d578-4cdf-8561-9c1d992a5020",
   "metadata": {},
   "outputs": [
    {
     "ename": "AttributeError",
     "evalue": "'tuple' object has no attribute 'append'",
     "output_type": "error",
     "traceback": [
      "\u001b[1;31m---------------------------------------------------------------------------\u001b[0m",
      "\u001b[1;31mAttributeError\u001b[0m                            Traceback (most recent call last)",
      "Cell \u001b[1;32mIn[25], line 1\u001b[0m\n\u001b[1;32m----> 1\u001b[0m \u001b[43mt3\u001b[49m\u001b[38;5;241;43m.\u001b[39;49m\u001b[43mappend\u001b[49m(\u001b[38;5;124m\"\u001b[39m\u001b[38;5;124mEdyoda\u001b[39m\u001b[38;5;124m\"\u001b[39m)\n",
      "\u001b[1;31mAttributeError\u001b[0m: 'tuple' object has no attribute 'append'"
     ]
    }
   ],
   "source": [
    "t3.append(\"Edyoda\")"
   ]
  },
  {
   "cell_type": "code",
   "execution_count": 26,
   "id": "cf9401db-4495-48ff-add6-ad19f06723f5",
   "metadata": {},
   "outputs": [],
   "source": [
    "table = [(\"id\", \"Name\", \"Roll\")]"
   ]
  },
  {
   "cell_type": "code",
   "execution_count": 27,
   "id": "eb729890-0338-4b39-8f52-17ae55377a7d",
   "metadata": {},
   "outputs": [],
   "source": [
    "table.append((125, \"Vijay\", \"01\"))"
   ]
  },
  {
   "cell_type": "code",
   "execution_count": 28,
   "id": "1fe1ce41-c8b5-4a32-81cc-51ab989022fa",
   "metadata": {},
   "outputs": [
    {
     "data": {
      "text/plain": [
       "[('id', 'Name', 'Roll'), (125, 'Vijay', '01')]"
      ]
     },
     "execution_count": 28,
     "metadata": {},
     "output_type": "execute_result"
    }
   ],
   "source": [
    "table"
   ]
  },
  {
   "cell_type": "code",
   "execution_count": 29,
   "id": "ea629ac4-f4e6-4fd1-87af-0dac2027a8a2",
   "metadata": {},
   "outputs": [
    {
     "ename": "TypeError",
     "evalue": "can only concatenate list (not \"int\") to list",
     "output_type": "error",
     "traceback": [
      "\u001b[1;31m---------------------------------------------------------------------------\u001b[0m",
      "\u001b[1;31mTypeError\u001b[0m                                 Traceback (most recent call last)",
      "Cell \u001b[1;32mIn[29], line 1\u001b[0m\n\u001b[1;32m----> 1\u001b[0m t \u001b[38;5;241m=\u001b[39m \u001b[43m[\u001b[49m\u001b[38;5;241;43m5\u001b[39;49m\u001b[43m]\u001b[49m\u001b[43m \u001b[49m\u001b[38;5;241;43m+\u001b[39;49m\u001b[43m \u001b[49m\u001b[38;5;241;43m5\u001b[39;49m\n",
      "\u001b[1;31mTypeError\u001b[0m: can only concatenate list (not \"int\") to list"
     ]
    }
   ],
   "source": [
    "t = [5] + 5"
   ]
  },
  {
   "cell_type": "code",
   "execution_count": 30,
   "id": "0d488b3f-82f9-4efe-b6a7-99f90715eac3",
   "metadata": {},
   "outputs": [
    {
     "data": {
      "text/plain": [
       "23"
      ]
     },
     "execution_count": 30,
     "metadata": {},
     "output_type": "execute_result"
    }
   ],
   "source": [
    "5 + (9 * 2)"
   ]
  },
  {
   "cell_type": "code",
   "execution_count": 31,
   "id": "5f830af7-425a-4689-8554-b270e09a1cdf",
   "metadata": {},
   "outputs": [
    {
     "ename": "TypeError",
     "evalue": "unsupported operand type(s) for +: 'int' and 'tuple'",
     "output_type": "error",
     "traceback": [
      "\u001b[1;31m---------------------------------------------------------------------------\u001b[0m",
      "\u001b[1;31mTypeError\u001b[0m                                 Traceback (most recent call last)",
      "Cell \u001b[1;32mIn[31], line 1\u001b[0m\n\u001b[1;32m----> 1\u001b[0m \u001b[38;5;241;43m5\u001b[39;49m\u001b[43m \u001b[49m\u001b[38;5;241;43m+\u001b[39;49m\u001b[43m \u001b[49m\u001b[43m(\u001b[49m\u001b[38;5;241;43m9\u001b[39;49m\u001b[43m \u001b[49m\u001b[38;5;241;43m*\u001b[39;49m\u001b[43m \u001b[49m\u001b[38;5;241;43m2\u001b[39;49m\u001b[43m,\u001b[49m\u001b[43m)\u001b[49m\n",
      "\u001b[1;31mTypeError\u001b[0m: unsupported operand type(s) for +: 'int' and 'tuple'"
     ]
    }
   ],
   "source": [
    "5 + (9 * 2,)"
   ]
  },
  {
   "cell_type": "code",
   "execution_count": 32,
   "id": "74971648-42b1-47ea-affe-40e2079df1bd",
   "metadata": {},
   "outputs": [],
   "source": [
    "s = \"jhaube\""
   ]
  },
  {
   "cell_type": "code",
   "execution_count": 33,
   "id": "74d21bf5-7c40-433a-8749-bd5b4d0c3d03",
   "metadata": {},
   "outputs": [
    {
     "data": {
      "text/plain": [
       "'e'"
      ]
     },
     "execution_count": 33,
     "metadata": {},
     "output_type": "execute_result"
    }
   ],
   "source": [
    "s[5]"
   ]
  },
  {
   "cell_type": "code",
   "execution_count": 37,
   "id": "614f7c51-6079-4616-8c1c-faceff16ae7d",
   "metadata": {},
   "outputs": [
    {
     "name": "stdout",
     "output_type": "stream",
     "text": [
      "2280115869760\n",
      "[1, 4, 7]\n",
      "2280116011072\n"
     ]
    }
   ],
   "source": [
    "l = [5, 8, 9, 5, 1, 4, 7]\n",
    "print(id(l))\n",
    "print(l[4:])\n",
    "print(id(l[4:]))"
   ]
  },
  {
   "cell_type": "code",
   "execution_count": 38,
   "id": "5771be0a-53fe-4e83-beaa-21625132433d",
   "metadata": {},
   "outputs": [],
   "source": [
    "# syntax of slicing\n",
    "# list_va[start index: end index] --> it gives end_index-start_index"
   ]
  },
  {
   "cell_type": "code",
   "execution_count": 39,
   "id": "b8b8df9c-8ad2-45a2-8aa8-6b64487acc64",
   "metadata": {},
   "outputs": [
    {
     "data": {
      "text/plain": [
       "[5, 8, 9, 5, 1, 4]"
      ]
     },
     "execution_count": 39,
     "metadata": {},
     "output_type": "execute_result"
    }
   ],
   "source": [
    "l[0:6]"
   ]
  },
  {
   "cell_type": "code",
   "execution_count": 40,
   "id": "825f3158-e056-484c-9c08-5b5bb3755408",
   "metadata": {},
   "outputs": [
    {
     "data": {
      "text/plain": [
       "[8, 9, 5, 1, 4]"
      ]
     },
     "execution_count": 40,
     "metadata": {},
     "output_type": "execute_result"
    }
   ],
   "source": [
    "l[1:6]"
   ]
  },
  {
   "cell_type": "code",
   "execution_count": 41,
   "id": "a9eff38e-47b7-4684-9ba4-4d0c7daaecd2",
   "metadata": {},
   "outputs": [
    {
     "data": {
      "text/plain": [
       "'jhaube'"
      ]
     },
     "execution_count": 41,
     "metadata": {},
     "output_type": "execute_result"
    }
   ],
   "source": [
    "s"
   ]
  },
  {
   "cell_type": "code",
   "execution_count": 42,
   "id": "cef891bb-22f8-435c-9e01-2c0d142c496c",
   "metadata": {},
   "outputs": [
    {
     "data": {
      "text/plain": [
       "'haube'"
      ]
     },
     "execution_count": 42,
     "metadata": {},
     "output_type": "execute_result"
    }
   ],
   "source": [
    "s[1:]"
   ]
  },
  {
   "cell_type": "code",
   "execution_count": 43,
   "id": "68898648-1c68-4f71-9175-079be6b4eb0e",
   "metadata": {},
   "outputs": [
    {
     "data": {
      "text/plain": [
       "'jh'"
      ]
     },
     "execution_count": 43,
     "metadata": {},
     "output_type": "execute_result"
    }
   ],
   "source": [
    "s[:2]"
   ]
  },
  {
   "cell_type": "code",
   "execution_count": 44,
   "id": "07ff6e56-90ce-4df0-b576-2256440e9748",
   "metadata": {},
   "outputs": [],
   "source": [
    "s = \"i am String\""
   ]
  },
  {
   "cell_type": "code",
   "execution_count": 45,
   "id": "0bd988b1-9e09-4e46-af07-0d9df06df2bc",
   "metadata": {},
   "outputs": [
    {
     "ename": "AttributeError",
     "evalue": "'str' object has no attribute 'append'",
     "output_type": "error",
     "traceback": [
      "\u001b[1;31m---------------------------------------------------------------------------\u001b[0m",
      "\u001b[1;31mAttributeError\u001b[0m                            Traceback (most recent call last)",
      "Cell \u001b[1;32mIn[45], line 1\u001b[0m\n\u001b[1;32m----> 1\u001b[0m \u001b[43ms\u001b[49m\u001b[38;5;241;43m.\u001b[39;49m\u001b[43mappend\u001b[49m(\u001b[38;5;124m\"\u001b[39m\u001b[38;5;124mk\u001b[39m\u001b[38;5;124m\"\u001b[39m)\n",
      "\u001b[1;31mAttributeError\u001b[0m: 'str' object has no attribute 'append'"
     ]
    }
   ],
   "source": [
    "s.append(\"k\")"
   ]
  },
  {
   "cell_type": "code",
   "execution_count": 46,
   "id": "93bcdf84-07f0-448f-9908-d30ff244ca19",
   "metadata": {},
   "outputs": [],
   "source": [
    "s = s + \" Vijay\""
   ]
  },
  {
   "cell_type": "code",
   "execution_count": 47,
   "id": "d76c5925-54ca-4b66-84a0-85baff34edf0",
   "metadata": {},
   "outputs": [
    {
     "data": {
      "text/plain": [
       "'i am String Vijay'"
      ]
     },
     "execution_count": 47,
     "metadata": {},
     "output_type": "execute_result"
    }
   ],
   "source": [
    "s"
   ]
  },
  {
   "cell_type": "code",
   "execution_count": 48,
   "id": "5c5829aa-857f-431c-9262-839670e72a0e",
   "metadata": {},
   "outputs": [],
   "source": [
    "s = \"l\" * 5"
   ]
  },
  {
   "cell_type": "code",
   "execution_count": 49,
   "id": "e3835e80-8ade-4d8c-b6fb-12dd241ff47a",
   "metadata": {},
   "outputs": [
    {
     "data": {
      "text/plain": [
       "'lllll'"
      ]
     },
     "execution_count": 49,
     "metadata": {},
     "output_type": "execute_result"
    }
   ],
   "source": [
    "s"
   ]
  },
  {
   "cell_type": "code",
   "execution_count": 50,
   "id": "4a33c88c-bf91-4cbe-a1ef-ebe4473b7362",
   "metadata": {},
   "outputs": [],
   "source": [
    "l = [0] * 5"
   ]
  },
  {
   "cell_type": "code",
   "execution_count": 51,
   "id": "6595356d-ff5c-4dc5-b075-bc3983ed8038",
   "metadata": {},
   "outputs": [
    {
     "name": "stdout",
     "output_type": "stream",
     "text": [
      "[0, 0, 0, 0, 0]\n"
     ]
    }
   ],
   "source": [
    "print(l)"
   ]
  },
  {
   "cell_type": "code",
   "execution_count": 52,
   "id": "d550b2fb-675f-4ddf-94fb-c7a612cb2723",
   "metadata": {},
   "outputs": [],
   "source": [
    "l = [[0] * 5] * 2"
   ]
  },
  {
   "cell_type": "code",
   "execution_count": 53,
   "id": "d21da657-b3e4-410e-94f1-f357fc291fa8",
   "metadata": {},
   "outputs": [
    {
     "name": "stdout",
     "output_type": "stream",
     "text": [
      "[[0, 0, 0, 0, 0], [0, 0, 0, 0, 0]]\n"
     ]
    }
   ],
   "source": [
    "print(l)"
   ]
  },
  {
   "cell_type": "code",
   "execution_count": 54,
   "id": "7bd73692-89f8-439c-b261-476ba19100b3",
   "metadata": {},
   "outputs": [],
   "source": [
    "j = [[67, 54, 23, 6, 4], [\"V\", \"k\", 9, 7, 6]]"
   ]
  },
  {
   "cell_type": "code",
   "execution_count": 55,
   "id": "1a73d9a4-da27-4106-8a24-5668a3c68fca",
   "metadata": {},
   "outputs": [
    {
     "data": {
      "text/plain": [
       "'k'"
      ]
     },
     "execution_count": 55,
     "metadata": {},
     "output_type": "execute_result"
    }
   ],
   "source": [
    "j[1][1]"
   ]
  },
  {
   "cell_type": "code",
   "execution_count": 56,
   "id": "5f462029-01fe-4bf9-b889-4f32e4af6f04",
   "metadata": {},
   "outputs": [
    {
     "data": {
      "text/plain": [
       "'kunal'"
      ]
     },
     "execution_count": 56,
     "metadata": {},
     "output_type": "execute_result"
    }
   ],
   "source": [
    "\"kunal\""
   ]
  },
  {
   "cell_type": "code",
   "execution_count": 57,
   "id": "bf0f8d8f-f258-4d39-bc0f-ca849e8465de",
   "metadata": {},
   "outputs": [
    {
     "data": {
      "text/plain": [
       "list"
      ]
     },
     "execution_count": 57,
     "metadata": {},
     "output_type": "execute_result"
    }
   ],
   "source": [
    "type(j)"
   ]
  },
  {
   "cell_type": "code",
   "execution_count": 58,
   "id": "1f275f73-f088-4097-b518-2ebf5d56f2c8",
   "metadata": {},
   "outputs": [
    {
     "name": "stdout",
     "output_type": "stream",
     "text": [
      "<class 'list'>\n"
     ]
    }
   ],
   "source": [
    "print(type(j))"
   ]
  },
  {
   "cell_type": "code",
   "execution_count": 59,
   "id": "d8c3e132-bd92-4c08-8d39-d8f3289dc9f1",
   "metadata": {},
   "outputs": [],
   "source": [
    "l = None"
   ]
  },
  {
   "cell_type": "code",
   "execution_count": 60,
   "id": "0a36c3c5-5671-4439-aa04-26e55cc39519",
   "metadata": {},
   "outputs": [],
   "source": [
    "l"
   ]
  },
  {
   "cell_type": "code",
   "execution_count": 61,
   "id": "b4719e7a-ab16-49cf-a19c-9266f0d45d51",
   "metadata": {},
   "outputs": [
    {
     "name": "stdout",
     "output_type": "stream",
     "text": [
      "None\n"
     ]
    }
   ],
   "source": [
    "print(l)"
   ]
  },
  {
   "cell_type": "code",
   "execution_count": 62,
   "id": "a7251ac4-ab7c-46ff-85b6-e0c35c672d99",
   "metadata": {},
   "outputs": [],
   "source": [
    "# sets"
   ]
  },
  {
   "cell_type": "code",
   "execution_count": 63,
   "id": "c1bbd4c3-906f-413a-83a3-dd7b4ac56cec",
   "metadata": {},
   "outputs": [],
   "source": [
    "s = set()"
   ]
  },
  {
   "cell_type": "code",
   "execution_count": 64,
   "id": "4c876dc7-7558-4c35-a459-0b0209107019",
   "metadata": {},
   "outputs": [],
   "source": [
    "s = {5}"
   ]
  },
  {
   "cell_type": "code",
   "execution_count": 66,
   "id": "d19304fd-9a9a-431d-bdb6-f9bc6c394918",
   "metadata": {},
   "outputs": [
    {
     "name": "stdout",
     "output_type": "stream",
     "text": [
      "<class 'set'>\n"
     ]
    }
   ],
   "source": [
    "print(type(s))"
   ]
  },
  {
   "cell_type": "code",
   "execution_count": 67,
   "id": "e4fe6e2d-f121-4159-a8a9-75e73b8f0e25",
   "metadata": {},
   "outputs": [
    {
     "name": "stdout",
     "output_type": "stream",
     "text": [
      "<class 'dict'>\n"
     ]
    }
   ],
   "source": [
    "d = {}\n",
    "print(type(d))"
   ]
  },
  {
   "cell_type": "code",
   "execution_count": 68,
   "id": "0d3c4744-6bd1-4930-9eea-55c10f3b3ff2",
   "metadata": {},
   "outputs": [],
   "source": [
    "s1 = {5, 8, 9}"
   ]
  },
  {
   "cell_type": "code",
   "execution_count": 69,
   "id": "569fc7d4-8b9f-4d3d-a199-c9fb1f5ab96c",
   "metadata": {},
   "outputs": [],
   "source": [
    "s1 = {\"Ajay\", \"Vijay\", 55, None}"
   ]
  },
  {
   "cell_type": "code",
   "execution_count": 70,
   "id": "f86b6da8-1d44-4376-85c3-6a97ce8aedbd",
   "metadata": {},
   "outputs": [
    {
     "name": "stdout",
     "output_type": "stream",
     "text": [
      "{'Ajay', None, 55, 'Vijay'}\n"
     ]
    }
   ],
   "source": [
    "print(s1)"
   ]
  },
  {
   "cell_type": "code",
   "execution_count": 71,
   "id": "85fbb1f0-fc97-4afe-b62b-a570c69de14e",
   "metadata": {},
   "outputs": [],
   "source": [
    "# set doesnot support indexing"
   ]
  },
  {
   "cell_type": "code",
   "execution_count": 72,
   "id": "81bb3e9c-d8ce-44fc-af36-76172786c664",
   "metadata": {},
   "outputs": [
    {
     "name": "stdout",
     "output_type": "stream",
     "text": [
      "Ajay\n",
      "None\n",
      "55\n",
      "Vijay\n"
     ]
    }
   ],
   "source": [
    "for val in s1:\n",
    "    print(val)"
   ]
  },
  {
   "cell_type": "code",
   "execution_count": 73,
   "id": "d8842e40-3362-4216-939a-dde87d27a20f",
   "metadata": {},
   "outputs": [
    {
     "name": "stdout",
     "output_type": "stream",
     "text": [
      "{'Ajay', None, 55, 'Vijay'}\n",
      "{'Ajay', None, 55, 'Vijay'}\n",
      "{'Ajay', None, 55, 'Vijay'}\n"
     ]
    }
   ],
   "source": [
    "print(s1)\n",
    "print(s1)\n",
    "print(s1)"
   ]
  },
  {
   "cell_type": "code",
   "execution_count": 74,
   "id": "4d706b55-3fe0-44fa-9427-abdea4d489e8",
   "metadata": {},
   "outputs": [
    {
     "data": {
      "text/plain": [
       "True"
      ]
     },
     "execution_count": 74,
     "metadata": {},
     "output_type": "execute_result"
    }
   ],
   "source": [
    "# membership operator\n",
    "\"Ajay\" in s1"
   ]
  },
  {
   "cell_type": "code",
   "execution_count": 75,
   "id": "86ec4181-b12a-43b2-b30d-58d81f578b2b",
   "metadata": {},
   "outputs": [
    {
     "data": {
      "text/plain": [
       "False"
      ]
     },
     "execution_count": 75,
     "metadata": {},
     "output_type": "execute_result"
    }
   ],
   "source": [
    "\"Vjay\" in s1"
   ]
  },
  {
   "cell_type": "code",
   "execution_count": 77,
   "id": "daff60a4-ff3d-4ac8-9206-a94b701c26c8",
   "metadata": {},
   "outputs": [
    {
     "name": "stdout",
     "output_type": "stream",
     "text": [
      "(1, 1, 1, 2, 5, 8)\n"
     ]
    }
   ],
   "source": [
    "t2 = (1, 1, 1, 2, 5, 8)\n",
    "print(t2)"
   ]
  },
  {
   "cell_type": "code",
   "execution_count": 78,
   "id": "6d12d1bd-c50d-437b-8bbb-2dbae1d66772",
   "metadata": {},
   "outputs": [
    {
     "name": "stdout",
     "output_type": "stream",
     "text": [
      "{8, 1, 2, 5}\n"
     ]
    }
   ],
   "source": [
    "s2 = {1, 1, 1, 2, 5, 8}\n",
    "print(s2)"
   ]
  },
  {
   "cell_type": "markdown",
   "id": "1663ffe2-467c-4b7c-a274-18e0d882e028",
   "metadata": {},
   "source": [
    "# collection of keys"
   ]
  },
  {
   "cell_type": "code",
   "execution_count": 80,
   "id": "6097a6da-7543-460f-b9e0-25289390dcf2",
   "metadata": {},
   "outputs": [
    {
     "ename": "TypeError",
     "evalue": "unhashable type: 'list'",
     "output_type": "error",
     "traceback": [
      "\u001b[1;31m---------------------------------------------------------------------------\u001b[0m",
      "\u001b[1;31mTypeError\u001b[0m                                 Traceback (most recent call last)",
      "Cell \u001b[1;32mIn[80], line 1\u001b[0m\n\u001b[1;32m----> 1\u001b[0m s3 \u001b[38;5;241m=\u001b[39m {[\u001b[38;5;241m2\u001b[39m,\u001b[38;5;241m8\u001b[39m], \u001b[38;5;241m5\u001b[39m, \u001b[38;5;124m\"\u001b[39m\u001b[38;5;124mk\u001b[39m\u001b[38;5;124m\"\u001b[39m}\n",
      "\u001b[1;31mTypeError\u001b[0m: unhashable type: 'list'"
     ]
    }
   ],
   "source": [
    "s3 = {[2,8], 5, \"k\"}"
   ]
  },
  {
   "cell_type": "code",
   "execution_count": 81,
   "id": "9d7ae52d-71f9-4c81-a029-f142b7091c40",
   "metadata": {},
   "outputs": [],
   "source": [
    "# it stores only immutable objects"
   ]
  },
  {
   "cell_type": "code",
   "execution_count": 83,
   "id": "aae14680-1f80-478e-a8c6-2347c9cb9a6c",
   "metadata": {},
   "outputs": [
    {
     "name": "stdout",
     "output_type": "stream",
     "text": [
      "{8, (5, 8, 9), 'correct'}\n"
     ]
    }
   ],
   "source": [
    "s4 = {(5, 8, 9), 8, \"correct\"}\n",
    "print(s4)"
   ]
  },
  {
   "cell_type": "code",
   "execution_count": 84,
   "id": "4df2f1ce-422e-4aed-80dc-b235755d73b0",
   "metadata": {},
   "outputs": [],
   "source": [
    "# addition of values to the set"
   ]
  },
  {
   "cell_type": "code",
   "execution_count": 85,
   "id": "990507de-9270-4990-8509-2d8f15281faf",
   "metadata": {},
   "outputs": [],
   "source": [
    "set_1 = set()"
   ]
  },
  {
   "cell_type": "code",
   "execution_count": 86,
   "id": "dca5845f-0427-48be-9f4e-f3907538c7df",
   "metadata": {},
   "outputs": [
    {
     "name": "stdout",
     "output_type": "stream",
     "text": [
      "set()\n"
     ]
    }
   ],
   "source": [
    "print(set_1)"
   ]
  },
  {
   "cell_type": "code",
   "execution_count": 87,
   "id": "3cf3a137-b798-409b-b970-51df8d7d52e3",
   "metadata": {},
   "outputs": [],
   "source": [
    "set_1.add(\"India is great\")"
   ]
  },
  {
   "cell_type": "code",
   "execution_count": 88,
   "id": "768f784e-333e-40c0-b8a5-7d2d72120b93",
   "metadata": {},
   "outputs": [
    {
     "name": "stdout",
     "output_type": "stream",
     "text": [
      "{'India is great'}\n"
     ]
    }
   ],
   "source": [
    "print(set_1)"
   ]
  },
  {
   "cell_type": "code",
   "execution_count": 89,
   "id": "711f3e79-c009-47eb-8585-e33eec68048c",
   "metadata": {},
   "outputs": [],
   "source": [
    "set_1.add(57)"
   ]
  },
  {
   "cell_type": "code",
   "execution_count": 90,
   "id": "fb7a7562-9a42-40e2-8449-1af18246d1d0",
   "metadata": {},
   "outputs": [],
   "source": [
    "set_1.add(5 + 6j)"
   ]
  },
  {
   "cell_type": "code",
   "execution_count": 91,
   "id": "f9016ba0-230e-457d-ba6a-fa81625c8fb8",
   "metadata": {},
   "outputs": [
    {
     "data": {
      "text/plain": [
       "{(5+6j), 57, 'India is great'}"
      ]
     },
     "execution_count": 91,
     "metadata": {},
     "output_type": "execute_result"
    }
   ],
   "source": [
    "set_1"
   ]
  },
  {
   "cell_type": "code",
   "execution_count": 92,
   "id": "48133b98-3e61-4d59-8988-020c43d1c640",
   "metadata": {},
   "outputs": [
    {
     "name": "stdout",
     "output_type": "stream",
     "text": [
      "{57, 'India is great', (5+6j)}\n"
     ]
    }
   ],
   "source": [
    "print(set_1)"
   ]
  },
  {
   "cell_type": "code",
   "execution_count": 93,
   "id": "790ed426-2c91-4d41-95ce-919a2234472a",
   "metadata": {},
   "outputs": [
    {
     "name": "stdout",
     "output_type": "stream",
     "text": [
      "{57, 'India is great', (5+6j)}\n"
     ]
    }
   ],
   "source": [
    "print(set_1)"
   ]
  },
  {
   "cell_type": "code",
   "execution_count": 94,
   "id": "4ae5fd47-77cf-4f52-bf9e-1f2be515b972",
   "metadata": {},
   "outputs": [
    {
     "data": {
      "text/plain": [
       "{(5+6j), 57, 'India is great'}"
      ]
     },
     "execution_count": 94,
     "metadata": {},
     "output_type": "execute_result"
    }
   ],
   "source": [
    "set_1"
   ]
  },
  {
   "cell_type": "code",
   "execution_count": 95,
   "id": "c1040a70-f3d1-4484-aa8a-4c3629fad712",
   "metadata": {},
   "outputs": [],
   "source": [
    "s = {5, 9}\n",
    "s.update(set_1)"
   ]
  },
  {
   "cell_type": "code",
   "execution_count": 96,
   "id": "6cdb2308-847a-44b3-b1e4-b7f2348dbdba",
   "metadata": {},
   "outputs": [
    {
     "data": {
      "text/plain": [
       "{(5+6j), 5, 57, 9, 'India is great'}"
      ]
     },
     "execution_count": 96,
     "metadata": {},
     "output_type": "execute_result"
    }
   ],
   "source": [
    "s"
   ]
  },
  {
   "cell_type": "code",
   "execution_count": 97,
   "id": "2af4c96b-d5f8-4b73-a9af-dedf7be4cd8b",
   "metadata": {
    "collapsed": true,
    "jupyter": {
     "outputs_hidden": true
    },
    "scrolled": true
   },
   "outputs": [
    {
     "name": "stdout",
     "output_type": "stream",
     "text": [
      "Help on class set in module builtins:\n",
      "\n",
      "class set(object)\n",
      " |  set(iterable=(), /)\n",
      " |\n",
      " |  Build an unordered collection of unique elements.\n",
      " |\n",
      " |  Methods defined here:\n",
      " |\n",
      " |  __and__(self, value, /)\n",
      " |      Return self&value.\n",
      " |\n",
      " |  __contains__(self, object, /)\n",
      " |      x.__contains__(y) <==> y in x.\n",
      " |\n",
      " |  __eq__(self, value, /)\n",
      " |      Return self==value.\n",
      " |\n",
      " |  __ge__(self, value, /)\n",
      " |      Return self>=value.\n",
      " |\n",
      " |  __getattribute__(self, name, /)\n",
      " |      Return getattr(self, name).\n",
      " |\n",
      " |  __gt__(self, value, /)\n",
      " |      Return self>value.\n",
      " |\n",
      " |  __iand__(self, value, /)\n",
      " |      Return self&=value.\n",
      " |\n",
      " |  __init__(self, /, *args, **kwargs)\n",
      " |      Initialize self.  See help(type(self)) for accurate signature.\n",
      " |\n",
      " |  __ior__(self, value, /)\n",
      " |      Return self|=value.\n",
      " |\n",
      " |  __isub__(self, value, /)\n",
      " |      Return self-=value.\n",
      " |\n",
      " |  __iter__(self, /)\n",
      " |      Implement iter(self).\n",
      " |\n",
      " |  __ixor__(self, value, /)\n",
      " |      Return self^=value.\n",
      " |\n",
      " |  __le__(self, value, /)\n",
      " |      Return self<=value.\n",
      " |\n",
      " |  __len__(self, /)\n",
      " |      Return len(self).\n",
      " |\n",
      " |  __lt__(self, value, /)\n",
      " |      Return self<value.\n",
      " |\n",
      " |  __ne__(self, value, /)\n",
      " |      Return self!=value.\n",
      " |\n",
      " |  __or__(self, value, /)\n",
      " |      Return self|value.\n",
      " |\n",
      " |  __rand__(self, value, /)\n",
      " |      Return value&self.\n",
      " |\n",
      " |  __reduce__(self, /)\n",
      " |      Return state information for pickling.\n",
      " |\n",
      " |  __repr__(self, /)\n",
      " |      Return repr(self).\n",
      " |\n",
      " |  __ror__(self, value, /)\n",
      " |      Return value|self.\n",
      " |\n",
      " |  __rsub__(self, value, /)\n",
      " |      Return value-self.\n",
      " |\n",
      " |  __rxor__(self, value, /)\n",
      " |      Return value^self.\n",
      " |\n",
      " |  __sizeof__(self, /)\n",
      " |      S.__sizeof__() -> size of S in memory, in bytes.\n",
      " |\n",
      " |  __sub__(self, value, /)\n",
      " |      Return self-value.\n",
      " |\n",
      " |  __xor__(self, value, /)\n",
      " |      Return self^value.\n",
      " |\n",
      " |  add(self, object, /)\n",
      " |      Add an element to a set.\n",
      " |\n",
      " |      This has no effect if the element is already present.\n",
      " |\n",
      " |  clear(self, /)\n",
      " |      Remove all elements from this set.\n",
      " |\n",
      " |  copy(self, /)\n",
      " |      Return a shallow copy of a set.\n",
      " |\n",
      " |  difference(self, /, *others)\n",
      " |      Return a new set with elements in the set that are not in the others.\n",
      " |\n",
      " |  difference_update(self, /, *others)\n",
      " |      Update the set, removing elements found in others.\n",
      " |\n",
      " |  discard(self, object, /)\n",
      " |      Remove an element from a set if it is a member.\n",
      " |\n",
      " |      Unlike set.remove(), the discard() method does not raise\n",
      " |      an exception when an element is missing from the set.\n",
      " |\n",
      " |  intersection(self, /, *others)\n",
      " |      Return a new set with elements common to the set and all others.\n",
      " |\n",
      " |  intersection_update(self, /, *others)\n",
      " |      Update the set, keeping only elements found in it and all others.\n",
      " |\n",
      " |  isdisjoint(self, other, /)\n",
      " |      Return True if two sets have a null intersection.\n",
      " |\n",
      " |  issubset(self, other, /)\n",
      " |      Report whether another set contains this set.\n",
      " |\n",
      " |  issuperset(self, other, /)\n",
      " |      Report whether this set contains another set.\n",
      " |\n",
      " |  pop(self, /)\n",
      " |      Remove and return an arbitrary set element.\n",
      " |\n",
      " |      Raises KeyError if the set is empty.\n",
      " |\n",
      " |  remove(self, object, /)\n",
      " |      Remove an element from a set; it must be a member.\n",
      " |\n",
      " |      If the element is not a member, raise a KeyError.\n",
      " |\n",
      " |  symmetric_difference(self, other, /)\n",
      " |      Return a new set with elements in either the set or other but not both.\n",
      " |\n",
      " |  symmetric_difference_update(self, other, /)\n",
      " |      Update the set, keeping only elements found in either set, but not in both.\n",
      " |\n",
      " |  union(self, /, *others)\n",
      " |      Return a new set with elements from the set and all others.\n",
      " |\n",
      " |  update(self, /, *others)\n",
      " |      Update the set, adding elements from all others.\n",
      " |\n",
      " |  ----------------------------------------------------------------------\n",
      " |  Class methods defined here:\n",
      " |\n",
      " |  __class_getitem__(object, /)\n",
      " |      See PEP 585\n",
      " |\n",
      " |  ----------------------------------------------------------------------\n",
      " |  Static methods defined here:\n",
      " |\n",
      " |  __new__(*args, **kwargs)\n",
      " |      Create and return a new object.  See help(type) for accurate signature.\n",
      " |\n",
      " |  ----------------------------------------------------------------------\n",
      " |  Data and other attributes defined here:\n",
      " |\n",
      " |  __hash__ = None\n",
      "\n"
     ]
    }
   ],
   "source": [
    "help(set)"
   ]
  },
  {
   "cell_type": "code",
   "execution_count": 98,
   "id": "ebd831e1-a2ae-4493-9c78-86ff356e323b",
   "metadata": {},
   "outputs": [],
   "source": [
    "s.remove(57)"
   ]
  },
  {
   "cell_type": "code",
   "execution_count": 99,
   "id": "e0ea4563-3ab0-4a67-8da7-c8ae5ac1f30c",
   "metadata": {},
   "outputs": [
    {
     "name": "stdout",
     "output_type": "stream",
     "text": [
      "{5, 'India is great', (5+6j), 9}\n"
     ]
    }
   ],
   "source": [
    "print(s)"
   ]
  },
  {
   "cell_type": "code",
   "execution_count": 100,
   "id": "04825da2-7ab5-43d7-9c80-d81a6d8a620b",
   "metadata": {},
   "outputs": [
    {
     "ename": "KeyError",
     "evalue": "'Kunal'",
     "output_type": "error",
     "traceback": [
      "\u001b[1;31m---------------------------------------------------------------------------\u001b[0m",
      "\u001b[1;31mKeyError\u001b[0m                                  Traceback (most recent call last)",
      "Cell \u001b[1;32mIn[100], line 1\u001b[0m\n\u001b[1;32m----> 1\u001b[0m \u001b[43ms\u001b[49m\u001b[38;5;241;43m.\u001b[39;49m\u001b[43mremove\u001b[49m\u001b[43m(\u001b[49m\u001b[38;5;124;43m\"\u001b[39;49m\u001b[38;5;124;43mKunal\u001b[39;49m\u001b[38;5;124;43m\"\u001b[39;49m\u001b[43m)\u001b[49m\n",
      "\u001b[1;31mKeyError\u001b[0m: 'Kunal'"
     ]
    }
   ],
   "source": [
    "s.remove(\"Kunal\")"
   ]
  },
  {
   "cell_type": "code",
   "execution_count": null,
   "id": "b53c0599-9353-4556-b37e-dd8f63c59749",
   "metadata": {},
   "outputs": [],
   "source": [
    "# is set mutable or immutable?\n",
    "# its a mutable data type\n",
    "# but keys of the set are immutable"
   ]
  },
  {
   "cell_type": "code",
   "execution_count": 101,
   "id": "0f61c913-151f-4066-8141-b58b3e80db99",
   "metadata": {},
   "outputs": [
    {
     "data": {
      "text/plain": [
       "5"
      ]
     },
     "execution_count": 101,
     "metadata": {},
     "output_type": "execute_result"
    }
   ],
   "source": [
    "s.pop()"
   ]
  },
  {
   "cell_type": "code",
   "execution_count": 102,
   "id": "6c87bf9a-c503-4b15-bb62-86e598a45b93",
   "metadata": {},
   "outputs": [
    {
     "data": {
      "text/plain": [
       "'India is great'"
      ]
     },
     "execution_count": 102,
     "metadata": {},
     "output_type": "execute_result"
    }
   ],
   "source": [
    "s.pop()"
   ]
  },
  {
   "cell_type": "code",
   "execution_count": 103,
   "id": "1b0a35e6-741f-4abb-8da3-d86ffe70ead7",
   "metadata": {},
   "outputs": [],
   "source": [
    "d = s.pop()"
   ]
  },
  {
   "cell_type": "code",
   "execution_count": 104,
   "id": "a3ff83d2-6607-432a-ab88-f51c252064ea",
   "metadata": {},
   "outputs": [
    {
     "name": "stdout",
     "output_type": "stream",
     "text": [
      "(5+6j)\n"
     ]
    }
   ],
   "source": [
    "print(d)"
   ]
  },
  {
   "cell_type": "markdown",
   "id": "0e2e0362-0984-4970-8119-319f1f59d521",
   "metadata": {},
   "source": [
    "### hw: read on set"
   ]
  },
  {
   "cell_type": "markdown",
   "id": "f20f7c05-107c-41c6-a644-725216f1a69b",
   "metadata": {},
   "source": [
    "# Dictionary"
   ]
  },
  {
   "cell_type": "code",
   "execution_count": 105,
   "id": "442530d2-2a71-4159-9040-d5c1f7d99037",
   "metadata": {},
   "outputs": [],
   "source": [
    "d = {}"
   ]
  },
  {
   "cell_type": "code",
   "execution_count": 106,
   "id": "9ee0b0dd-b5aa-40c1-91e8-ff1d01850b9c",
   "metadata": {},
   "outputs": [],
   "source": [
    "d = dict()"
   ]
  },
  {
   "cell_type": "code",
   "execution_count": 107,
   "id": "b63e4502-27f7-457a-bd1e-d7d134b4266c",
   "metadata": {},
   "outputs": [],
   "source": [
    "d = {\"k\": 58}"
   ]
  },
  {
   "cell_type": "code",
   "execution_count": 108,
   "id": "532e5abb-92dc-47d8-aab2-ed934bef6448",
   "metadata": {},
   "outputs": [
    {
     "data": {
      "text/plain": [
       "1"
      ]
     },
     "execution_count": 108,
     "metadata": {},
     "output_type": "execute_result"
    }
   ],
   "source": [
    "len(d)"
   ]
  },
  {
   "cell_type": "code",
   "execution_count": 109,
   "id": "14576e29-62c9-4700-91bc-8f8c2f07e515",
   "metadata": {},
   "outputs": [],
   "source": [
    "# values of dictionary are key value pairs"
   ]
  },
  {
   "cell_type": "code",
   "execution_count": 110,
   "id": "a91b9490-d8e5-4203-b707-76e5c0ea5de8",
   "metadata": {},
   "outputs": [
    {
     "data": {
      "text/plain": [
       "58"
      ]
     },
     "execution_count": 110,
     "metadata": {},
     "output_type": "execute_result"
    }
   ],
   "source": [
    "d[\"k\"]"
   ]
  },
  {
   "cell_type": "code",
   "execution_count": 111,
   "id": "f1e8bf17-0a65-4704-93be-6556e8b358fd",
   "metadata": {},
   "outputs": [
    {
     "data": {
      "text/plain": [
       "58"
      ]
     },
     "execution_count": 111,
     "metadata": {},
     "output_type": "execute_result"
    }
   ],
   "source": [
    "d.get(\"k\")"
   ]
  },
  {
   "cell_type": "code",
   "execution_count": 113,
   "id": "82c9cdbd-b09b-4384-afdc-fbf006797970",
   "metadata": {},
   "outputs": [
    {
     "name": "stdout",
     "output_type": "stream",
     "text": [
      "{(9, 8): 'kunal', 'Edyoda': 'Karnataka'}\n"
     ]
    }
   ],
   "source": [
    "d1 = {(9,8): \"kunal\", \"Edyoda\": \"Karnataka\"}\n",
    "print(d1)"
   ]
  },
  {
   "cell_type": "code",
   "execution_count": 114,
   "id": "bda0732e-dc4e-442c-9190-09cd9153229a",
   "metadata": {},
   "outputs": [
    {
     "data": {
      "text/plain": [
       "'kunal'"
      ]
     },
     "execution_count": 114,
     "metadata": {},
     "output_type": "execute_result"
    }
   ],
   "source": [
    "d1.get((9,8))"
   ]
  },
  {
   "cell_type": "code",
   "execution_count": 115,
   "id": "e94851c0-5779-4daf-a542-e3d246618d54",
   "metadata": {},
   "outputs": [
    {
     "ename": "TypeError",
     "evalue": "unhashable type: 'list'",
     "output_type": "error",
     "traceback": [
      "\u001b[1;31m---------------------------------------------------------------------------\u001b[0m",
      "\u001b[1;31mTypeError\u001b[0m                                 Traceback (most recent call last)",
      "Cell \u001b[1;32mIn[115], line 1\u001b[0m\n\u001b[1;32m----> 1\u001b[0m d2 \u001b[38;5;241m=\u001b[39m {[\u001b[38;5;241m9\u001b[39m,\u001b[38;5;241m8\u001b[39m]: \u001b[38;5;124m\"\u001b[39m\u001b[38;5;124mkunal\u001b[39m\u001b[38;5;124m\"\u001b[39m, \u001b[38;5;124m\"\u001b[39m\u001b[38;5;124mEdyoda\u001b[39m\u001b[38;5;124m\"\u001b[39m: \u001b[38;5;124m\"\u001b[39m\u001b[38;5;124mKarnataka\u001b[39m\u001b[38;5;124m\"\u001b[39m}\n\u001b[0;32m      2\u001b[0m \u001b[38;5;28mprint\u001b[39m(d2)\n",
      "\u001b[1;31mTypeError\u001b[0m: unhashable type: 'list'"
     ]
    }
   ],
   "source": [
    "d2 = {[9,8]: \"kunal\", \"Edyoda\": \"Karnataka\"}\n",
    "print(d2)"
   ]
  },
  {
   "cell_type": "code",
   "execution_count": 116,
   "id": "c43b6aa3-854f-45a5-aea1-073bf5fa02fc",
   "metadata": {},
   "outputs": [
    {
     "name": "stdout",
     "output_type": "stream",
     "text": [
      "{(9, 8): 'kunal', 'Edyoda': 'Karnataka', 'class': [1, 5, 8, 9]}\n"
     ]
    }
   ],
   "source": [
    "d3 = {(9,8): \"kunal\", \"Edyoda\": \"Karnataka\",\"class\":[1, 5, 8, 9]}\n",
    "print(d3)"
   ]
  },
  {
   "cell_type": "code",
   "execution_count": 117,
   "id": "c4c875db-244c-4dd1-a2a7-e0f3c88b727f",
   "metadata": {},
   "outputs": [
    {
     "data": {
      "text/plain": [
       "[1, 5, 8, 9]"
      ]
     },
     "execution_count": 117,
     "metadata": {},
     "output_type": "execute_result"
    }
   ],
   "source": [
    "d3.get(\"class\")"
   ]
  },
  {
   "cell_type": "code",
   "execution_count": 118,
   "id": "103be3f6-fcf8-4f6d-b6e9-8420fd276f34",
   "metadata": {},
   "outputs": [
    {
     "data": {
      "text/plain": [
       "dict_keys([(9, 8), 'Edyoda', 'class'])"
      ]
     },
     "execution_count": 118,
     "metadata": {},
     "output_type": "execute_result"
    }
   ],
   "source": [
    "# keys\n",
    "d3.keys()"
   ]
  },
  {
   "cell_type": "code",
   "execution_count": 119,
   "id": "896cf3be-d7fb-4875-9570-9fbbebfc2d96",
   "metadata": {},
   "outputs": [
    {
     "ename": "TypeError",
     "evalue": "'dict_keys' object is not subscriptable",
     "output_type": "error",
     "traceback": [
      "\u001b[1;31m---------------------------------------------------------------------------\u001b[0m",
      "\u001b[1;31mTypeError\u001b[0m                                 Traceback (most recent call last)",
      "Cell \u001b[1;32mIn[119], line 1\u001b[0m\n\u001b[1;32m----> 1\u001b[0m \u001b[43md3\u001b[49m\u001b[38;5;241;43m.\u001b[39;49m\u001b[43mkeys\u001b[49m\u001b[43m(\u001b[49m\u001b[43m)\u001b[49m\u001b[43m[\u001b[49m\u001b[38;5;241;43m1\u001b[39;49m\u001b[43m]\u001b[49m\n",
      "\u001b[1;31mTypeError\u001b[0m: 'dict_keys' object is not subscriptable"
     ]
    }
   ],
   "source": [
    "d3.keys()[1]"
   ]
  },
  {
   "cell_type": "code",
   "execution_count": 120,
   "id": "0f775b92-aeae-48fc-8446-f8eb8a76d8e0",
   "metadata": {},
   "outputs": [
    {
     "data": {
      "text/plain": [
       "'Edyoda'"
      ]
     },
     "execution_count": 120,
     "metadata": {},
     "output_type": "execute_result"
    }
   ],
   "source": [
    "list(d3.keys())[1]"
   ]
  },
  {
   "cell_type": "code",
   "execution_count": 121,
   "id": "aaf5764e-16c2-42e8-acd8-45525213ee1d",
   "metadata": {},
   "outputs": [
    {
     "data": {
      "text/plain": [
       "dict_values(['kunal', 'Karnataka', [1, 5, 8, 9]])"
      ]
     },
     "execution_count": 121,
     "metadata": {},
     "output_type": "execute_result"
    }
   ],
   "source": [
    "d3.values()"
   ]
  },
  {
   "cell_type": "code",
   "execution_count": 123,
   "id": "83100d7c-293b-4c95-9487-9d7440e42f1d",
   "metadata": {},
   "outputs": [
    {
     "data": {
      "text/plain": [
       "dict_items([((9, 8), 'kunal'), ('Edyoda', 'Karnataka'), ('class', [1, 5, 8, 9])])"
      ]
     },
     "execution_count": 123,
     "metadata": {},
     "output_type": "execute_result"
    }
   ],
   "source": [
    "d3.items()"
   ]
  },
  {
   "cell_type": "code",
   "execution_count": 124,
   "id": "e1076b0e-7a33-41f5-a942-8c430e9c98c8",
   "metadata": {},
   "outputs": [
    {
     "name": "stdout",
     "output_type": "stream",
     "text": [
      "((9, 8), 'kunal')\n",
      "('Edyoda', 'Karnataka')\n",
      "('class', [1, 5, 8, 9])\n"
     ]
    }
   ],
   "source": [
    "for i in d3.items():\n",
    "    print(i)"
   ]
  },
  {
   "cell_type": "code",
   "execution_count": 125,
   "id": "02c6bd9a-b227-405b-b2d3-2d9d2ddbf77f",
   "metadata": {},
   "outputs": [],
   "source": [
    "# Adding value to dict\n",
    "d = {}"
   ]
  },
  {
   "cell_type": "code",
   "execution_count": 126,
   "id": "4acc63a9-defc-49da-8bef-9e0486289210",
   "metadata": {},
   "outputs": [],
   "source": [
    "d[\"Name\"] = \"Vijay\""
   ]
  },
  {
   "cell_type": "code",
   "execution_count": 127,
   "id": "3b4475ee-6c32-4ce1-beb9-1dbea7ae83d7",
   "metadata": {},
   "outputs": [
    {
     "name": "stdout",
     "output_type": "stream",
     "text": [
      "{'Name': 'Vijay'}\n"
     ]
    }
   ],
   "source": [
    "print(d)"
   ]
  },
  {
   "cell_type": "code",
   "execution_count": 128,
   "id": "3df1535b-0608-4f50-8ae1-b5339efb3a12",
   "metadata": {},
   "outputs": [],
   "source": [
    "d.update({\"Emp_id\": 12587})"
   ]
  },
  {
   "cell_type": "code",
   "execution_count": 129,
   "id": "334fbe40-ed2a-4572-8d9b-ad72987618a9",
   "metadata": {},
   "outputs": [
    {
     "name": "stdout",
     "output_type": "stream",
     "text": [
      "{'Name': 'Vijay', 'Emp_id': 12587}\n"
     ]
    }
   ],
   "source": [
    "print(d)"
   ]
  },
  {
   "cell_type": "code",
   "execution_count": 130,
   "id": "2821fea7-5e70-4812-a89b-6cb459ead2d2",
   "metadata": {},
   "outputs": [],
   "source": [
    "l = [1, 1, 1, 1, 1, 5, 5, 8, 8, 8, \"L\", \"L\", \"L\", \"L\", \"L\", \"L\", \"m\", \"x\", \"x\"]\n",
    "# {1: xx, 5: yy}"
   ]
  },
  {
   "cell_type": "code",
   "execution_count": 131,
   "id": "cd583681-ca6c-4f1d-88ca-453457ac88ca",
   "metadata": {},
   "outputs": [],
   "source": [
    "d = {}\n",
    "for i in l:\n",
    "    if i not in d:\n",
    "        d[i] = 1\n",
    "    else:\n",
    "        d[i] = d[i] + 1"
   ]
  },
  {
   "cell_type": "code",
   "execution_count": 132,
   "id": "ae53ff41-6ff5-4129-b2c2-8ebb00eadc99",
   "metadata": {},
   "outputs": [
    {
     "name": "stdout",
     "output_type": "stream",
     "text": [
      "{1: 5, 5: 2, 8: 3, 'L': 6, 'm': 1, 'x': 2}\n"
     ]
    }
   ],
   "source": [
    "print(d)"
   ]
  },
  {
   "cell_type": "code",
   "execution_count": 133,
   "id": "299ae4da-b0f7-4f8a-af3d-58751012108f",
   "metadata": {},
   "outputs": [],
   "source": [
    "# removing the elemnt from the dictionary"
   ]
  },
  {
   "cell_type": "code",
   "execution_count": 134,
   "id": "0979eea2-0a77-4080-be3f-e667ac38fe94",
   "metadata": {},
   "outputs": [
    {
     "data": {
      "text/plain": [
       "1"
      ]
     },
     "execution_count": 134,
     "metadata": {},
     "output_type": "execute_result"
    }
   ],
   "source": [
    "d.pop(\"m\")"
   ]
  },
  {
   "cell_type": "code",
   "execution_count": 135,
   "id": "330ea4cb-7b01-4607-b7e7-81034e4cc3a4",
   "metadata": {},
   "outputs": [
    {
     "name": "stdout",
     "output_type": "stream",
     "text": [
      "{1: 5, 5: 2, 8: 3, 'L': 6, 'x': 2}\n"
     ]
    }
   ],
   "source": [
    "print(d)"
   ]
  },
  {
   "cell_type": "code",
   "execution_count": 136,
   "id": "eab61686-ef06-475d-97bd-f91ceaf89d6f",
   "metadata": {},
   "outputs": [],
   "source": [
    "d.clear()"
   ]
  },
  {
   "cell_type": "code",
   "execution_count": 137,
   "id": "b8e95ffb-3d9e-41f7-8aab-be14c2b7fe2e",
   "metadata": {},
   "outputs": [
    {
     "name": "stdout",
     "output_type": "stream",
     "text": [
      "{}\n"
     ]
    }
   ],
   "source": [
    "print(d)"
   ]
  },
  {
   "cell_type": "code",
   "execution_count": 138,
   "id": "68615b17-f53f-4e86-9c38-0c30fcce8711",
   "metadata": {
    "collapsed": true,
    "jupyter": {
     "outputs_hidden": true
    }
   },
   "outputs": [
    {
     "name": "stdout",
     "output_type": "stream",
     "text": [
      "Help on class dict in module builtins:\n",
      "\n",
      "class dict(object)\n",
      " |  dict() -> new empty dictionary\n",
      " |  dict(mapping) -> new dictionary initialized from a mapping object's\n",
      " |      (key, value) pairs\n",
      " |  dict(iterable) -> new dictionary initialized as if via:\n",
      " |      d = {}\n",
      " |      for k, v in iterable:\n",
      " |          d[k] = v\n",
      " |  dict(**kwargs) -> new dictionary initialized with the name=value pairs\n",
      " |      in the keyword argument list.  For example:  dict(one=1, two=2)\n",
      " |\n",
      " |  Methods defined here:\n",
      " |\n",
      " |  __contains__(self, key, /)\n",
      " |      True if the dictionary has the specified key, else False.\n",
      " |\n",
      " |  __delitem__(self, key, /)\n",
      " |      Delete self[key].\n",
      " |\n",
      " |  __eq__(self, value, /)\n",
      " |      Return self==value.\n",
      " |\n",
      " |  __ge__(self, value, /)\n",
      " |      Return self>=value.\n",
      " |\n",
      " |  __getattribute__(self, name, /)\n",
      " |      Return getattr(self, name).\n",
      " |\n",
      " |  __getitem__(self, key, /)\n",
      " |      Return self[key].\n",
      " |\n",
      " |  __gt__(self, value, /)\n",
      " |      Return self>value.\n",
      " |\n",
      " |  __init__(self, /, *args, **kwargs)\n",
      " |      Initialize self.  See help(type(self)) for accurate signature.\n",
      " |\n",
      " |  __ior__(self, value, /)\n",
      " |      Return self|=value.\n",
      " |\n",
      " |  __iter__(self, /)\n",
      " |      Implement iter(self).\n",
      " |\n",
      " |  __le__(self, value, /)\n",
      " |      Return self<=value.\n",
      " |\n",
      " |  __len__(self, /)\n",
      " |      Return len(self).\n",
      " |\n",
      " |  __lt__(self, value, /)\n",
      " |      Return self<value.\n",
      " |\n",
      " |  __ne__(self, value, /)\n",
      " |      Return self!=value.\n",
      " |\n",
      " |  __or__(self, value, /)\n",
      " |      Return self|value.\n",
      " |\n",
      " |  __repr__(self, /)\n",
      " |      Return repr(self).\n",
      " |\n",
      " |  __reversed__(self, /)\n",
      " |      Return a reverse iterator over the dict keys.\n",
      " |\n",
      " |  __ror__(self, value, /)\n",
      " |      Return value|self.\n",
      " |\n",
      " |  __setitem__(self, key, value, /)\n",
      " |      Set self[key] to value.\n",
      " |\n",
      " |  __sizeof__(self, /)\n",
      " |      Return the size of the dict in memory, in bytes.\n",
      " |\n",
      " |  clear(self, /)\n",
      " |      Remove all items from the dict.\n",
      " |\n",
      " |  copy(self, /)\n",
      " |      Return a shallow copy of the dict.\n",
      " |\n",
      " |  get(self, key, default=None, /)\n",
      " |      Return the value for key if key is in the dictionary, else default.\n",
      " |\n",
      " |  items(self, /)\n",
      " |      Return a set-like object providing a view on the dict's items.\n",
      " |\n",
      " |  keys(self, /)\n",
      " |      Return a set-like object providing a view on the dict's keys.\n",
      " |\n",
      " |  pop(self, key, default=<unrepresentable>, /)\n",
      " |      D.pop(k[,d]) -> v, remove specified key and return the corresponding value.\n",
      " |\n",
      " |      If the key is not found, return the default if given; otherwise,\n",
      " |      raise a KeyError.\n",
      " |\n",
      " |  popitem(self, /)\n",
      " |      Remove and return a (key, value) pair as a 2-tuple.\n",
      " |\n",
      " |      Pairs are returned in LIFO (last-in, first-out) order.\n",
      " |      Raises KeyError if the dict is empty.\n",
      " |\n",
      " |  setdefault(self, key, default=None, /)\n",
      " |      Insert key with a value of default if key is not in the dictionary.\n",
      " |\n",
      " |      Return the value for key if key is in the dictionary, else default.\n",
      " |\n",
      " |  update(...)\n",
      " |      D.update([E, ]**F) -> None.  Update D from mapping/iterable E and F.\n",
      " |      If E is present and has a .keys() method, then does:  for k in E.keys(): D[k] = E[k]\n",
      " |      If E is present and lacks a .keys() method, then does:  for k, v in E: D[k] = v\n",
      " |      In either case, this is followed by: for k in F:  D[k] = F[k]\n",
      " |\n",
      " |  values(self, /)\n",
      " |      Return an object providing a view on the dict's values.\n",
      " |\n",
      " |  ----------------------------------------------------------------------\n",
      " |  Class methods defined here:\n",
      " |\n",
      " |  __class_getitem__(object, /)\n",
      " |      See PEP 585\n",
      " |\n",
      " |  fromkeys(iterable, value=None, /)\n",
      " |      Create a new dictionary with keys from iterable and values set to value.\n",
      " |\n",
      " |  ----------------------------------------------------------------------\n",
      " |  Static methods defined here:\n",
      " |\n",
      " |  __new__(*args, **kwargs)\n",
      " |      Create and return a new object.  See help(type) for accurate signature.\n",
      " |\n",
      " |  ----------------------------------------------------------------------\n",
      " |  Data and other attributes defined here:\n",
      " |\n",
      " |  __hash__ = None\n",
      "\n"
     ]
    }
   ],
   "source": [
    "help(dict)"
   ]
  },
  {
   "cell_type": "code",
   "execution_count": 140,
   "id": "02acb9b5-f466-4a46-822e-f9f26601de41",
   "metadata": {},
   "outputs": [],
   "source": [
    "# empty string\n",
    "d = \"\"\n",
    "d1 = ''\n",
    "d2 = \"\"\"\"\"\"\n",
    "d3 = ''''''\n",
    "d4 = str()"
   ]
  },
  {
   "cell_type": "code",
   "execution_count": 141,
   "id": "2b43fa7b-a458-487a-bff2-c1d3a3871eab",
   "metadata": {},
   "outputs": [
    {
     "data": {
      "text/plain": [
       "0"
      ]
     },
     "execution_count": 141,
     "metadata": {},
     "output_type": "execute_result"
    }
   ],
   "source": [
    "len(d2)"
   ]
  },
  {
   "cell_type": "code",
   "execution_count": 142,
   "id": "7933d050-0195-4e7e-8cd1-a05d484526a5",
   "metadata": {},
   "outputs": [
    {
     "data": {
      "text/plain": [
       "0"
      ]
     },
     "execution_count": 142,
     "metadata": {},
     "output_type": "execute_result"
    }
   ],
   "source": [
    "len(d4)"
   ]
  },
  {
   "cell_type": "code",
   "execution_count": 143,
   "id": "0afa443d-c04d-492d-ac82-c32b8d2f8b30",
   "metadata": {},
   "outputs": [],
   "source": [
    "# empty list\n",
    "l = []\n",
    "l = list()"
   ]
  },
  {
   "cell_type": "code",
   "execution_count": 144,
   "id": "97763c3f-9e5a-4335-a279-3b35512b5512",
   "metadata": {},
   "outputs": [],
   "source": [
    "# empty tuple\n",
    "t = ()\n",
    "t = tuple()"
   ]
  },
  {
   "cell_type": "code",
   "execution_count": 145,
   "id": "2c493fd5-65fe-4a44-9d5f-62267bdd0b33",
   "metadata": {},
   "outputs": [],
   "source": [
    "# empty set\n",
    "s = set()"
   ]
  },
  {
   "cell_type": "code",
   "execution_count": 146,
   "id": "83523ec6-ce85-4a19-b63c-85d953dd7745",
   "metadata": {},
   "outputs": [],
   "source": [
    "# empty dictionary\n",
    "d = {}\n",
    "d = dict()"
   ]
  },
  {
   "cell_type": "code",
   "execution_count": null,
   "id": "fbc89266-1a27-4a32-ade4-3e5e96aa4905",
   "metadata": {},
   "outputs": [],
   "source": []
  }
 ],
 "metadata": {
  "kernelspec": {
   "display_name": "Python 3 (ipykernel)",
   "language": "python",
   "name": "python3"
  },
  "language_info": {
   "codemirror_mode": {
    "name": "ipython",
    "version": 3
   },
   "file_extension": ".py",
   "mimetype": "text/x-python",
   "name": "python",
   "nbconvert_exporter": "python",
   "pygments_lexer": "ipython3",
   "version": "3.13.1"
  }
 },
 "nbformat": 4,
 "nbformat_minor": 5
}
