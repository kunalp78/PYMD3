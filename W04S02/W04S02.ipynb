{
 "cells": [
  {
   "cell_type": "code",
   "execution_count": 1,
   "id": "5f5f0723-5831-4144-9173-55f5c9e671be",
   "metadata": {},
   "outputs": [
    {
     "name": "stderr",
     "output_type": "stream",
     "text": [
      "<>:21: SyntaxWarning: \"is not\" with 'str' literal. Did you mean \"!=\"?\n",
      "<>:21: SyntaxWarning: \"is not\" with 'str' literal. Did you mean \"!=\"?\n",
      "C:\\Users\\Kunal\\AppData\\Local\\Temp\\ipykernel_2652\\3782904683.py:21: SyntaxWarning: \"is not\" with 'str' literal. Did you mean \"!=\"?\n",
      "  if position is not \"employee\":\n"
     ]
    }
   ],
   "source": [
    "class Employee:\n",
    "    def __init__(self, name, age, pos, address=\"\", salary=0):\n",
    "        self.name = name\n",
    "        self.age = age\n",
    "        self.address = address\n",
    "        self.salary = salary\n",
    "        self.position = pos\n",
    "\n",
    "    def set_name(self, name):\n",
    "        # set name below\n",
    "        self.name = name\n",
    "\n",
    "    def set_salary(self, salary):\n",
    "        if Employee.validate_if_employee(self.position) == True:\n",
    "            self.salary = salary\n",
    "        else:\n",
    "            self.salary -= (self.salary/10)\n",
    "\n",
    "    @staticmethod\n",
    "    def validate_if_employee(position):\n",
    "        if position is not \"employee\":\n",
    "            return False\n",
    "        else:\n",
    "            return True"
   ]
  },
  {
   "cell_type": "code",
   "execution_count": 2,
   "id": "4a64018b-46e3-48d1-8e51-a7d1d86c9834",
   "metadata": {},
   "outputs": [],
   "source": [
    "e1 = Employee(\"Divyam\", 25, \"Employee\")"
   ]
  },
  {
   "cell_type": "code",
   "execution_count": 3,
   "id": "841bb5da-49ce-4ece-881c-38cea700def2",
   "metadata": {},
   "outputs": [
    {
     "data": {
      "text/plain": [
       "'Divyam'"
      ]
     },
     "execution_count": 3,
     "metadata": {},
     "output_type": "execute_result"
    }
   ],
   "source": [
    "e1.name"
   ]
  },
  {
   "cell_type": "code",
   "execution_count": 4,
   "id": "b7103104-6d3f-4992-bf97-ec7f2951765e",
   "metadata": {},
   "outputs": [
    {
     "data": {
      "text/plain": [
       "25"
      ]
     },
     "execution_count": 4,
     "metadata": {},
     "output_type": "execute_result"
    }
   ],
   "source": [
    "e1.age"
   ]
  },
  {
   "cell_type": "code",
   "execution_count": 5,
   "id": "2257b85b-18a5-4e79-9bbc-251c866a67a1",
   "metadata": {},
   "outputs": [],
   "source": [
    "e1.name = [1,\"hacked\"]"
   ]
  },
  {
   "cell_type": "code",
   "execution_count": 7,
   "id": "df9b487d-7719-4252-8dba-6227c132e2fc",
   "metadata": {},
   "outputs": [
    {
     "data": {
      "text/plain": [
       "[1, 'hacked']"
      ]
     },
     "execution_count": 7,
     "metadata": {},
     "output_type": "execute_result"
    }
   ],
   "source": [
    "e1.name"
   ]
  },
  {
   "cell_type": "code",
   "execution_count": 9,
   "id": "e0bc7933-ef0c-4254-a438-d3d41ad5b4c1",
   "metadata": {},
   "outputs": [],
   "source": [
    "class Employee:\n",
    "    def __init__(self, name, age, pos, address=\"\", salary=0):\n",
    "        self.__name = name\n",
    "        self.__age = age\n",
    "        self.__address = address\n",
    "        self.__salary = salary\n",
    "        self.__position = pos\n",
    "\n",
    "    def set_name(self, name):\n",
    "        # set name below\n",
    "        self.__name = name\n",
    "\n",
    "    def set_salary(self, salary):\n",
    "        if Employee.validate_if_employee(self.__position) == True:\n",
    "            self.__salary = salary\n",
    "        else:\n",
    "            self.__salary -= (self.__salary/10)\n",
    "\n",
    "    @staticmethod\n",
    "    def validate_if_employee(position):\n",
    "        if position != \"employee\":\n",
    "            return False\n",
    "        else:\n",
    "            return True"
   ]
  },
  {
   "cell_type": "code",
   "execution_count": 10,
   "id": "22e2052d-759d-49ed-82c2-73cc7d16195a",
   "metadata": {},
   "outputs": [],
   "source": [
    "e1 = Employee(\"Radhika\", 23, \"Contractor\")"
   ]
  },
  {
   "cell_type": "code",
   "execution_count": 11,
   "id": "affac894-0df8-43c0-89ba-7cd4a326ea3d",
   "metadata": {},
   "outputs": [
    {
     "ename": "AttributeError",
     "evalue": "'Employee' object has no attribute '__name'",
     "output_type": "error",
     "traceback": [
      "\u001b[1;31m---------------------------------------------------------------------------\u001b[0m",
      "\u001b[1;31mAttributeError\u001b[0m                            Traceback (most recent call last)",
      "Cell \u001b[1;32mIn[11], line 1\u001b[0m\n\u001b[1;32m----> 1\u001b[0m \u001b[43me1\u001b[49m\u001b[38;5;241;43m.\u001b[39;49m\u001b[43m__name\u001b[49m\n",
      "\u001b[1;31mAttributeError\u001b[0m: 'Employee' object has no attribute '__name'"
     ]
    }
   ],
   "source": [
    "e1.__name"
   ]
  },
  {
   "cell_type": "code",
   "execution_count": 12,
   "id": "60f4297c-a2c6-433f-adc1-029b26d8c587",
   "metadata": {},
   "outputs": [
    {
     "data": {
      "text/plain": [
       "{'_Employee__name': 'Radhika',\n",
       " '_Employee__age': 23,\n",
       " '_Employee__address': '',\n",
       " '_Employee__salary': 0,\n",
       " '_Employee__position': 'Contractor'}"
      ]
     },
     "execution_count": 12,
     "metadata": {},
     "output_type": "execute_result"
    }
   ],
   "source": [
    "e1.__dict__"
   ]
  },
  {
   "cell_type": "code",
   "execution_count": 13,
   "id": "8ab7701e-0858-460a-9ac8-e138d16db217",
   "metadata": {},
   "outputs": [],
   "source": [
    "e1.set_name(\"Radhika Murli\")"
   ]
  },
  {
   "cell_type": "code",
   "execution_count": 14,
   "id": "71dc083b-4724-40a3-ba90-164164a9aa2b",
   "metadata": {},
   "outputs": [
    {
     "data": {
      "text/plain": [
       "{'_Employee__name': 'Radhika Murli',\n",
       " '_Employee__age': 23,\n",
       " '_Employee__address': '',\n",
       " '_Employee__salary': 0,\n",
       " '_Employee__position': 'Contractor'}"
      ]
     },
     "execution_count": 14,
     "metadata": {},
     "output_type": "execute_result"
    }
   ],
   "source": [
    "e1.__dict__"
   ]
  },
  {
   "cell_type": "code",
   "execution_count": 20,
   "id": "a643cd05-9a31-446a-aaf5-e1141acf9f64",
   "metadata": {},
   "outputs": [],
   "source": [
    "class Employee:\n",
    "    def __init__(self, name, age, pos, address=\"\", salary=0):\n",
    "        self.__name = name\n",
    "        self.__age = age\n",
    "        self.__address = address\n",
    "        self.__salary = salary\n",
    "        self.__position = pos\n",
    "\n",
    "    def set_name(self, name):\n",
    "        \"\"\"\n",
    "        This method is responsible for seeting the name for the instance\n",
    "        \"\"\"\n",
    "        self.__name = name\n",
    "\n",
    "    def get_name(self):\n",
    "        return self.__name\n",
    "\n",
    "    def set_salary(self, salary):\n",
    "        if Employee.validate_if_employee(self.__position) == True:\n",
    "            self.__salary = salary\n",
    "        else:\n",
    "            self.__salary -= (self.__salary/10)\n",
    "\n",
    "    @staticmethod\n",
    "    def validate_if_employee(position):\n",
    "        if position != \"employee\":\n",
    "            return False\n",
    "        else:\n",
    "            return True"
   ]
  },
  {
   "cell_type": "code",
   "execution_count": 21,
   "id": "ef3c00d8-9ecb-43da-bd65-8328b168d7e2",
   "metadata": {},
   "outputs": [],
   "source": [
    "e1 = Employee(\"Aarti\", 23, \"Employee\")"
   ]
  },
  {
   "cell_type": "code",
   "execution_count": 22,
   "id": "8bff865d-9ad3-4ded-b211-2f195c23ba38",
   "metadata": {},
   "outputs": [
    {
     "data": {
      "text/plain": [
       "'Aarti'"
      ]
     },
     "execution_count": 22,
     "metadata": {},
     "output_type": "execute_result"
    }
   ],
   "source": [
    "e1.get_name()"
   ]
  },
  {
   "cell_type": "code",
   "execution_count": 23,
   "id": "74674724-5c64-46a9-80ed-4f7fd00dc857",
   "metadata": {},
   "outputs": [
    {
     "name": "stdout",
     "output_type": "stream",
     "text": [
      "Help on Employee in module __main__ object:\n",
      "\n",
      "class Employee(builtins.object)\n",
      " |  Employee(name, age, pos, address='', salary=0)\n",
      " |\n",
      " |  Methods defined here:\n",
      " |\n",
      " |  __init__(self, name, age, pos, address='', salary=0)\n",
      " |      Initialize self.  See help(type(self)) for accurate signature.\n",
      " |\n",
      " |  get_name(self)\n",
      " |\n",
      " |  set_name(self, name)\n",
      " |      This method is responsible for seeting the name for the instance\n",
      " |\n",
      " |  set_salary(self, salary)\n",
      " |\n",
      " |  ----------------------------------------------------------------------\n",
      " |  Static methods defined here:\n",
      " |\n",
      " |  validate_if_employee(position)\n",
      " |\n",
      " |  ----------------------------------------------------------------------\n",
      " |  Data descriptors defined here:\n",
      " |\n",
      " |  __dict__\n",
      " |      dictionary for instance variables\n",
      " |\n",
      " |  __weakref__\n",
      " |      list of weak references to the object\n",
      "\n"
     ]
    }
   ],
   "source": [
    "help(e1)"
   ]
  },
  {
   "cell_type": "code",
   "execution_count": 30,
   "id": "5ef03766-c881-4468-866b-953345569a88",
   "metadata": {},
   "outputs": [
    {
     "name": "stdout",
     "output_type": "stream",
     "text": [
      "58000000\n",
      "Divyam\n"
     ]
    }
   ],
   "source": [
    "class Employee:\n",
    "    def __init__(self, name=\"\", age=0, pos=\"\", address=\"\", salary=0):\n",
    "        self.__name = name\n",
    "        self.__age = age\n",
    "        self.__address = address\n",
    "        self.__salary = salary\n",
    "        self.__position = pos\n",
    "\n",
    "    def set_name(self, name):\n",
    "        \"\"\"\n",
    "        This method is responsible for seeting the name for the instance\n",
    "        \"\"\"\n",
    "        self.__name = name\n",
    "\n",
    "    def get_name(self):\n",
    "        return self.__name\n",
    "\n",
    "    def set_age(self, age):\n",
    "        self.__age = age\n",
    "\n",
    "    def get_age(self):\n",
    "        return self.__age\n",
    "\n",
    "    def set_pos(self, pos):\n",
    "        self.__position = pos\n",
    "\n",
    "    def get_pos(self):\n",
    "        return self.__position\n",
    "\n",
    "    def set_address(self, addr):\n",
    "        self.__address = addr\n",
    "    \n",
    "    def get_address(self):\n",
    "        return self.__address\n",
    "\n",
    "    def get_salary(self):\n",
    "        return self.__salary\n",
    "    \n",
    "    def set_salary(self, salary):\n",
    "        self.__salary = salary\n",
    "\n",
    "e1 = Employee()\n",
    "\n",
    "e1.set_name(\"Divyam\")\n",
    "e1.set_age(25)\n",
    "e1.set_address(\"Maharastra\")\n",
    "e1.set_salary(58000000)\n",
    "print(e1.get_salary())\n",
    "e1.set_pos(\"employee\")\n",
    "\n",
    "print(e1.get_name())\n"
   ]
  },
  {
   "cell_type": "code",
   "execution_count": 31,
   "id": "4f9a9ccc-ff2d-4d6a-9a80-5d21e8d8ae6f",
   "metadata": {},
   "outputs": [],
   "source": [
    "e1.set_salary(58000000)"
   ]
  },
  {
   "cell_type": "code",
   "execution_count": 32,
   "id": "1f6ca7ba-2cc7-4915-85d6-946d3cc2d925",
   "metadata": {},
   "outputs": [
    {
     "name": "stdout",
     "output_type": "stream",
     "text": [
      "58000000\n"
     ]
    }
   ],
   "source": [
    "print(e1.get_salary())"
   ]
  },
  {
   "cell_type": "code",
   "execution_count": 45,
   "id": "9a9d63e0-b9ec-43a0-a1aa-a09acc3fac76",
   "metadata": {},
   "outputs": [],
   "source": [
    "class Employee:\n",
    "    def __init__(self, name=\"\", age=0, pos=\"\", address=\"\", salary=0):\n",
    "        self.name = name\n",
    "        self.age = age\n",
    "        self.address = address\n",
    "        self.salary = salary\n",
    "        self.position = pos\n",
    "    def get_attribs(self):\n",
    "        print(f\"Name: {self.name} | \\nAge: {self.age} | \\nAddress: {self.address}\")"
   ]
  },
  {
   "cell_type": "code",
   "execution_count": 46,
   "id": "5d8a075b-9b0d-421b-b637-861f25040b68",
   "metadata": {},
   "outputs": [],
   "source": [
    "e2 = Employee(\"Gopinath\", 26, address=\"Kerela\")"
   ]
  },
  {
   "cell_type": "code",
   "execution_count": 47,
   "id": "51267fa0-8c69-4c79-b4f6-d9121ffd9f70",
   "metadata": {},
   "outputs": [
    {
     "name": "stdout",
     "output_type": "stream",
     "text": [
      "<__main__.Employee object at 0x0000020A6A4196A0>\n"
     ]
    }
   ],
   "source": [
    "print(e2)"
   ]
  },
  {
   "cell_type": "code",
   "execution_count": 39,
   "id": "eb0cea6a-be83-4fea-ab5c-f4215cfffdfd",
   "metadata": {},
   "outputs": [
    {
     "name": "stdout",
     "output_type": "stream",
     "text": [
      "Name: Gopinath | \n",
      "Age: 26 | \n",
      "Address: Kerela\n"
     ]
    }
   ],
   "source": [
    "e2.get_attribs()"
   ]
  },
  {
   "cell_type": "markdown",
   "id": "54ef6fb8-a78d-4f04-aab9-e759e581e4c9",
   "metadata": {},
   "source": [
    "### Dunder methods"
   ]
  },
  {
   "cell_type": "code",
   "execution_count": 57,
   "id": "39d203c4-0f38-4b90-bb81-25d22981bca5",
   "metadata": {},
   "outputs": [],
   "source": [
    "class Employee:\n",
    "    def __init__(self, name=\"\", age=0, pos=\"\", address=\"\", salary=0):\n",
    "        self.name = name\n",
    "        self.age = age\n",
    "        self.address = address\n",
    "        self.salary = salary\n",
    "        self.position = pos\n",
    "\n",
    "    def __str__(self):\n",
    "        return f\"Name: {self.name} | \\nAge: {self.age} | \\nAddress: {self.address}\"\n",
    "    \n",
    "    def get_attribs(self):\n",
    "        print(f\"Name: {self.name} | \\nAge: {self.age} | \\nAddress: {self.address}\")"
   ]
  },
  {
   "cell_type": "code",
   "execution_count": 58,
   "id": "6bf16d00-30fa-469b-a1e4-a97fb81fa5ed",
   "metadata": {},
   "outputs": [],
   "source": [
    "e2 = Employee(\"Gopinath\", 26, address=\"Kerela\")"
   ]
  },
  {
   "cell_type": "code",
   "execution_count": 59,
   "id": "fe585b61-edb4-4716-a189-fb80bed78389",
   "metadata": {},
   "outputs": [
    {
     "data": {
      "text/plain": [
       "<__main__.Employee at 0x20a6a419010>"
      ]
     },
     "execution_count": 59,
     "metadata": {},
     "output_type": "execute_result"
    }
   ],
   "source": [
    "e2"
   ]
  },
  {
   "cell_type": "code",
   "execution_count": 50,
   "id": "4fe1186f-34d7-4196-be5c-003bfd359e7d",
   "metadata": {},
   "outputs": [
    {
     "name": "stdout",
     "output_type": "stream",
     "text": [
      "Name: Gopinath | \n",
      "Age: 26 | \n",
      "Address: Kerela\n"
     ]
    }
   ],
   "source": [
    "print(e2)"
   ]
  },
  {
   "cell_type": "code",
   "execution_count": 53,
   "id": "016a8364-2790-4cba-a81b-3b961a31b47f",
   "metadata": {},
   "outputs": [],
   "source": [
    "class Employee:\n",
    "    def __init__(self, name=\"\", age=0, address=\"\"):\n",
    "        self.name = name\n",
    "        self.age = age\n",
    "        self.address = address\n",
    "\n",
    "    def __str__(self):\n",
    "        return f\"Name: {self.name} | \\nAge: {self.age} | \\nAddress: {self.address}\"\n",
    "\n",
    "    def __repr__(self):\n",
    "        return f\"Object(\\\"{self.name}\\\", \\\"{self.age}\\\", \\\"{self.address}\\\")\"\n",
    "    \n",
    "    def get_attribs(self):\n",
    "        print(f\"Name: {self.name} | \\nAge: {self.age} | \\nAddress: {self.address}\")"
   ]
  },
  {
   "cell_type": "code",
   "execution_count": 54,
   "id": "1f2555c8-0926-4892-9a53-7c062777f147",
   "metadata": {},
   "outputs": [],
   "source": [
    "e2 = Employee(\"Arti\", 26, address=\"Kerela\")"
   ]
  },
  {
   "cell_type": "code",
   "execution_count": 55,
   "id": "b8e84d45-5609-4fc1-98a6-803a5407f894",
   "metadata": {},
   "outputs": [
    {
     "data": {
      "text/plain": [
       "Object(\"Arti\", \"26\", \"Kerela\")"
      ]
     },
     "execution_count": 55,
     "metadata": {},
     "output_type": "execute_result"
    }
   ],
   "source": [
    "e2"
   ]
  },
  {
   "cell_type": "code",
   "execution_count": 56,
   "id": "bce5886f-e470-45ad-8954-5e2df5b1fece",
   "metadata": {},
   "outputs": [
    {
     "name": "stdout",
     "output_type": "stream",
     "text": [
      "Name: Arti | \n",
      "Age: 26 | \n",
      "Address: Kerela\n"
     ]
    }
   ],
   "source": [
    "print(e2)"
   ]
  },
  {
   "cell_type": "code",
   "execution_count": 61,
   "id": "013bf91a-79ed-4ca0-92dc-df91ed18b5b4",
   "metadata": {},
   "outputs": [
    {
     "name": "stdout",
     "output_type": "stream",
     "text": [
      "<__main__.Employee object at 0x0000020A6A419010>\n"
     ]
    }
   ],
   "source": [
    "print(repr(e2))"
   ]
  },
  {
   "cell_type": "code",
   "execution_count": null,
   "id": "abd8a97f-207f-435b-a8dd-da9a4246e457",
   "metadata": {},
   "outputs": [],
   "source": []
  },
  {
   "cell_type": "code",
   "execution_count": 72,
   "id": "423df865-fd32-4adb-a98b-c0a38261c940",
   "metadata": {},
   "outputs": [],
   "source": [
    "class Point:\n",
    "    def __init__(self, xaxis=0, yaxis=0):\n",
    "        self.xaxis = xaxis\n",
    "        self.yaxis = yaxis\n",
    "\n",
    "    def __str__(self):\n",
    "        return f\"x-axis={self.xaxis},\\ny-axis={self.yaxis}\"\n",
    "\n",
    "    def __add__(self, other):\n",
    "        # self.xaxis = self.xaxis + other.xaxis\n",
    "        # self.yaxis = self.yaxis + other.yaxis\n",
    "        return f\"{self.xaxis + other.xaxis}, {self.yaxis + other.yaxis}\""
   ]
  },
  {
   "cell_type": "code",
   "execution_count": 73,
   "id": "446d1c58-0eb9-41aa-ba4a-a5e4d79618be",
   "metadata": {},
   "outputs": [],
   "source": [
    "P1 = Point(1,1)\n",
    "P2 = Point(2,3)"
   ]
  },
  {
   "cell_type": "code",
   "execution_count": 74,
   "id": "cf8b487b-5e19-4404-8cfd-4d0d83df0f6f",
   "metadata": {},
   "outputs": [
    {
     "name": "stdout",
     "output_type": "stream",
     "text": [
      "3, 4\n"
     ]
    }
   ],
   "source": [
    "print(P1 + P2)"
   ]
  },
  {
   "cell_type": "code",
   "execution_count": 75,
   "id": "72cbdcb2-9bb3-4e55-8bad-f895eb8b484c",
   "metadata": {},
   "outputs": [
    {
     "data": {
      "text/plain": [
       "'3, 4'"
      ]
     },
     "execution_count": 75,
     "metadata": {},
     "output_type": "execute_result"
    }
   ],
   "source": [
    "P1.__add__(P2)"
   ]
  },
  {
   "cell_type": "code",
   "execution_count": 76,
   "id": "d755a644-2eed-4172-a2ab-7966c09098f2",
   "metadata": {},
   "outputs": [
    {
     "data": {
      "text/plain": [
       "'x-axis=1,\\ny-axis=1'"
      ]
     },
     "execution_count": 76,
     "metadata": {},
     "output_type": "execute_result"
    }
   ],
   "source": [
    "str(P1)"
   ]
  },
  {
   "cell_type": "code",
   "execution_count": 77,
   "id": "a53c79f0-af0e-4c2e-ba98-87b2a0ce9032",
   "metadata": {},
   "outputs": [
    {
     "data": {
      "text/plain": [
       "3"
      ]
     },
     "execution_count": 77,
     "metadata": {},
     "output_type": "execute_result"
    }
   ],
   "source": [
    "len([1,2,3])"
   ]
  },
  {
   "cell_type": "markdown",
   "id": "08af62e6-8b65-4cf2-9cf4-333a2653aeaf",
   "metadata": {},
   "source": [
    "## Inheritence"
   ]
  },
  {
   "cell_type": "code",
   "execution_count": null,
   "id": "e1498afd-fc69-4224-9355-750f5906aa5a",
   "metadata": {},
   "outputs": [],
   "source": [
    "base class(Parent class) --> Sub class(child class)"
   ]
  },
  {
   "cell_type": "code",
   "execution_count": null,
   "id": "a98320f9-069e-4434-a49c-d619c7775f7c",
   "metadata": {},
   "outputs": [],
   "source": [
    "Single Inheritence\n",
    "A -> B\n",
    "Multilevel inheritence\n",
    "A -> B -> C\n",
    "Hierarical inheritence\n",
    "A -> C, A -> B, A -> D\n",
    "Multiple Inheritence\n",
    "B, C -> D\n",
    "Hybrid Inheritence\n",
    "A -> B, C -> D"
   ]
  },
  {
   "cell_type": "code",
   "execution_count": 78,
   "id": "74e8c3ec-aba6-48e5-b427-1b51112a681b",
   "metadata": {},
   "outputs": [],
   "source": [
    "class Animal:\n",
    "    name = \"\"\n",
    "\n",
    "    def eat(self):\n",
    "        print(\"I can eat\")\n",
    "\n",
    "class Dog(Animal):\n",
    "    def display(self):\n",
    "        print(\"My name is \", self.name)"
   ]
  },
  {
   "cell_type": "code",
   "execution_count": 79,
   "id": "3489fc1b-4e1d-47fc-8ea4-a7b511647eb5",
   "metadata": {},
   "outputs": [],
   "source": [
    "labrador = Dog()"
   ]
  },
  {
   "cell_type": "code",
   "execution_count": 80,
   "id": "9b2887f0-2b26-40b0-8656-915d82ff58c8",
   "metadata": {},
   "outputs": [],
   "source": [
    "labrador.name = \"Rocky\""
   ]
  },
  {
   "cell_type": "code",
   "execution_count": 81,
   "id": "5fe283be-4495-40ec-a5c5-9fefc85b3d80",
   "metadata": {},
   "outputs": [
    {
     "name": "stdout",
     "output_type": "stream",
     "text": [
      "I can eat\n"
     ]
    }
   ],
   "source": [
    "labrador.eat()"
   ]
  },
  {
   "cell_type": "code",
   "execution_count": 82,
   "id": "76c70483-16d1-4d0b-ac7f-828fdc63078d",
   "metadata": {},
   "outputs": [
    {
     "name": "stdout",
     "output_type": "stream",
     "text": [
      "My name is  Rocky\n"
     ]
    }
   ],
   "source": [
    "labrador.display()"
   ]
  },
  {
   "cell_type": "code",
   "execution_count": 83,
   "id": "244fc486-9b9c-4787-997c-98b8116f8d6a",
   "metadata": {},
   "outputs": [],
   "source": [
    "class Animal:\n",
    "    def __init__(self):\n",
    "        self.has_legs = True\n",
    "\n",
    "    def eat(self):\n",
    "        print(\"I can eat\")\n",
    "\n",
    "class Dog(Animal):\n",
    "    def __init__(self, name):\n",
    "        self.name =  name\n",
    "    def display(self):\n",
    "        print(\"My name is \", self.name)"
   ]
  },
  {
   "cell_type": "code",
   "execution_count": 84,
   "id": "27c17f2b-eece-4dd7-8ed6-a9620cd081dd",
   "metadata": {},
   "outputs": [],
   "source": [
    "d1 = Dog(\"Jimmy\")"
   ]
  },
  {
   "cell_type": "code",
   "execution_count": 85,
   "id": "aad0e983-fb08-4b39-9f53-d6d38bc8132e",
   "metadata": {},
   "outputs": [
    {
     "data": {
      "text/plain": [
       "'Jimmy'"
      ]
     },
     "execution_count": 85,
     "metadata": {},
     "output_type": "execute_result"
    }
   ],
   "source": [
    "d1.name"
   ]
  },
  {
   "cell_type": "code",
   "execution_count": 86,
   "id": "0fd4c78e-493e-413c-89aa-d78b01475979",
   "metadata": {},
   "outputs": [
    {
     "ename": "AttributeError",
     "evalue": "'Dog' object has no attribute 'has_legs'",
     "output_type": "error",
     "traceback": [
      "\u001b[1;31m---------------------------------------------------------------------------\u001b[0m",
      "\u001b[1;31mAttributeError\u001b[0m                            Traceback (most recent call last)",
      "Cell \u001b[1;32mIn[86], line 1\u001b[0m\n\u001b[1;32m----> 1\u001b[0m \u001b[43md1\u001b[49m\u001b[38;5;241;43m.\u001b[39;49m\u001b[43mhas_legs\u001b[49m\n",
      "\u001b[1;31mAttributeError\u001b[0m: 'Dog' object has no attribute 'has_legs'"
     ]
    }
   ],
   "source": [
    "d1.has_legs"
   ]
  },
  {
   "cell_type": "code",
   "execution_count": 87,
   "id": "66bfc3fe-a8c7-41d9-9bb1-7859230685f8",
   "metadata": {},
   "outputs": [],
   "source": [
    "class Animal:\n",
    "    def __init__(self):\n",
    "        self.has_legs = True\n",
    "\n",
    "    def eat(self):\n",
    "        print(\"I can eat\")\n",
    "\n",
    "class Dog(Animal):\n",
    "    # def __init__(self, name):\n",
    "    #     self.name =  name\n",
    "    def display(self):\n",
    "        print(\"My name is \", self.name)"
   ]
  },
  {
   "cell_type": "code",
   "execution_count": 88,
   "id": "76c42c3d-2a11-467e-8278-fc350029000f",
   "metadata": {},
   "outputs": [
    {
     "ename": "TypeError",
     "evalue": "Animal.__init__() takes 1 positional argument but 2 were given",
     "output_type": "error",
     "traceback": [
      "\u001b[1;31m---------------------------------------------------------------------------\u001b[0m",
      "\u001b[1;31mTypeError\u001b[0m                                 Traceback (most recent call last)",
      "Cell \u001b[1;32mIn[88], line 1\u001b[0m\n\u001b[1;32m----> 1\u001b[0m d1 \u001b[38;5;241m=\u001b[39m \u001b[43mDog\u001b[49m\u001b[43m(\u001b[49m\u001b[38;5;124;43m\"\u001b[39;49m\u001b[38;5;124;43mJimmy\u001b[39;49m\u001b[38;5;124;43m\"\u001b[39;49m\u001b[43m)\u001b[49m\n",
      "\u001b[1;31mTypeError\u001b[0m: Animal.__init__() takes 1 positional argument but 2 were given"
     ]
    }
   ],
   "source": [
    "d1 = Dog(\"Jimmy\")"
   ]
  },
  {
   "cell_type": "code",
   "execution_count": 89,
   "id": "53518eed-d52b-4979-bfc2-4e972eca1b4a",
   "metadata": {},
   "outputs": [],
   "source": [
    "d1 = Dog()"
   ]
  },
  {
   "cell_type": "code",
   "execution_count": 91,
   "id": "d7c598f1-9115-4fed-bfa1-e268221d29f3",
   "metadata": {},
   "outputs": [
    {
     "data": {
      "text/plain": [
       "True"
      ]
     },
     "execution_count": 91,
     "metadata": {},
     "output_type": "execute_result"
    }
   ],
   "source": [
    "d1.has_legs"
   ]
  },
  {
   "cell_type": "code",
   "execution_count": 92,
   "id": "45aa9123-9211-44e9-998b-77e1f4c7ef9d",
   "metadata": {},
   "outputs": [],
   "source": [
    "# super() method"
   ]
  },
  {
   "cell_type": "code",
   "execution_count": 93,
   "id": "e0ac52fa-98cb-470b-b0ac-a22f895771f1",
   "metadata": {},
   "outputs": [],
   "source": [
    "class Animal:\n",
    "    def __init__(self):\n",
    "        self.has_legs = True\n",
    "\n",
    "    def eat(self):\n",
    "        print(\"I can eat\")\n",
    "\n",
    "class Dog(Animal):\n",
    "    def __init__(self, name):\n",
    "        self.name =  name\n",
    "        super().__init__()\n",
    "    def display(self):\n",
    "        print(\"My name is \", self.name)"
   ]
  },
  {
   "cell_type": "code",
   "execution_count": 94,
   "id": "8fbe1f65-8050-4b98-863e-797ea4541434",
   "metadata": {},
   "outputs": [],
   "source": [
    "d1 = Dog(\"Jimmy\")"
   ]
  },
  {
   "cell_type": "code",
   "execution_count": 95,
   "id": "4428d02e-2abb-4204-bb83-d1e109783686",
   "metadata": {},
   "outputs": [
    {
     "data": {
      "text/plain": [
       "True"
      ]
     },
     "execution_count": 95,
     "metadata": {},
     "output_type": "execute_result"
    }
   ],
   "source": [
    "d1.has_legs"
   ]
  },
  {
   "cell_type": "code",
   "execution_count": 100,
   "id": "424c9a10-9f99-42d8-b9bf-62e0d7861e1e",
   "metadata": {},
   "outputs": [],
   "source": [
    "class Animal:\n",
    "    def __init__(self):\n",
    "        self.has_legs = True\n",
    "\n",
    "    def eat(self, food):\n",
    "        print(\"I can eat\", food)\n",
    "\n",
    "class Dog(Animal):\n",
    "    def __init__(self, name):\n",
    "        self.name =  name\n",
    "        super().__init__()\n",
    "\n",
    "    def eat(self, food):\n",
    "        print(\"I eat doggy food\")\n",
    "        super().eat(food)\n",
    "\n",
    "    def display(self):\n",
    "        print(\"My name is \", self.name)"
   ]
  },
  {
   "cell_type": "code",
   "execution_count": 101,
   "id": "9350b1d5-cbcb-415f-b883-d33ab9938a22",
   "metadata": {},
   "outputs": [],
   "source": [
    "a1 = Dog(\"Jack\")"
   ]
  },
  {
   "cell_type": "code",
   "execution_count": 102,
   "id": "15818cae-778c-4a74-a618-8dc66c045e06",
   "metadata": {},
   "outputs": [
    {
     "name": "stdout",
     "output_type": "stream",
     "text": [
      "I eat doggy food\n",
      "I can eat Chapati\n"
     ]
    }
   ],
   "source": [
    "a1.eat(\"Chapati\")"
   ]
  },
  {
   "cell_type": "code",
   "execution_count": 103,
   "id": "c7c541c8-8db3-48d5-af10-0d68d16b1a26",
   "metadata": {},
   "outputs": [],
   "source": [
    "# multilevel Inheritence"
   ]
  },
  {
   "cell_type": "code",
   "execution_count": 104,
   "id": "ee466911-720a-4a56-a165-71a964f255dc",
   "metadata": {},
   "outputs": [],
   "source": [
    "class A:\n",
    "    def __init__(self):\n",
    "        print(\"I am A\")\n",
    "\n",
    "    def funct_1(self):\n",
    "        print(\"I am funct_1 from A\")\n",
    "class B(A):\n",
    "    def __init__(self):\n",
    "        print(\"I am B\")\n",
    "\n",
    "    def funct_2(self):\n",
    "        print(\"I am funct_2 from B\")\n",
    "\n",
    "class C(B):\n",
    "    def __init__(self):\n",
    "        print(\"I am C\")\n",
    "\n",
    "    def funct_3(self):\n",
    "        print(\"I am funct_3 from C\")"
   ]
  },
  {
   "cell_type": "code",
   "execution_count": 105,
   "id": "fd58d775-2919-45b8-a67e-f895d715fa59",
   "metadata": {},
   "outputs": [
    {
     "name": "stdout",
     "output_type": "stream",
     "text": [
      "I am C\n"
     ]
    }
   ],
   "source": [
    "c = C()"
   ]
  },
  {
   "cell_type": "code",
   "execution_count": 106,
   "id": "303f6622-db4c-4902-b84f-9a1d7e6cc607",
   "metadata": {},
   "outputs": [
    {
     "name": "stdout",
     "output_type": "stream",
     "text": [
      "I am funct_3 from C\n"
     ]
    }
   ],
   "source": [
    "c.funct_3()"
   ]
  },
  {
   "cell_type": "code",
   "execution_count": 107,
   "id": "26f20edd-60f9-4e19-a8c7-3663e0d9cd76",
   "metadata": {},
   "outputs": [
    {
     "name": "stdout",
     "output_type": "stream",
     "text": [
      "I am funct_2 from B\n"
     ]
    }
   ],
   "source": [
    "c.funct_2()"
   ]
  },
  {
   "cell_type": "code",
   "execution_count": 108,
   "id": "9575c43c-d66e-4d3e-b7d3-359e6235f9c2",
   "metadata": {},
   "outputs": [
    {
     "name": "stdout",
     "output_type": "stream",
     "text": [
      "I am funct_1 from A\n"
     ]
    }
   ],
   "source": [
    "c.funct_1()"
   ]
  },
  {
   "cell_type": "code",
   "execution_count": null,
   "id": "050dbe86-b45c-403b-9c9e-a620c43086c0",
   "metadata": {},
   "outputs": [],
   "source": [
    "Method resolution order -> C->B->A"
   ]
  },
  {
   "cell_type": "code",
   "execution_count": 109,
   "id": "327a3478-93fa-42ca-909a-90f78724f20b",
   "metadata": {
    "collapsed": true,
    "jupyter": {
     "outputs_hidden": true
    }
   },
   "outputs": [
    {
     "name": "stdout",
     "output_type": "stream",
     "text": [
      "Help on class C in module __main__:\n",
      "\n",
      "class C(B)\n",
      " |  Method resolution order:\n",
      " |      C\n",
      " |      B\n",
      " |      A\n",
      " |      builtins.object\n",
      " |\n",
      " |  Methods defined here:\n",
      " |\n",
      " |  __init__(self)\n",
      " |      Initialize self.  See help(type(self)) for accurate signature.\n",
      " |\n",
      " |  funct_3(self)\n",
      " |\n",
      " |  ----------------------------------------------------------------------\n",
      " |  Methods inherited from B:\n",
      " |\n",
      " |  funct_2(self)\n",
      " |\n",
      " |  ----------------------------------------------------------------------\n",
      " |  Methods inherited from A:\n",
      " |\n",
      " |  funct_1(self)\n",
      " |\n",
      " |  ----------------------------------------------------------------------\n",
      " |  Data descriptors inherited from A:\n",
      " |\n",
      " |  __dict__\n",
      " |      dictionary for instance variables\n",
      " |\n",
      " |  __weakref__\n",
      " |      list of weak references to the object\n",
      "\n"
     ]
    }
   ],
   "source": [
    "help(C)"
   ]
  },
  {
   "cell_type": "code",
   "execution_count": null,
   "id": "3eff7108-e187-470e-886a-5d0902648811",
   "metadata": {},
   "outputs": [],
   "source": []
  },
  {
   "cell_type": "code",
   "execution_count": 119,
   "id": "6708bff6-81e6-487a-89eb-e63c29d32987",
   "metadata": {},
   "outputs": [],
   "source": [
    "class A:\n",
    "    def __init__(self):\n",
    "        print(\"I am A\")\n",
    "\n",
    "    def funct_1(self):\n",
    "        print(\"I am funct_1 from A\")\n",
    "class B(A):\n",
    "    def __init__(self):\n",
    "        super().__init__()\n",
    "        print(\"I am B\")\n",
    "\n",
    "    def funct_2(self):\n",
    "        print(\"I am funct_2 from B\")\n",
    "\n",
    "class C(B):\n",
    "    def __init__(self):\n",
    "        super().__init__()\n",
    "        print(\"I am C\")\n",
    "\n",
    "    def funct_3(self):\n",
    "        print(\"I am funct_3 from C\")"
   ]
  },
  {
   "cell_type": "code",
   "execution_count": 120,
   "id": "5eeeb1bd-8e9f-4d69-89a2-6ff92430a588",
   "metadata": {},
   "outputs": [
    {
     "name": "stdout",
     "output_type": "stream",
     "text": [
      "I am A\n",
      "I am B\n",
      "I am C\n"
     ]
    }
   ],
   "source": [
    "c = C()"
   ]
  },
  {
   "cell_type": "markdown",
   "id": "38fee84f-db44-454c-b032-fdc6434229ba",
   "metadata": {},
   "source": [
    "### Multiple inheritence"
   ]
  },
  {
   "cell_type": "code",
   "execution_count": 124,
   "id": "3708cf3d-54c2-45bd-b582-01fabfe236a5",
   "metadata": {},
   "outputs": [],
   "source": [
    "class A:\n",
    "    def __init__(self):\n",
    "        super().__init__()\n",
    "        print(\"I am from A\")\n",
    "\n",
    "class B:\n",
    "    def __init__(self):\n",
    "        super().__init__()\n",
    "        print(\"I am from B\")\n",
    "\n",
    "    def funct_1(self):\n",
    "        print(\"I am funct_1\")\n",
    "\n",
    "class C(A, B):\n",
    "    ..."
   ]
  },
  {
   "cell_type": "code",
   "execution_count": 125,
   "id": "2a865267-871e-41cd-af56-3346f4bb370a",
   "metadata": {},
   "outputs": [
    {
     "name": "stdout",
     "output_type": "stream",
     "text": [
      "I am from B\n",
      "I am from A\n"
     ]
    }
   ],
   "source": [
    "c = C()"
   ]
  },
  {
   "cell_type": "code",
   "execution_count": 126,
   "id": "1b6119ea-b2ca-43da-9114-d6b6a44376c9",
   "metadata": {},
   "outputs": [
    {
     "name": "stdout",
     "output_type": "stream",
     "text": [
      "I am funct_1\n"
     ]
    }
   ],
   "source": [
    "c.funct_1()"
   ]
  },
  {
   "cell_type": "code",
   "execution_count": 129,
   "id": "8df11769-6b80-481e-9457-5410a7efe42f",
   "metadata": {},
   "outputs": [],
   "source": [
    "class A:\n",
    "    def __init__(self):\n",
    "        super().__init__()\n",
    "        print(\"I am from A\")\n",
    "\n",
    "class B:\n",
    "    def __init__(self):\n",
    "        super().__init__()\n",
    "        print(\"I am from B\")\n",
    "\n",
    "    def funct_1(self):\n",
    "        print(\"I am funct_1\")\n",
    "\n",
    "class C(A, B):\n",
    "    def __init__(self):\n",
    "        super().__init__()\n",
    "        print(\"I am from C\")"
   ]
  },
  {
   "cell_type": "code",
   "execution_count": 130,
   "id": "768c6db9-39fe-43a5-87f0-88605bdf2dd6",
   "metadata": {},
   "outputs": [
    {
     "name": "stdout",
     "output_type": "stream",
     "text": [
      "I am from B\n",
      "I am from A\n",
      "I am from C\n"
     ]
    }
   ],
   "source": [
    "c = C()"
   ]
  },
  {
   "cell_type": "code",
   "execution_count": 134,
   "id": "5053ba27-001b-4f5c-8c45-309bb5baf0be",
   "metadata": {
    "collapsed": true,
    "jupyter": {
     "outputs_hidden": true
    }
   },
   "outputs": [
    {
     "name": "stdout",
     "output_type": "stream",
     "text": [
      "Help on C in module __main__ object:\n",
      "\n",
      "class C(A, B)\n",
      " |  Method resolution order:\n",
      " |      C\n",
      " |      A\n",
      " |      B\n",
      " |      builtins.object\n",
      " |\n",
      " |  Methods defined here:\n",
      " |\n",
      " |  __init__(self)\n",
      " |      Initialize self.  See help(type(self)) for accurate signature.\n",
      " |\n",
      " |  ----------------------------------------------------------------------\n",
      " |  Data descriptors inherited from A:\n",
      " |\n",
      " |  __dict__\n",
      " |      dictionary for instance variables\n",
      " |\n",
      " |  __weakref__\n",
      " |      list of weak references to the object\n",
      " |\n",
      " |  ----------------------------------------------------------------------\n",
      " |  Methods inherited from B:\n",
      " |\n",
      " |  funct_1(self)\n",
      "\n"
     ]
    }
   ],
   "source": [
    "help(c)"
   ]
  },
  {
   "cell_type": "markdown",
   "id": "6b29de45-0a7d-4ff2-af4f-5ff59bdd41e5",
   "metadata": {},
   "source": [
    "### Hybrid Inheritence"
   ]
  },
  {
   "cell_type": "code",
   "execution_count": 135,
   "id": "e8439c74-2738-4b6a-b8ed-faf3567ee280",
   "metadata": {},
   "outputs": [],
   "source": [
    "class A:\n",
    "    def __init__(self):\n",
    "        print(\"I am A\")\n",
    "        super().__init__()\n",
    "\n",
    "class B(A):\n",
    "    def __init__(self):\n",
    "        print(\"I am from B\")\n",
    "        super().__init__()\n",
    "class C(A):\n",
    "    def __init__(self):\n",
    "        print(\"I am from C\")\n",
    "        super().__init__()\n",
    "\n",
    "class D(B, C):\n",
    "    def __init__(self):\n",
    "        print(\"I am from D\")\n",
    "        super().__init__()"
   ]
  },
  {
   "cell_type": "code",
   "execution_count": 136,
   "id": "cf1df5fc-7e68-45a3-afa2-bdd3a598d115",
   "metadata": {},
   "outputs": [
    {
     "name": "stdout",
     "output_type": "stream",
     "text": [
      "I am from D\n",
      "I am from B\n",
      "I am from C\n",
      "I am A\n"
     ]
    }
   ],
   "source": [
    "d = D()"
   ]
  },
  {
   "cell_type": "code",
   "execution_count": null,
   "id": "0a8dd37c-3e1a-4cea-af0a-f81cf1c436a8",
   "metadata": {},
   "outputs": [],
   "source": []
  },
  {
   "cell_type": "code",
   "execution_count": 137,
   "id": "ded41775-7ec7-428d-aab4-34741731faf7",
   "metadata": {},
   "outputs": [],
   "source": [
    "from abc import ABC, abstractmethod"
   ]
  },
  {
   "cell_type": "code",
   "execution_count": 144,
   "id": "da78e1ea-7f7d-4097-b509-cae4c01a4d25",
   "metadata": {},
   "outputs": [],
   "source": [
    "class Employee(ABC):\n",
    "    def __init__(self, name, emp_id, department, experience):\n",
    "        self. name = name\n",
    "        self.emp_id = emp_id\n",
    "        self.department = department\n",
    "        self.experience = experience\n",
    "\n",
    "    @abstractmethod\n",
    "    def calculate_salary(self):\n",
    "        raise Exception(\"Calculate salary is not Impemented\")"
   ]
  },
  {
   "cell_type": "code",
   "execution_count": 145,
   "id": "41681f36-414c-42c5-a131-d9f703610b6d",
   "metadata": {},
   "outputs": [],
   "source": [
    "class FullTimeEmployee(Employee):\n",
    "    def __init__(self, name, emp_id, department, experience, salary):\n",
    "        super().__init__(name, emp_id, department, experience)\n",
    "        self.salary = salary"
   ]
  },
  {
   "cell_type": "code",
   "execution_count": 146,
   "id": "f53446d7-7c37-41ec-ab7f-5303b9ef395c",
   "metadata": {},
   "outputs": [
    {
     "ename": "TypeError",
     "evalue": "Can't instantiate abstract class FullTimeEmployee without an implementation for abstract method 'calculate_salary'",
     "output_type": "error",
     "traceback": [
      "\u001b[1;31m---------------------------------------------------------------------------\u001b[0m",
      "\u001b[1;31mTypeError\u001b[0m                                 Traceback (most recent call last)",
      "Cell \u001b[1;32mIn[146], line 1\u001b[0m\n\u001b[1;32m----> 1\u001b[0m fte \u001b[38;5;241m=\u001b[39m \u001b[43mFullTimeEmployee\u001b[49m\u001b[43m(\u001b[49m\u001b[38;5;124;43m\"\u001b[39;49m\u001b[38;5;124;43mSathya\u001b[39;49m\u001b[38;5;124;43m\"\u001b[39;49m\u001b[43m,\u001b[49m\u001b[43m \u001b[49m\u001b[38;5;241;43m125\u001b[39;49m\u001b[43m,\u001b[49m\u001b[43m \u001b[49m\u001b[38;5;124;43m\"\u001b[39;49m\u001b[38;5;124;43mR&D\u001b[39;49m\u001b[38;5;124;43m\"\u001b[39;49m\u001b[43m,\u001b[49m\u001b[43m \u001b[49m\u001b[38;5;124;43m\"\u001b[39;49m\u001b[38;5;124;43m5yrs\u001b[39;49m\u001b[38;5;124;43m\"\u001b[39;49m\u001b[43m,\u001b[49m\u001b[43m \u001b[49m\u001b[38;5;241;43m12000000\u001b[39;49m\u001b[43m)\u001b[49m\n",
      "\u001b[1;31mTypeError\u001b[0m: Can't instantiate abstract class FullTimeEmployee without an implementation for abstract method 'calculate_salary'"
     ]
    }
   ],
   "source": [
    "fte = FullTimeEmployee(\"Sathya\", 125, \"R&D\", \"5yrs\", 12000000)"
   ]
  },
  {
   "cell_type": "code",
   "execution_count": 147,
   "id": "b880260a-9414-4670-ba5a-0e190fdf5984",
   "metadata": {},
   "outputs": [],
   "source": [
    "class FullTimeEmployee(Employee):\n",
    "    def __init__(self, name, emp_id, department, experience, salary):\n",
    "        super().__init__(name, emp_id, department, experience)\n",
    "        self.salary = salary\n",
    "\n",
    "    def calculate_salary(self):\n",
    "        return f\"{self.name} (Full time) earns {self.salary}\""
   ]
  },
  {
   "cell_type": "code",
   "execution_count": 148,
   "id": "a56fe478-7d72-4feb-bb45-f37a74bddd21",
   "metadata": {},
   "outputs": [],
   "source": [
    "fte = FullTimeEmployee(\"Sathya\", 125, \"R&D\", \"5yrs\", 12000000)"
   ]
  },
  {
   "cell_type": "code",
   "execution_count": 149,
   "id": "12c13a05-07a9-42e8-8690-217fb632d5e5",
   "metadata": {},
   "outputs": [
    {
     "data": {
      "text/plain": [
       "'Sathya (Full time) earns 12000000'"
      ]
     },
     "execution_count": 149,
     "metadata": {},
     "output_type": "execute_result"
    }
   ],
   "source": [
    "fte.calculate_salary()"
   ]
  },
  {
   "cell_type": "code",
   "execution_count": 152,
   "id": "4456a5e8-2d4c-45de-bd4b-e4af4336436c",
   "metadata": {},
   "outputs": [],
   "source": [
    "class InterEmployee(Employee):\n",
    "    def __init__(self, name, emp_id, department, experience, stipen):\n",
    "        super().__init__(name, emp_id, department, experience)\n",
    "        self.stipen = stipen\n",
    "\n",
    "    def calculate_salary(self, performance_bonus=0):\n",
    "        return f\"{self.name} (Inter) earns {self.stipen + performance_bonus}\""
   ]
  },
  {
   "cell_type": "code",
   "execution_count": 153,
   "id": "b6a58d1d-782c-414a-bf75-af00fb1ad00d",
   "metadata": {},
   "outputs": [],
   "source": [
    "Intern = InterEmployee(\"Arti\", 126, \"R&D\", \"1yrs\", 120002)"
   ]
  },
  {
   "cell_type": "code",
   "execution_count": 154,
   "id": "1fa5ce29-c79d-4e48-9794-d7f8945259c2",
   "metadata": {},
   "outputs": [
    {
     "name": "stdout",
     "output_type": "stream",
     "text": [
      "Sathya (Full time) earns 12000000\n",
      "Arti (Inter) earns 120002\n"
     ]
    }
   ],
   "source": [
    "l_obj = [fte, Intern]\n",
    "for obj in l_obj:\n",
    "    print(obj.calculate_salary())"
   ]
  },
  {
   "cell_type": "code",
   "execution_count": null,
   "id": "b199e8b2-bfc0-4e20-9d6a-b3b3f548834f",
   "metadata": {},
   "outputs": [],
   "source": [
    "# design patterns in python"
   ]
  }
 ],
 "metadata": {
  "kernelspec": {
   "display_name": "Python 3 (ipykernel)",
   "language": "python",
   "name": "python3"
  },
  "language_info": {
   "codemirror_mode": {
    "name": "ipython",
    "version": 3
   },
   "file_extension": ".py",
   "mimetype": "text/x-python",
   "name": "python",
   "nbconvert_exporter": "python",
   "pygments_lexer": "ipython3",
   "version": "3.13.1"
  }
 },
 "nbformat": 4,
 "nbformat_minor": 5
}
