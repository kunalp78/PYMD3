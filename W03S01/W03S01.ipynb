{
 "cells": [
  {
   "cell_type": "markdown",
   "id": "f66569a2-21d4-4218-a951-e9a956bfc342",
   "metadata": {},
   "source": [
    "# Python Functions"
   ]
  },
  {
   "cell_type": "code",
   "execution_count": 1,
   "id": "70fa2130-91e2-49d1-b47b-21ebec9a1e7e",
   "metadata": {},
   "outputs": [],
   "source": [
    "# function definition\n",
    "def funct_1():\n",
    "    # statements\n",
    "    print(\"Hello I am inside the function1\")"
   ]
  },
  {
   "cell_type": "code",
   "execution_count": 2,
   "id": "1feac93c-1c4f-4d87-befc-993e2f5f11da",
   "metadata": {},
   "outputs": [
    {
     "name": "stdout",
     "output_type": "stream",
     "text": [
      "Hello I am inside the function1\n"
     ]
    }
   ],
   "source": [
    "funct_1()"
   ]
  },
  {
   "cell_type": "code",
   "execution_count": 4,
   "id": "fa28932d-88a7-4728-8d6c-939cc2b3d911",
   "metadata": {},
   "outputs": [
    {
     "name": "stdout",
     "output_type": "stream",
     "text": [
      "<function funct_1 at 0x0000016FF75DCAE0>\n"
     ]
    }
   ],
   "source": [
    "print(funct_1)"
   ]
  },
  {
   "cell_type": "code",
   "execution_count": 5,
   "id": "becefc6c-06c5-411a-9cb3-46d0a40d89e9",
   "metadata": {},
   "outputs": [],
   "source": [
    "def add_two_num(num1, num2):\n",
    "    sum_val = num1 + num2\n",
    "    print(sum_val)"
   ]
  },
  {
   "cell_type": "code",
   "execution_count": 6,
   "id": "adc65a8a-895d-4f16-b98d-dc4bf323bec9",
   "metadata": {},
   "outputs": [
    {
     "name": "stdout",
     "output_type": "stream",
     "text": [
      "11\n"
     ]
    }
   ],
   "source": [
    "add_two_num(5, 6)"
   ]
  },
  {
   "cell_type": "code",
   "execution_count": 7,
   "id": "0b1615e3-3359-43fd-ae5c-ff6795014b92",
   "metadata": {},
   "outputs": [
    {
     "name": "stdout",
     "output_type": "stream",
     "text": [
      "11\n"
     ]
    }
   ],
   "source": [
    "l = add_two_num(5, 6)"
   ]
  },
  {
   "cell_type": "code",
   "execution_count": 8,
   "id": "a173e878-a6ae-4f8b-811d-d59ae376ea69",
   "metadata": {},
   "outputs": [
    {
     "name": "stdout",
     "output_type": "stream",
     "text": [
      "None\n"
     ]
    }
   ],
   "source": [
    "print(l)"
   ]
  },
  {
   "cell_type": "code",
   "execution_count": 9,
   "id": "eee8f673-d386-4a6f-8931-ad33538d8bf2",
   "metadata": {},
   "outputs": [],
   "source": [
    "l = [1, 5, 6]\n",
    "t = len(l)"
   ]
  },
  {
   "cell_type": "code",
   "execution_count": 10,
   "id": "fbd85be2-5c56-48a3-9af5-310eb78de7e6",
   "metadata": {},
   "outputs": [
    {
     "name": "stdout",
     "output_type": "stream",
     "text": [
      "3\n"
     ]
    }
   ],
   "source": [
    "print(t)"
   ]
  },
  {
   "cell_type": "code",
   "execution_count": 11,
   "id": "b95d3b60-9693-4ef9-a0c1-71569b03e609",
   "metadata": {},
   "outputs": [],
   "source": [
    "def add_two_num(num1, num2):\n",
    "    sum_val = num1 + num2\n",
    "    return sum_val"
   ]
  },
  {
   "cell_type": "code",
   "execution_count": 12,
   "id": "7ff2d9d9-8f87-4f68-83c1-3bad6fd991c1",
   "metadata": {},
   "outputs": [],
   "source": [
    "l = add_two_num(8, 10)"
   ]
  },
  {
   "cell_type": "code",
   "execution_count": 13,
   "id": "1027b22f-5f08-4853-81b5-88c40a7a6858",
   "metadata": {},
   "outputs": [
    {
     "name": "stdout",
     "output_type": "stream",
     "text": [
      "18\n"
     ]
    }
   ],
   "source": [
    "print(l)"
   ]
  },
  {
   "cell_type": "code",
   "execution_count": 14,
   "id": "d974488a-c2bf-4f73-b35f-30c36f2b702c",
   "metadata": {},
   "outputs": [],
   "source": [
    "def some_funct(arg1, arg22, arg3):\n",
    "    pass"
   ]
  },
  {
   "cell_type": "code",
   "execution_count": 15,
   "id": "9c49eb37-7abc-4ee3-a388-18f31b88f328",
   "metadata": {},
   "outputs": [
    {
     "ename": "_IncompleteInputError",
     "evalue": "incomplete input (22416113.py, line 2)",
     "output_type": "error",
     "traceback": [
      "\u001b[1;36m  Cell \u001b[1;32mIn[15], line 2\u001b[1;36m\u001b[0m\n\u001b[1;33m    # hey passing it for now\u001b[0m\n\u001b[1;37m                            ^\u001b[0m\n\u001b[1;31m_IncompleteInputError\u001b[0m\u001b[1;31m:\u001b[0m incomplete input\n"
     ]
    }
   ],
   "source": [
    "def some_funct(arg1, arg22, arg3):\n",
    "    # hey passing it for now"
   ]
  },
  {
   "cell_type": "code",
   "execution_count": 16,
   "id": "bce190f4-890f-4961-a71a-248bbc4f4ee7",
   "metadata": {},
   "outputs": [],
   "source": [
    "def some_funct(arg1, arg22, arg3):\n",
    "    '''\n",
    "    Hey this function does something\n",
    "    '''"
   ]
  },
  {
   "cell_type": "code",
   "execution_count": 17,
   "id": "b6c6fc0f-ac3a-441a-bfff-6c1aaef7d062",
   "metadata": {},
   "outputs": [],
   "source": [
    "def some_funct():\n",
    "    ..."
   ]
  },
  {
   "cell_type": "code",
   "execution_count": 20,
   "id": "2db7d374-bd67-4876-929e-5b0ccd971907",
   "metadata": {},
   "outputs": [],
   "source": [
    "# arbitary argument\n",
    "def add_num(*arg):\n",
    "    print(type(arg))\n",
    "    print(arg)\n",
    "    # return sum_val"
   ]
  },
  {
   "cell_type": "code",
   "execution_count": 21,
   "id": "6a243d3f-bf8c-4194-9aa2-ad8ce58dd022",
   "metadata": {},
   "outputs": [
    {
     "name": "stdout",
     "output_type": "stream",
     "text": [
      "<class 'tuple'>\n",
      "(1, 3, 4, 8, 9, 45, 99)\n"
     ]
    }
   ],
   "source": [
    "add_num(1, 3, 4, 8, 9, 45, 99)"
   ]
  },
  {
   "cell_type": "code",
   "execution_count": 22,
   "id": "89e55183-11eb-449f-b5e9-ee68a0f04d76",
   "metadata": {},
   "outputs": [
    {
     "ename": "TypeError",
     "evalue": "random_num() takes 1 positional argument but 7 were given",
     "output_type": "error",
     "traceback": [
      "\u001b[1;31m---------------------------------------------------------------------------\u001b[0m",
      "\u001b[1;31mTypeError\u001b[0m                                 Traceback (most recent call last)",
      "Cell \u001b[1;32mIn[22], line 5\u001b[0m\n\u001b[0;32m      3\u001b[0m     \u001b[38;5;28mprint\u001b[39m(arg)\n\u001b[0;32m      4\u001b[0m     \u001b[38;5;66;03m# return sum_val\u001b[39;00m\n\u001b[1;32m----> 5\u001b[0m \u001b[43mrandom_num\u001b[49m\u001b[43m(\u001b[49m\u001b[38;5;241;43m1\u001b[39;49m\u001b[43m,\u001b[49m\u001b[43m \u001b[49m\u001b[38;5;241;43m3\u001b[39;49m\u001b[43m,\u001b[49m\u001b[43m \u001b[49m\u001b[38;5;241;43m4\u001b[39;49m\u001b[43m,\u001b[49m\u001b[43m \u001b[49m\u001b[38;5;241;43m8\u001b[39;49m\u001b[43m,\u001b[49m\u001b[43m \u001b[49m\u001b[38;5;241;43m9\u001b[39;49m\u001b[43m,\u001b[49m\u001b[43m \u001b[49m\u001b[38;5;241;43m45\u001b[39;49m\u001b[43m,\u001b[49m\u001b[43m \u001b[49m\u001b[38;5;241;43m99\u001b[39;49m\u001b[43m)\u001b[49m\n",
      "\u001b[1;31mTypeError\u001b[0m: random_num() takes 1 positional argument but 7 were given"
     ]
    }
   ],
   "source": [
    "def random_num(arg):\n",
    "    print(type(arg))\n",
    "    print(arg)\n",
    "    # return sum_val\n",
    "random_num(1, 3, 4, 8, 9, 45, 99)"
   ]
  },
  {
   "cell_type": "code",
   "execution_count": 23,
   "id": "b8469726-770c-4160-a357-b4b1303f7f49",
   "metadata": {},
   "outputs": [],
   "source": [
    "def add_num(*arg):\n",
    "    summ = 0\n",
    "    for i in arg:\n",
    "        summ += i\n",
    "    print(summ)"
   ]
  },
  {
   "cell_type": "code",
   "execution_count": 24,
   "id": "a1aca7d8-1ed7-473a-a1c9-8b3b74ec50cb",
   "metadata": {},
   "outputs": [
    {
     "name": "stdout",
     "output_type": "stream",
     "text": [
      "169\n"
     ]
    }
   ],
   "source": [
    "add_num(1, 3, 4, 8, 9, 45, 99)"
   ]
  },
  {
   "cell_type": "code",
   "execution_count": 25,
   "id": "7f081a3c-cc3d-4ee0-8909-abdc58be131f",
   "metadata": {},
   "outputs": [],
   "source": [
    "def add_two_num(num1, num2):\n",
    "    print(f\"num1: {num1}\")\n",
    "    print(f\"num2: {num2}\")\n",
    "    sum_val = num1 + num2\n",
    "    return sum_val"
   ]
  },
  {
   "cell_type": "code",
   "execution_count": 26,
   "id": "41f028c0-a06b-4435-8f27-9c4775028460",
   "metadata": {},
   "outputs": [
    {
     "name": "stdout",
     "output_type": "stream",
     "text": [
      "num1: 5\n",
      "num2: 9\n"
     ]
    },
    {
     "data": {
      "text/plain": [
       "14"
      ]
     },
     "execution_count": 26,
     "metadata": {},
     "output_type": "execute_result"
    }
   ],
   "source": [
    "add_two_num(5, 9)"
   ]
  },
  {
   "cell_type": "code",
   "execution_count": 27,
   "id": "8e8d1bd6-2c35-4d19-befe-98d5b6f9567f",
   "metadata": {},
   "outputs": [
    {
     "name": "stdout",
     "output_type": "stream",
     "text": [
      "num1: 9\n",
      "num2: 5\n"
     ]
    },
    {
     "data": {
      "text/plain": [
       "14"
      ]
     },
     "execution_count": 27,
     "metadata": {},
     "output_type": "execute_result"
    }
   ],
   "source": [
    "# keyword argument\n",
    "add_two_num(num2=5, num1=9)"
   ]
  },
  {
   "cell_type": "code",
   "execution_count": 28,
   "id": "da383b94-365b-42ed-8544-890d8db36ad2",
   "metadata": {},
   "outputs": [],
   "source": [
    "def cal_percentage(total_num, maths, evs, sst, science):\n",
    "    perc = ((maths+evs+sst+science)/total_num)*100\n",
    "    return str(perc) + \"%\""
   ]
  },
  {
   "cell_type": "code",
   "execution_count": 29,
   "id": "03bb50d3-6ac1-46b7-b4d8-903b9ba2cf8a",
   "metadata": {},
   "outputs": [
    {
     "data": {
      "text/plain": [
       "'72.0%'"
      ]
     },
     "execution_count": 29,
     "metadata": {},
     "output_type": "execute_result"
    }
   ],
   "source": [
    "cal_percentage(400, 56, 56, 78, 98)"
   ]
  },
  {
   "cell_type": "code",
   "execution_count": 30,
   "id": "ff2fb3d0-14da-49ce-8c3a-58f7afe29b8e",
   "metadata": {},
   "outputs": [
    {
     "data": {
      "text/plain": [
       "'82.75%'"
      ]
     },
     "execution_count": 30,
     "metadata": {},
     "output_type": "execute_result"
    }
   ],
   "source": [
    "cal_percentage(400, evs=56, maths=99, sst=78, science=98)"
   ]
  },
  {
   "cell_type": "code",
   "execution_count": 31,
   "id": "1dbc2dc1-8ca7-4f51-8650-2e665b9b53f7",
   "metadata": {},
   "outputs": [
    {
     "data": {
      "text/plain": [
       "76.5"
      ]
     },
     "execution_count": 31,
     "metadata": {},
     "output_type": "execute_result"
    }
   ],
   "source": [
    "def cal_average(total_student, *marks):\n",
    "    average = sum(marks)/total_student\n",
    "    return average\n",
    "cal_average(10, 99, 89, 56, 96, 48, 89, 56, 96, 48, 88)"
   ]
  },
  {
   "cell_type": "code",
   "execution_count": 33,
   "id": "0722d026-42a7-4eb8-93ff-3e37a12cac0e",
   "metadata": {},
   "outputs": [
    {
     "data": {
      "text/plain": [
       "76.5"
      ]
     },
     "execution_count": 33,
     "metadata": {},
     "output_type": "execute_result"
    }
   ],
   "source": [
    "cal_average(10, 99, 89, 56, 96, 48, 89, 56, 96, 48, 88)"
   ]
  },
  {
   "cell_type": "markdown",
   "id": "27c275fd-2165-4ca9-94ea-88b93296f597",
   "metadata": {},
   "source": [
    "## Arbitary Keyword argument"
   ]
  },
  {
   "cell_type": "code",
   "execution_count": 36,
   "id": "77368cea-7e7e-46e1-8994-6ac27c709b7e",
   "metadata": {},
   "outputs": [],
   "source": [
    "def cal_percentage(total_num, **subjects):\n",
    "    print(subjects)"
   ]
  },
  {
   "cell_type": "code",
   "execution_count": 38,
   "id": "740c2a66-dd9d-4bb9-a4bf-85980e5efda7",
   "metadata": {},
   "outputs": [
    {
     "name": "stdout",
     "output_type": "stream",
     "text": [
      "{'maths': 100, 'sst': 56, 'evs': 85, 'language': 79, 'science': 95}\n"
     ]
    }
   ],
   "source": [
    "cal_percentage(500, maths=100, sst=56, evs=85, language=79, science=95)"
   ]
  },
  {
   "cell_type": "code",
   "execution_count": 39,
   "id": "7bc6e151-4d78-4faa-b12b-4a9b494db08f",
   "metadata": {},
   "outputs": [],
   "source": [
    "def cal_percentage(total_num, **subjects):\n",
    "    for num in subjects:\n",
    "        print(f\"{num}: {subjects[num]}\")"
   ]
  },
  {
   "cell_type": "code",
   "execution_count": 40,
   "id": "7c28280d-fabe-42e0-9a3b-dc82784240ea",
   "metadata": {},
   "outputs": [
    {
     "name": "stdout",
     "output_type": "stream",
     "text": [
      "maths: 100\n",
      "sst: 56\n",
      "evs: 85\n",
      "language: 79\n",
      "science: 95\n"
     ]
    }
   ],
   "source": [
    "cal_percentage(500, maths=100, sst=56, evs=85, language=79, science=95)"
   ]
  },
  {
   "cell_type": "code",
   "execution_count": 41,
   "id": "0da08d14-f290-4a32-b88f-16775db9098f",
   "metadata": {},
   "outputs": [
    {
     "name": "stdout",
     "output_type": "stream",
     "text": [
      "maths: 100\n",
      "sst: 56\n",
      "evs: 85\n",
      "language: 79\n",
      "science: 95\n"
     ]
    },
    {
     "data": {
      "text/plain": [
       "'83.0%'"
      ]
     },
     "execution_count": 41,
     "metadata": {},
     "output_type": "execute_result"
    }
   ],
   "source": [
    "def cal_percentage(total_num, **subjects):\n",
    "    for num in subjects:\n",
    "        print(f\"{num}: {subjects[num]}\")\n",
    "    return f\"{(sum(subjects.values())/total_num)*100}%\"\n",
    "cal_percentage(500, maths=100, sst=56, evs=85, language=79, science=95)"
   ]
  },
  {
   "cell_type": "code",
   "execution_count": 43,
   "id": "37ec75e3-b2cc-4817-9e22-18072f5e3992",
   "metadata": {},
   "outputs": [],
   "source": [
    "name = \"Akshay, office address\""
   ]
  },
  {
   "cell_type": "code",
   "execution_count": 44,
   "id": "667639a1-fe44-4c14-8f26-b1612a44b7a6",
   "metadata": {},
   "outputs": [
    {
     "name": "stdin",
     "output_type": "stream",
     "text": [
      "ENter the address 46/11, Canada\n"
     ]
    }
   ],
   "source": [
    "name = f\"Akshay, office address{input('ENter the address')}\""
   ]
  },
  {
   "cell_type": "code",
   "execution_count": 45,
   "id": "835e27e7-37d9-458c-805d-fc36d9aac269",
   "metadata": {},
   "outputs": [
    {
     "data": {
      "text/plain": [
       "'Akshay, office address46/11, Canada'"
      ]
     },
     "execution_count": 45,
     "metadata": {},
     "output_type": "execute_result"
    }
   ],
   "source": [
    "name"
   ]
  },
  {
   "cell_type": "markdown",
   "id": "4e650536-7615-4bb8-ab88-a97339b7a963",
   "metadata": {},
   "source": [
    "# Anonymous function"
   ]
  },
  {
   "cell_type": "code",
   "execution_count": 48,
   "id": "749c92df-4570-4880-886d-9f24099517bd",
   "metadata": {},
   "outputs": [],
   "source": [
    "# lambda expression"
   ]
  },
  {
   "cell_type": "code",
   "execution_count": null,
   "id": "f7607b3e-62b7-4751-8d32-bc4fa5043285",
   "metadata": {},
   "outputs": [],
   "source": [
    "# lambda arguments: expression"
   ]
  },
  {
   "cell_type": "code",
   "execution_count": 49,
   "id": "5c32e760-c4b4-4cae-ab5d-1664ffffaea4",
   "metadata": {},
   "outputs": [
    {
     "data": {
      "text/plain": [
       "<function __main__.<lambda>(password)>"
      ]
     },
     "execution_count": 49,
     "metadata": {},
     "output_type": "execute_result"
    }
   ],
   "source": [
    "lambda password: hash(password) * 25"
   ]
  },
  {
   "cell_type": "code",
   "execution_count": 50,
   "id": "e2b01701-7107-4d42-be1d-5cfb927dc6f6",
   "metadata": {},
   "outputs": [
    {
     "name": "stdout",
     "output_type": "stream",
     "text": [
      "<function <lambda> at 0x0000016FF87293A0>\n"
     ]
    }
   ],
   "source": [
    "print(lambda password: hash(password) * 25)"
   ]
  },
  {
   "cell_type": "code",
   "execution_count": 51,
   "id": "20e063f0-e241-4fce-b8a8-8b2942c3a64c",
   "metadata": {},
   "outputs": [
    {
     "name": "stdout",
     "output_type": "stream",
     "text": [
      "<function <lambda> at 0x0000016FF87293A0>\n"
     ]
    }
   ],
   "source": [
    "print(lambda password: hash(password) * 25)"
   ]
  },
  {
   "cell_type": "code",
   "execution_count": 53,
   "id": "bd3ab5de-d1d0-423e-8acf-28ed0495e625",
   "metadata": {},
   "outputs": [],
   "source": [
    "hashed_val = (lambda password: hash(password) * 25)(\"kunal\")"
   ]
  },
  {
   "cell_type": "code",
   "execution_count": 54,
   "id": "336f94a2-d8c6-4de3-82a6-37ad18e58501",
   "metadata": {},
   "outputs": [
    {
     "name": "stdout",
     "output_type": "stream",
     "text": [
      "123330278249697161825\n"
     ]
    }
   ],
   "source": [
    "print(hashed_val)"
   ]
  },
  {
   "cell_type": "code",
   "execution_count": 56,
   "id": "901a23f3-ad25-4c5b-a569-ef76e38a93aa",
   "metadata": {},
   "outputs": [
    {
     "name": "stdin",
     "output_type": "stream",
     "text": [
      "Enter your password kunal\n"
     ]
    },
    {
     "name": "stdout",
     "output_type": "stream",
     "text": [
      "True\n"
     ]
    }
   ],
   "source": [
    "print(hash(input(\"Enter your password\")) * 25 == hashed_val) "
   ]
  },
  {
   "cell_type": "code",
   "execution_count": 57,
   "id": "2cefa2b7-e13e-4b6a-b3bb-77cb4caa374e",
   "metadata": {},
   "outputs": [
    {
     "name": "stdin",
     "output_type": "stream",
     "text": [
      "Enter your password Kunal\n"
     ]
    },
    {
     "name": "stdout",
     "output_type": "stream",
     "text": [
      "False\n"
     ]
    }
   ],
   "source": [
    "print(hash(input(\"Enter your password\")) * 25 == hashed_val) "
   ]
  },
  {
   "cell_type": "code",
   "execution_count": 58,
   "id": "a67623fc-cb31-42a9-9d26-a913eeced1aa",
   "metadata": {},
   "outputs": [],
   "source": [
    "x = lambda a, b: a+b"
   ]
  },
  {
   "cell_type": "code",
   "execution_count": 59,
   "id": "59ef8e5a-3344-425e-bbf7-60c948f58416",
   "metadata": {},
   "outputs": [
    {
     "data": {
      "text/plain": [
       "13"
      ]
     },
     "execution_count": 59,
     "metadata": {},
     "output_type": "execute_result"
    }
   ],
   "source": [
    "x(5, 8)"
   ]
  },
  {
   "cell_type": "markdown",
   "id": "568b040a-168f-48d1-bf13-e8f4c45201e6",
   "metadata": {},
   "source": [
    "### Map function"
   ]
  },
  {
   "cell_type": "code",
   "execution_count": 60,
   "id": "465e0877-3318-414d-b564-4cbe8ee0baa6",
   "metadata": {},
   "outputs": [],
   "source": [
    "# you have a list of strings and you want to get the lentgth of each strings"
   ]
  },
  {
   "cell_type": "code",
   "execution_count": 61,
   "id": "85af20cb-8e57-4ee2-bc99-0b3221e230db",
   "metadata": {},
   "outputs": [],
   "source": [
    "length_of_string = [\"Akshay\", \"Vijay\", \"Jyoti\", \"Sravan\"]\n",
    "def print_length_of_strings(list_of_str):\n",
    "    list_of_len_str = []\n",
    "    for strings in list_of_str:\n",
    "        list_of_len_str.append(len(strings))\n",
    "    return list_of_len_str"
   ]
  },
  {
   "cell_type": "code",
   "execution_count": 62,
   "id": "d0a994b9-03be-4ba4-a2fe-9c880fa6faa3",
   "metadata": {},
   "outputs": [
    {
     "data": {
      "text/plain": [
       "[6, 5, 5, 6]"
      ]
     },
     "execution_count": 62,
     "metadata": {},
     "output_type": "execute_result"
    }
   ],
   "source": [
    "print_length_of_strings(length_of_string)"
   ]
  },
  {
   "cell_type": "code",
   "execution_count": null,
   "id": "89807483-ddef-453e-bba8-aa412d5af8c2",
   "metadata": {},
   "outputs": [],
   "source": [
    "\"\"\"\n",
    "map(func, iterable)\n",
    "[\"Akshay\", \"Vijay\", \"Jyoti\", \"Sravan\"]\n",
    "    |         |        |        |      \\\n",
    "   func      func     func     func  <--map\n",
    "    |         |        |        |      /\n",
    " [v1,        v2,      v3,       v4] <--\n",
    "\"\"\""
   ]
  },
  {
   "cell_type": "code",
   "execution_count": 65,
   "id": "04754795-5782-4f9f-9ad4-abd304ea7350",
   "metadata": {},
   "outputs": [
    {
     "data": {
      "text/plain": [
       "[6, 5, 5, 6]"
      ]
     },
     "execution_count": 65,
     "metadata": {},
     "output_type": "execute_result"
    }
   ],
   "source": [
    "list(map(len, length_of_string))"
   ]
  },
  {
   "cell_type": "code",
   "execution_count": 66,
   "id": "d8dc879b-1f21-4d16-bf47-d124b582b967",
   "metadata": {},
   "outputs": [
    {
     "data": {
      "text/plain": [
       "[3, 4, 9, 8, 15]"
      ]
     },
     "execution_count": 66,
     "metadata": {},
     "output_type": "execute_result"
    }
   ],
   "source": [
    "# create a list form given list which multiplies 2 to the even number and 3 to the odd number\n",
    "l = [1, 2, 3, 4, 5]\n",
    "def num_resolver(num):\n",
    "    if num%2:\n",
    "        return num * 3\n",
    "    else:\n",
    "        return num * 2\n",
    "list(map(num_resolver, l))"
   ]
  },
  {
   "cell_type": "code",
   "execution_count": 69,
   "id": "b0c449d0-dd61-42fe-8a06-0696de04de28",
   "metadata": {},
   "outputs": [
    {
     "data": {
      "text/plain": [
       "<map at 0x16ff8478e80>"
      ]
     },
     "execution_count": 69,
     "metadata": {},
     "output_type": "execute_result"
    }
   ],
   "source": [
    "map(num_resolver, l)"
   ]
  },
  {
   "cell_type": "code",
   "execution_count": 70,
   "id": "3a970c20-dc6d-4c4f-ab52-a74d53b2281a",
   "metadata": {},
   "outputs": [
    {
     "name": "stdout",
     "output_type": "stream",
     "text": [
      "<map object at 0x0000016FF8478C70>\n"
     ]
    }
   ],
   "source": [
    "print(map(num_resolver, l))"
   ]
  },
  {
   "cell_type": "code",
   "execution_count": 71,
   "id": "b7af22fc-643c-423b-abbe-7a724dba95df",
   "metadata": {},
   "outputs": [
    {
     "data": {
      "text/plain": [
       "(3, 4, 9, 8, 15)"
      ]
     },
     "execution_count": 71,
     "metadata": {},
     "output_type": "execute_result"
    }
   ],
   "source": [
    "tuple(map(num_resolver, l))"
   ]
  },
  {
   "cell_type": "code",
   "execution_count": 72,
   "id": "96b6821c-858f-4ffe-b284-5c9fee432562",
   "metadata": {},
   "outputs": [
    {
     "data": {
      "text/plain": [
       "(3, 4, 9, 8, 15)"
      ]
     },
     "execution_count": 72,
     "metadata": {},
     "output_type": "execute_result"
    }
   ],
   "source": [
    "var = map(num_resolver, l)\n",
    "tuple(var)"
   ]
  },
  {
   "cell_type": "code",
   "execution_count": 74,
   "id": "383faf31-8bca-4960-824f-84aa1f0f6069",
   "metadata": {},
   "outputs": [
    {
     "name": "stdout",
     "output_type": "stream",
     "text": [
      "3\n",
      "4\n",
      "9\n",
      "8\n",
      "15\n"
     ]
    }
   ],
   "source": [
    "for num in map(num_resolver, l):\n",
    "    print(num)"
   ]
  },
  {
   "cell_type": "code",
   "execution_count": 75,
   "id": "cb7fb794-f5db-4704-86b2-dfe696112ab0",
   "metadata": {},
   "outputs": [
    {
     "data": {
      "text/plain": [
       "{3, 4, 8, 9, 15}"
      ]
     },
     "execution_count": 75,
     "metadata": {},
     "output_type": "execute_result"
    }
   ],
   "source": [
    "set(map(lambda num: num*3 if num%2 else num*2, l))"
   ]
  },
  {
   "cell_type": "code",
   "execution_count": 77,
   "id": "60030ae8-fb0f-4f75-906f-b98e4bd6dab8",
   "metadata": {},
   "outputs": [
    {
     "data": {
      "text/plain": [
       "(3, 4, 9, 8, 15)"
      ]
     },
     "execution_count": 77,
     "metadata": {},
     "output_type": "execute_result"
    }
   ],
   "source": [
    "tuple(map(lambda num: num*3 if num%2 else num*2, l))"
   ]
  },
  {
   "cell_type": "markdown",
   "id": "e52ed7ad-f4d8-475e-bf0c-212bf60e37c4",
   "metadata": {},
   "source": [
    "### Fiter function"
   ]
  },
  {
   "cell_type": "code",
   "execution_count": 78,
   "id": "6532a774-3df8-4c2f-8f8a-d6ba3579ce76",
   "metadata": {},
   "outputs": [],
   "source": [
    "\n",
    "list_of_nums = [1, 2, 58, 97, 65, 74, 100, 104, 152]\n",
    "# we want a list of numbers from list_of_nums which are less than 50\n"
   ]
  },
  {
   "cell_type": "code",
   "execution_count": 79,
   "id": "9281572a-ed93-4540-a279-01fa140409b4",
   "metadata": {},
   "outputs": [],
   "source": [
    "# filter(func, iterable)"
   ]
  },
  {
   "cell_type": "code",
   "execution_count": 80,
   "id": "f8345d3f-49e7-4262-8d5d-a20183385a03",
   "metadata": {},
   "outputs": [
    {
     "data": {
      "text/plain": [
       "[1, 2]"
      ]
     },
     "execution_count": 80,
     "metadata": {},
     "output_type": "execute_result"
    }
   ],
   "source": [
    "list(filter(lambda num: num<50, list_of_nums))"
   ]
  },
  {
   "cell_type": "code",
   "execution_count": null,
   "id": "90a3baa7-d09b-4088-a58a-9eace91ea154",
   "metadata": {},
   "outputs": [],
   "source": [
    "\"\"\"\n",
    "[1,   2,   58]\n",
    " |    |    |  \\\n",
    " |    |    |   \\\n",
    " fun  fun  fun<--filter\n",
    " |     |   X    /\n",
    " |     |       / \n",
    "[1,    2] <----\n",
    "\n",
    "\"\"\""
   ]
  },
  {
   "cell_type": "code",
   "execution_count": 81,
   "id": "c3ab713e-8ea1-432f-a785-f68f9ebe4865",
   "metadata": {},
   "outputs": [
    {
     "data": {
      "text/plain": [
       "[2, 58, 74, 100, 104, 152]"
      ]
     },
     "execution_count": 81,
     "metadata": {},
     "output_type": "execute_result"
    }
   ],
   "source": [
    "list_of_nums = [1, 2, 58, 97, 65, 74, 100, 104, 152]\n",
    "def filter_even(num):\n",
    "    return num%2 == 0\n",
    "list(filter(filter_even, list_of_nums))"
   ]
  },
  {
   "cell_type": "code",
   "execution_count": 82,
   "id": "5fcda2c3-2b4a-49e4-be1d-5c4a78c028c9",
   "metadata": {},
   "outputs": [
    {
     "data": {
      "text/plain": [
       "[2, 58, 74, 100, 104, 152]"
      ]
     },
     "execution_count": 82,
     "metadata": {},
     "output_type": "execute_result"
    }
   ],
   "source": [
    "list(filter(lambda num: not num%2, list_of_nums))"
   ]
  },
  {
   "cell_type": "code",
   "execution_count": 83,
   "id": "1c3074bf-db03-4e73-a3bf-6dd5a1933e83",
   "metadata": {},
   "outputs": [],
   "source": [
    "import math"
   ]
  },
  {
   "cell_type": "code",
   "execution_count": 84,
   "id": "5f70b8f2-9140-4782-94d4-bbf452aff2e7",
   "metadata": {
    "collapsed": true,
    "jupyter": {
     "outputs_hidden": true
    },
    "scrolled": true
   },
   "outputs": [
    {
     "name": "stdout",
     "output_type": "stream",
     "text": [
      "Help on built-in module math:\n",
      "\n",
      "NAME\n",
      "    math\n",
      "\n",
      "DESCRIPTION\n",
      "    This module provides access to the mathematical functions\n",
      "    defined by the C standard.\n",
      "\n",
      "FUNCTIONS\n",
      "    acos(x, /)\n",
      "        Return the arc cosine (measured in radians) of x.\n",
      "\n",
      "        The result is between 0 and pi.\n",
      "\n",
      "    acosh(x, /)\n",
      "        Return the inverse hyperbolic cosine of x.\n",
      "\n",
      "    asin(x, /)\n",
      "        Return the arc sine (measured in radians) of x.\n",
      "\n",
      "        The result is between -pi/2 and pi/2.\n",
      "\n",
      "    asinh(x, /)\n",
      "        Return the inverse hyperbolic sine of x.\n",
      "\n",
      "    atan(x, /)\n",
      "        Return the arc tangent (measured in radians) of x.\n",
      "\n",
      "        The result is between -pi/2 and pi/2.\n",
      "\n",
      "    atan2(y, x, /)\n",
      "        Return the arc tangent (measured in radians) of y/x.\n",
      "\n",
      "        Unlike atan(y/x), the signs of both x and y are considered.\n",
      "\n",
      "    atanh(x, /)\n",
      "        Return the inverse hyperbolic tangent of x.\n",
      "\n",
      "    cbrt(x, /)\n",
      "        Return the cube root of x.\n",
      "\n",
      "    ceil(x, /)\n",
      "        Return the ceiling of x as an Integral.\n",
      "\n",
      "        This is the smallest integer >= x.\n",
      "\n",
      "    comb(n, k, /)\n",
      "        Number of ways to choose k items from n items without repetition and without order.\n",
      "\n",
      "        Evaluates to n! / (k! * (n - k)!) when k <= n and evaluates\n",
      "        to zero when k > n.\n",
      "\n",
      "        Also called the binomial coefficient because it is equivalent\n",
      "        to the coefficient of k-th term in polynomial expansion of the\n",
      "        expression (1 + x)**n.\n",
      "\n",
      "        Raises TypeError if either of the arguments are not integers.\n",
      "        Raises ValueError if either of the arguments are negative.\n",
      "\n",
      "    copysign(x, y, /)\n",
      "        Return a float with the magnitude (absolute value) of x but the sign of y.\n",
      "\n",
      "        On platforms that support signed zeros, copysign(1.0, -0.0)\n",
      "        returns -1.0.\n",
      "\n",
      "    cos(x, /)\n",
      "        Return the cosine of x (measured in radians).\n",
      "\n",
      "    cosh(x, /)\n",
      "        Return the hyperbolic cosine of x.\n",
      "\n",
      "    degrees(x, /)\n",
      "        Convert angle x from radians to degrees.\n",
      "\n",
      "    dist(p, q, /)\n",
      "        Return the Euclidean distance between two points p and q.\n",
      "\n",
      "        The points should be specified as sequences (or iterables) of\n",
      "        coordinates.  Both inputs must have the same dimension.\n",
      "\n",
      "        Roughly equivalent to:\n",
      "            sqrt(sum((px - qx) ** 2.0 for px, qx in zip(p, q)))\n",
      "\n",
      "    erf(x, /)\n",
      "        Error function at x.\n",
      "\n",
      "    erfc(x, /)\n",
      "        Complementary error function at x.\n",
      "\n",
      "    exp(x, /)\n",
      "        Return e raised to the power of x.\n",
      "\n",
      "    exp2(x, /)\n",
      "        Return 2 raised to the power of x.\n",
      "\n",
      "    expm1(x, /)\n",
      "        Return exp(x)-1.\n",
      "\n",
      "        This function avoids the loss of precision involved in the direct evaluation of exp(x)-1 for small x.\n",
      "\n",
      "    fabs(x, /)\n",
      "        Return the absolute value of the float x.\n",
      "\n",
      "    factorial(n, /)\n",
      "        Find n!.\n",
      "\n",
      "        Raise a ValueError if x is negative or non-integral.\n",
      "\n",
      "    floor(x, /)\n",
      "        Return the floor of x as an Integral.\n",
      "\n",
      "        This is the largest integer <= x.\n",
      "\n",
      "    fma(x, y, z, /)\n",
      "        Fused multiply-add operation.\n",
      "\n",
      "        Compute (x * y) + z with a single round.\n",
      "\n",
      "    fmod(x, y, /)\n",
      "        Return fmod(x, y), according to platform C.\n",
      "\n",
      "        x % y may differ.\n",
      "\n",
      "    frexp(x, /)\n",
      "        Return the mantissa and exponent of x, as pair (m, e).\n",
      "\n",
      "        m is a float and e is an int, such that x = m * 2.**e.\n",
      "        If x is 0, m and e are both 0.  Else 0.5 <= abs(m) < 1.0.\n",
      "\n",
      "    fsum(seq, /)\n",
      "        Return an accurate floating-point sum of values in the iterable seq.\n",
      "\n",
      "        Assumes IEEE-754 floating-point arithmetic.\n",
      "\n",
      "    gamma(x, /)\n",
      "        Gamma function at x.\n",
      "\n",
      "    gcd(*integers)\n",
      "        Greatest Common Divisor.\n",
      "\n",
      "    hypot(...)\n",
      "        hypot(*coordinates) -> value\n",
      "\n",
      "        Multidimensional Euclidean distance from the origin to a point.\n",
      "\n",
      "        Roughly equivalent to:\n",
      "            sqrt(sum(x**2 for x in coordinates))\n",
      "\n",
      "        For a two dimensional point (x, y), gives the hypotenuse\n",
      "        using the Pythagorean theorem:  sqrt(x*x + y*y).\n",
      "\n",
      "        For example, the hypotenuse of a 3/4/5 right triangle is:\n",
      "\n",
      "            >>> hypot(3.0, 4.0)\n",
      "            5.0\n",
      "\n",
      "    isclose(a, b, *, rel_tol=1e-09, abs_tol=0.0)\n",
      "        Determine whether two floating-point numbers are close in value.\n",
      "\n",
      "          rel_tol\n",
      "            maximum difference for being considered \"close\", relative to the\n",
      "            magnitude of the input values\n",
      "          abs_tol\n",
      "            maximum difference for being considered \"close\", regardless of the\n",
      "            magnitude of the input values\n",
      "\n",
      "        Return True if a is close in value to b, and False otherwise.\n",
      "\n",
      "        For the values to be considered close, the difference between them\n",
      "        must be smaller than at least one of the tolerances.\n",
      "\n",
      "        -inf, inf and NaN behave similarly to the IEEE 754 Standard.  That\n",
      "        is, NaN is not close to anything, even itself.  inf and -inf are\n",
      "        only close to themselves.\n",
      "\n",
      "    isfinite(x, /)\n",
      "        Return True if x is neither an infinity nor a NaN, and False otherwise.\n",
      "\n",
      "    isinf(x, /)\n",
      "        Return True if x is a positive or negative infinity, and False otherwise.\n",
      "\n",
      "    isnan(x, /)\n",
      "        Return True if x is a NaN (not a number), and False otherwise.\n",
      "\n",
      "    isqrt(n, /)\n",
      "        Return the integer part of the square root of the input.\n",
      "\n",
      "    lcm(*integers)\n",
      "        Least Common Multiple.\n",
      "\n",
      "    ldexp(x, i, /)\n",
      "        Return x * (2**i).\n",
      "\n",
      "        This is essentially the inverse of frexp().\n",
      "\n",
      "    lgamma(x, /)\n",
      "        Natural logarithm of absolute value of Gamma function at x.\n",
      "\n",
      "    log(...)\n",
      "        log(x, [base=math.e])\n",
      "        Return the logarithm of x to the given base.\n",
      "\n",
      "        If the base is not specified, returns the natural logarithm (base e) of x.\n",
      "\n",
      "    log10(x, /)\n",
      "        Return the base 10 logarithm of x.\n",
      "\n",
      "    log1p(x, /)\n",
      "        Return the natural logarithm of 1+x (base e).\n",
      "\n",
      "        The result is computed in a way which is accurate for x near zero.\n",
      "\n",
      "    log2(x, /)\n",
      "        Return the base 2 logarithm of x.\n",
      "\n",
      "    modf(x, /)\n",
      "        Return the fractional and integer parts of x.\n",
      "\n",
      "        Both results carry the sign of x and are floats.\n",
      "\n",
      "    nextafter(x, y, /, *, steps=None)\n",
      "        Return the floating-point value the given number of steps after x towards y.\n",
      "\n",
      "        If steps is not specified or is None, it defaults to 1.\n",
      "\n",
      "        Raises a TypeError, if x or y is not a double, or if steps is not an integer.\n",
      "        Raises ValueError if steps is negative.\n",
      "\n",
      "    perm(n, k=None, /)\n",
      "        Number of ways to choose k items from n items without repetition and with order.\n",
      "\n",
      "        Evaluates to n! / (n - k)! when k <= n and evaluates\n",
      "        to zero when k > n.\n",
      "\n",
      "        If k is not specified or is None, then k defaults to n\n",
      "        and the function returns n!.\n",
      "\n",
      "        Raises TypeError if either of the arguments are not integers.\n",
      "        Raises ValueError if either of the arguments are negative.\n",
      "\n",
      "    pow(x, y, /)\n",
      "        Return x**y (x to the power of y).\n",
      "\n",
      "    prod(iterable, /, *, start=1)\n",
      "        Calculate the product of all the elements in the input iterable.\n",
      "\n",
      "        The default start value for the product is 1.\n",
      "\n",
      "        When the iterable is empty, return the start value.  This function is\n",
      "        intended specifically for use with numeric values and may reject\n",
      "        non-numeric types.\n",
      "\n",
      "    radians(x, /)\n",
      "        Convert angle x from degrees to radians.\n",
      "\n",
      "    remainder(x, y, /)\n",
      "        Difference between x and the closest integer multiple of y.\n",
      "\n",
      "        Return x - n*y where n*y is the closest integer multiple of y.\n",
      "        In the case where x is exactly halfway between two multiples of\n",
      "        y, the nearest even value of n is used. The result is always exact.\n",
      "\n",
      "    sin(x, /)\n",
      "        Return the sine of x (measured in radians).\n",
      "\n",
      "    sinh(x, /)\n",
      "        Return the hyperbolic sine of x.\n",
      "\n",
      "    sqrt(x, /)\n",
      "        Return the square root of x.\n",
      "\n",
      "    sumprod(p, q, /)\n",
      "        Return the sum of products of values from two iterables p and q.\n",
      "\n",
      "        Roughly equivalent to:\n",
      "\n",
      "            sum(itertools.starmap(operator.mul, zip(p, q, strict=True)))\n",
      "\n",
      "        For float and mixed int/float inputs, the intermediate products\n",
      "        and sums are computed with extended precision.\n",
      "\n",
      "    tan(x, /)\n",
      "        Return the tangent of x (measured in radians).\n",
      "\n",
      "    tanh(x, /)\n",
      "        Return the hyperbolic tangent of x.\n",
      "\n",
      "    trunc(x, /)\n",
      "        Truncates the Real x to the nearest Integral toward 0.\n",
      "\n",
      "        Uses the __trunc__ magic method.\n",
      "\n",
      "    ulp(x, /)\n",
      "        Return the value of the least significant bit of the float x.\n",
      "\n",
      "DATA\n",
      "    e = 2.718281828459045\n",
      "    inf = inf\n",
      "    nan = nan\n",
      "    pi = 3.141592653589793\n",
      "    tau = 6.283185307179586\n",
      "\n",
      "FILE\n",
      "    (built-in)\n",
      "\n",
      "\n"
     ]
    }
   ],
   "source": [
    "help(math)"
   ]
  },
  {
   "cell_type": "code",
   "execution_count": 85,
   "id": "69907fa9-6763-4317-ad10-e7f6ec2dc465",
   "metadata": {},
   "outputs": [
    {
     "data": {
      "text/plain": [
       "25.0"
      ]
     },
     "execution_count": 85,
     "metadata": {},
     "output_type": "execute_result"
    }
   ],
   "source": [
    "math.pow(5, 2)"
   ]
  },
  {
   "cell_type": "code",
   "execution_count": 86,
   "id": "de15264a-438f-4270-b5f4-4c4c72fe79b3",
   "metadata": {},
   "outputs": [
    {
     "data": {
      "text/plain": [
       "30.25"
      ]
     },
     "execution_count": 86,
     "metadata": {},
     "output_type": "execute_result"
    }
   ],
   "source": [
    "math.pow(5.5, 2)"
   ]
  },
  {
   "cell_type": "code",
   "execution_count": 87,
   "id": "1bf53901-61b1-4ada-8852-b04b1540ea94",
   "metadata": {},
   "outputs": [
    {
     "data": {
      "text/plain": [
       "30"
      ]
     },
     "execution_count": 87,
     "metadata": {},
     "output_type": "execute_result"
    }
   ],
   "source": [
    "math.floor(30.25)"
   ]
  },
  {
   "cell_type": "code",
   "execution_count": 88,
   "id": "8ac687a4-bb26-438f-8662-2f9f75fe233f",
   "metadata": {},
   "outputs": [
    {
     "data": {
      "text/plain": [
       "31"
      ]
     },
     "execution_count": 88,
     "metadata": {},
     "output_type": "execute_result"
    }
   ],
   "source": [
    "math.ceil(30.25)"
   ]
  },
  {
   "cell_type": "code",
   "execution_count": 89,
   "id": "38b67eb9-1155-4f40-8a70-f7b87c6373dd",
   "metadata": {},
   "outputs": [],
   "source": [
    "import random"
   ]
  },
  {
   "cell_type": "code",
   "execution_count": 90,
   "id": "a18f215f-d67b-44cf-8952-121ef8039a4b",
   "metadata": {},
   "outputs": [
    {
     "name": "stdout",
     "output_type": "stream",
     "text": [
      "0.8219000153397505\n"
     ]
    }
   ],
   "source": [
    "print(random.random())"
   ]
  },
  {
   "cell_type": "code",
   "execution_count": 92,
   "id": "3950ea09-a2e1-48c1-a912-e49833fa18f8",
   "metadata": {},
   "outputs": [
    {
     "name": "stdout",
     "output_type": "stream",
     "text": [
      "0.27798238532578345\n",
      "0.28198408622702253\n",
      "0.16264664348293922\n",
      "0.035595303162641145\n",
      "0.27317179688770343\n",
      "0.8432079017305247\n",
      "0.9989709223364125\n",
      "0.5532295453831966\n",
      "0.05122956085795294\n",
      "0.5398925423590631\n"
     ]
    }
   ],
   "source": [
    "for i in range(10):\n",
    "    print(random.random())"
   ]
  },
  {
   "cell_type": "code",
   "execution_count": 93,
   "id": "f3e89682-0f9a-4070-8721-74c05af00337",
   "metadata": {},
   "outputs": [],
   "source": [
    "from random import random, randint"
   ]
  },
  {
   "cell_type": "code",
   "execution_count": 94,
   "id": "48ada191-f1c0-41ff-87dd-30b3c8f64dda",
   "metadata": {},
   "outputs": [
    {
     "name": "stdout",
     "output_type": "stream",
     "text": [
      "3\n"
     ]
    },
    {
     "name": "stdin",
     "output_type": "stream",
     "text": [
      "Do you want to continue y\n"
     ]
    },
    {
     "name": "stdout",
     "output_type": "stream",
     "text": [
      "1\n"
     ]
    },
    {
     "name": "stdin",
     "output_type": "stream",
     "text": [
      "Do you want to continue \n"
     ]
    },
    {
     "name": "stdout",
     "output_type": "stream",
     "text": [
      "6\n"
     ]
    },
    {
     "name": "stdin",
     "output_type": "stream",
     "text": [
      "Do you want to continue \n"
     ]
    },
    {
     "name": "stdout",
     "output_type": "stream",
     "text": [
      "4\n"
     ]
    },
    {
     "name": "stdin",
     "output_type": "stream",
     "text": [
      "Do you want to continue \n"
     ]
    },
    {
     "name": "stdout",
     "output_type": "stream",
     "text": [
      "5\n"
     ]
    },
    {
     "name": "stdin",
     "output_type": "stream",
     "text": [
      "Do you want to continue \n"
     ]
    },
    {
     "name": "stdout",
     "output_type": "stream",
     "text": [
      "1\n"
     ]
    },
    {
     "name": "stdin",
     "output_type": "stream",
     "text": [
      "Do you want to continue \n"
     ]
    },
    {
     "name": "stdout",
     "output_type": "stream",
     "text": [
      "4\n"
     ]
    },
    {
     "name": "stdin",
     "output_type": "stream",
     "text": [
      "Do you want to continue \n"
     ]
    },
    {
     "name": "stdout",
     "output_type": "stream",
     "text": [
      "4\n"
     ]
    },
    {
     "name": "stdin",
     "output_type": "stream",
     "text": [
      "Do you want to continue \n"
     ]
    },
    {
     "name": "stdout",
     "output_type": "stream",
     "text": [
      "5\n"
     ]
    },
    {
     "name": "stdin",
     "output_type": "stream",
     "text": [
      "Do you want to continue \n"
     ]
    },
    {
     "name": "stdout",
     "output_type": "stream",
     "text": [
      "2\n"
     ]
    },
    {
     "name": "stdin",
     "output_type": "stream",
     "text": [
      "Do you want to continue \n"
     ]
    },
    {
     "name": "stdout",
     "output_type": "stream",
     "text": [
      "1\n"
     ]
    },
    {
     "name": "stdin",
     "output_type": "stream",
     "text": [
      "Do you want to continue n\n"
     ]
    }
   ],
   "source": [
    "while 1:\n",
    "    print(randint(1, 6))\n",
    "    play = input(\"Do you want to continue\")\n",
    "    if play.lower() == \"n\":\n",
    "        break"
   ]
  },
  {
   "cell_type": "code",
   "execution_count": 2,
   "id": "de58c8d9-c5e6-41f0-858e-8b8700317139",
   "metadata": {
    "collapsed": true,
    "jupyter": {
     "outputs_hidden": true
    }
   },
   "outputs": [
    {
     "name": "stdout",
     "output_type": "stream",
     "text": [
      "Help on module random:\n",
      "\n",
      "NAME\n",
      "    random - Random variable generators.\n",
      "\n",
      "MODULE REFERENCE\n",
      "    https://docs.python.org/3.13/library/random.html\n",
      "\n",
      "    The following documentation is automatically generated from the Python\n",
      "    source files.  It may be incomplete, incorrect or include features that\n",
      "    are considered implementation detail and may vary between Python\n",
      "    implementations.  When in doubt, consult the module reference at the\n",
      "    location listed above.\n",
      "\n",
      "DESCRIPTION\n",
      "        bytes\n",
      "        -----\n",
      "               uniform bytes (values between 0 and 255)\n",
      "\n",
      "        integers\n",
      "        --------\n",
      "               uniform within range\n",
      "\n",
      "        sequences\n",
      "        ---------\n",
      "               pick random element\n",
      "               pick random sample\n",
      "               pick weighted random sample\n",
      "               generate random permutation\n",
      "\n",
      "        distributions on the real line:\n",
      "        ------------------------------\n",
      "               uniform\n",
      "               triangular\n",
      "               normal (Gaussian)\n",
      "               lognormal\n",
      "               negative exponential\n",
      "               gamma\n",
      "               beta\n",
      "               pareto\n",
      "               Weibull\n",
      "\n",
      "        distributions on the circle (angles 0 to 2pi)\n",
      "        ---------------------------------------------\n",
      "               circular uniform\n",
      "               von Mises\n",
      "\n",
      "        discrete distributions\n",
      "        ----------------------\n",
      "               binomial\n",
      "\n",
      "\n",
      "    General notes on the underlying Mersenne Twister core generator:\n",
      "\n",
      "    * The period is 2**19937-1.\n",
      "    * It is one of the most extensively tested generators in existence.\n",
      "    * The random() method is implemented in C, executes in a single Python step,\n",
      "      and is, therefore, threadsafe.\n",
      "\n",
      "CLASSES\n",
      "    _random.Random(builtins.object)\n",
      "        Random\n",
      "            SystemRandom\n",
      "\n",
      "    class Random(_random.Random)\n",
      "     |  Random(x=None)\n",
      "     |\n",
      "     |  Random number generator base class used by bound module functions.\n",
      "     |\n",
      "     |  Used to instantiate instances of Random to get generators that don't\n",
      "     |  share state.\n",
      "     |\n",
      "     |  Class Random can also be subclassed if you want to use a different basic\n",
      "     |  generator of your own devising: in that case, override the following\n",
      "     |  methods:  random(), seed(), getstate(), and setstate().\n",
      "     |  Optionally, implement a getrandbits() method so that randrange()\n",
      "     |  can cover arbitrarily large ranges.\n",
      "     |\n",
      "     |  Method resolution order:\n",
      "     |      Random\n",
      "     |      _random.Random\n",
      "     |      builtins.object\n",
      "     |\n",
      "     |  Methods defined here:\n",
      "     |\n",
      "     |  __getstate__(self)\n",
      "     |      Helper for pickle.\n",
      "     |\n",
      "     |  __init__(self, x=None)\n",
      "     |      Initialize an instance.\n",
      "     |\n",
      "     |      Optional argument x controls seeding, as for Random.seed().\n",
      "     |\n",
      "     |  __reduce__(self)\n",
      "     |      Helper for pickle.\n",
      "     |\n",
      "     |  __setstate__(self, state)\n",
      "     |\n",
      "     |  betavariate(self, alpha, beta)\n",
      "     |      Beta distribution.\n",
      "     |\n",
      "     |      Conditions on the parameters are alpha > 0 and beta > 0.\n",
      "     |      Returned values range between 0 and 1.\n",
      "     |\n",
      "     |      The mean (expected value) and variance of the random variable are:\n",
      "     |\n",
      "     |          E[X] = alpha / (alpha + beta)\n",
      "     |          Var[X] = alpha * beta / ((alpha + beta)**2 * (alpha + beta + 1))\n",
      "     |\n",
      "     |  binomialvariate(self, n=1, p=0.5)\n",
      "     |      Binomial random variable.\n",
      "     |\n",
      "     |      Gives the number of successes for *n* independent trials\n",
      "     |      with the probability of success in each trial being *p*:\n",
      "     |\n",
      "     |          sum(random() < p for i in range(n))\n",
      "     |\n",
      "     |      Returns an integer in the range:   0 <= X <= n\n",
      "     |\n",
      "     |      The mean (expected value) and variance of the random variable are:\n",
      "     |\n",
      "     |          E[X] = n * p\n",
      "     |          Var[x] = n * p * (1 - p)\n",
      "     |\n",
      "     |  choice(self, seq)\n",
      "     |      Choose a random element from a non-empty sequence.\n",
      "     |\n",
      "     |  choices(self, population, weights=None, *, cum_weights=None, k=1)\n",
      "     |      Return a k sized list of population elements chosen with replacement.\n",
      "     |\n",
      "     |      If the relative weights or cumulative weights are not specified,\n",
      "     |      the selections are made with equal probability.\n",
      "     |\n",
      "     |  expovariate(self, lambd=1.0)\n",
      "     |      Exponential distribution.\n",
      "     |\n",
      "     |      lambd is 1.0 divided by the desired mean.  It should be\n",
      "     |      nonzero.  (The parameter would be called \"lambda\", but that is\n",
      "     |      a reserved word in Python.)  Returned values range from 0 to\n",
      "     |      positive infinity if lambd is positive, and from negative\n",
      "     |      infinity to 0 if lambd is negative.\n",
      "     |\n",
      "     |      The mean (expected value) and variance of the random variable are:\n",
      "     |\n",
      "     |          E[X] = 1 / lambd\n",
      "     |          Var[X] = 1 / lambd ** 2\n",
      "     |\n",
      "     |  gammavariate(self, alpha, beta)\n",
      "     |      Gamma distribution.  Not the gamma function!\n",
      "     |\n",
      "     |      Conditions on the parameters are alpha > 0 and beta > 0.\n",
      "     |\n",
      "     |      The probability distribution function is:\n",
      "     |\n",
      "     |                  x ** (alpha - 1) * math.exp(-x / beta)\n",
      "     |        pdf(x) =  --------------------------------------\n",
      "     |                    math.gamma(alpha) * beta ** alpha\n",
      "     |\n",
      "     |      The mean (expected value) and variance of the random variable are:\n",
      "     |\n",
      "     |          E[X] = alpha * beta\n",
      "     |          Var[X] = alpha * beta ** 2\n",
      "     |\n",
      "     |  gauss(self, mu=0.0, sigma=1.0)\n",
      "     |      Gaussian distribution.\n",
      "     |\n",
      "     |      mu is the mean, and sigma is the standard deviation.  This is\n",
      "     |      slightly faster than the normalvariate() function.\n",
      "     |\n",
      "     |      Not thread-safe without a lock around calls.\n",
      "     |\n",
      "     |  getstate(self)\n",
      "     |      Return internal state; can be passed to setstate() later.\n",
      "     |\n",
      "     |  lognormvariate(self, mu, sigma)\n",
      "     |      Log normal distribution.\n",
      "     |\n",
      "     |      If you take the natural logarithm of this distribution, you'll get a\n",
      "     |      normal distribution with mean mu and standard deviation sigma.\n",
      "     |      mu can have any value, and sigma must be greater than zero.\n",
      "     |\n",
      "     |  normalvariate(self, mu=0.0, sigma=1.0)\n",
      "     |      Normal distribution.\n",
      "     |\n",
      "     |      mu is the mean, and sigma is the standard deviation.\n",
      "     |\n",
      "     |  paretovariate(self, alpha)\n",
      "     |      Pareto distribution.  alpha is the shape parameter.\n",
      "     |\n",
      "     |  randbytes(self, n)\n",
      "     |      Generate n random bytes.\n",
      "     |\n",
      "     |  randint(self, a, b)\n",
      "     |      Return random integer in range [a, b], including both end points.\n",
      "     |\n",
      "     |  randrange(self, start, stop=None, step=1)\n",
      "     |      Choose a random item from range(stop) or range(start, stop[, step]).\n",
      "     |\n",
      "     |      Roughly equivalent to ``choice(range(start, stop, step))`` but\n",
      "     |      supports arbitrarily large ranges and is optimized for common cases.\n",
      "     |\n",
      "     |  sample(self, population, k, *, counts=None)\n",
      "     |      Chooses k unique random elements from a population sequence.\n",
      "     |\n",
      "     |      Returns a new list containing elements from the population while\n",
      "     |      leaving the original population unchanged.  The resulting list is\n",
      "     |      in selection order so that all sub-slices will also be valid random\n",
      "     |      samples.  This allows raffle winners (the sample) to be partitioned\n",
      "     |      into grand prize and second place winners (the subslices).\n",
      "     |\n",
      "     |      Members of the population need not be hashable or unique.  If the\n",
      "     |      population contains repeats, then each occurrence is a possible\n",
      "     |      selection in the sample.\n",
      "     |\n",
      "     |      Repeated elements can be specified one at a time or with the optional\n",
      "     |      counts parameter.  For example:\n",
      "     |\n",
      "     |          sample(['red', 'blue'], counts=[4, 2], k=5)\n",
      "     |\n",
      "     |      is equivalent to:\n",
      "     |\n",
      "     |          sample(['red', 'red', 'red', 'red', 'blue', 'blue'], k=5)\n",
      "     |\n",
      "     |      To choose a sample from a range of integers, use range() for the\n",
      "     |      population argument.  This is especially fast and space efficient\n",
      "     |      for sampling from a large population:\n",
      "     |\n",
      "     |          sample(range(10000000), 60)\n",
      "     |\n",
      "     |  seed(self, a=None, version=2)\n",
      "     |      Initialize internal state from a seed.\n",
      "     |\n",
      "     |      The only supported seed types are None, int, float,\n",
      "     |      str, bytes, and bytearray.\n",
      "     |\n",
      "     |      None or no argument seeds from current time or from an operating\n",
      "     |      system specific randomness source if available.\n",
      "     |\n",
      "     |      If *a* is an int, all bits are used.\n",
      "     |\n",
      "     |      For version 2 (the default), all of the bits are used if *a* is a str,\n",
      "     |      bytes, or bytearray.  For version 1 (provided for reproducing random\n",
      "     |      sequences from older versions of Python), the algorithm for str and\n",
      "     |      bytes generates a narrower range of seeds.\n",
      "     |\n",
      "     |  setstate(self, state)\n",
      "     |      Restore internal state from object returned by getstate().\n",
      "     |\n",
      "     |  shuffle(self, x)\n",
      "     |      Shuffle list x in place, and return None.\n",
      "     |\n",
      "     |  triangular(self, low=0.0, high=1.0, mode=None)\n",
      "     |      Triangular distribution.\n",
      "     |\n",
      "     |      Continuous distribution bounded by given lower and upper limits,\n",
      "     |      and having a given mode value in-between.\n",
      "     |\n",
      "     |      http://en.wikipedia.org/wiki/Triangular_distribution\n",
      "     |\n",
      "     |      The mean (expected value) and variance of the random variable are:\n",
      "     |\n",
      "     |          E[X] = (low + high + mode) / 3\n",
      "     |          Var[X] = (low**2 + high**2 + mode**2 - low*high - low*mode - high*mode) / 18\n",
      "     |\n",
      "     |  uniform(self, a, b)\n",
      "     |      Get a random number in the range [a, b) or [a, b] depending on rounding.\n",
      "     |\n",
      "     |      The mean (expected value) and variance of the random variable are:\n",
      "     |\n",
      "     |          E[X] = (a + b) / 2\n",
      "     |          Var[X] = (b - a) ** 2 / 12\n",
      "     |\n",
      "     |  vonmisesvariate(self, mu, kappa)\n",
      "     |      Circular data distribution.\n",
      "     |\n",
      "     |      mu is the mean angle, expressed in radians between 0 and 2*pi, and\n",
      "     |      kappa is the concentration parameter, which must be greater than or\n",
      "     |      equal to zero.  If kappa is equal to zero, this distribution reduces\n",
      "     |      to a uniform random angle over the range 0 to 2*pi.\n",
      "     |\n",
      "     |  weibullvariate(self, alpha, beta)\n",
      "     |      Weibull distribution.\n",
      "     |\n",
      "     |      alpha is the scale parameter and beta is the shape parameter.\n",
      "     |\n",
      "     |  ----------------------------------------------------------------------\n",
      "     |  Class methods defined here:\n",
      "     |\n",
      "     |  __init_subclass__(**kwargs)\n",
      "     |      Control how subclasses generate random integers.\n",
      "     |\n",
      "     |      The algorithm a subclass can use depends on the random() and/or\n",
      "     |      getrandbits() implementation available to it and determines\n",
      "     |      whether it can generate random integers from arbitrarily large\n",
      "     |      ranges.\n",
      "     |\n",
      "     |  ----------------------------------------------------------------------\n",
      "     |  Data descriptors defined here:\n",
      "     |\n",
      "     |  __dict__\n",
      "     |      dictionary for instance variables\n",
      "     |\n",
      "     |  __weakref__\n",
      "     |      list of weak references to the object\n",
      "     |\n",
      "     |  ----------------------------------------------------------------------\n",
      "     |  Data and other attributes defined here:\n",
      "     |\n",
      "     |  VERSION = 3\n",
      "     |\n",
      "     |  ----------------------------------------------------------------------\n",
      "     |  Methods inherited from _random.Random:\n",
      "     |\n",
      "     |  getrandbits(self, k, /)\n",
      "     |      getrandbits(k) -> x.  Generates an int with k random bits.\n",
      "     |\n",
      "     |  random(self, /)\n",
      "     |      random() -> x in the interval [0, 1).\n",
      "     |\n",
      "     |  ----------------------------------------------------------------------\n",
      "     |  Static methods inherited from _random.Random:\n",
      "     |\n",
      "     |  __new__(*args, **kwargs) class method of _random.Random\n",
      "     |      Create and return a new object.  See help(type) for accurate signature.\n",
      "\n",
      "    class SystemRandom(Random)\n",
      "     |  SystemRandom(x=None)\n",
      "     |\n",
      "     |  Alternate random number generator using sources provided\n",
      "     |  by the operating system (such as /dev/urandom on Unix or\n",
      "     |  CryptGenRandom on Windows).\n",
      "     |\n",
      "     |   Not available on all systems (see os.urandom() for details).\n",
      "     |\n",
      "     |  Method resolution order:\n",
      "     |      SystemRandom\n",
      "     |      Random\n",
      "     |      _random.Random\n",
      "     |      builtins.object\n",
      "     |\n",
      "     |  Methods defined here:\n",
      "     |\n",
      "     |  getrandbits(self, k)\n",
      "     |      getrandbits(k) -> x.  Generates an int with k random bits.\n",
      "     |\n",
      "     |  getstate = _notimplemented(self, *args, **kwds)\n",
      "     |\n",
      "     |  randbytes(self, n)\n",
      "     |      Generate n random bytes.\n",
      "     |\n",
      "     |  random(self)\n",
      "     |      Get the next random number in the range 0.0 <= X < 1.0.\n",
      "     |\n",
      "     |  seed(self, *args, **kwds)\n",
      "     |      Stub method.  Not used for a system random number generator.\n",
      "     |\n",
      "     |  setstate = _notimplemented(self, *args, **kwds)\n",
      "     |\n",
      "     |  ----------------------------------------------------------------------\n",
      "     |  Methods inherited from Random:\n",
      "     |\n",
      "     |  __getstate__(self)\n",
      "     |      Helper for pickle.\n",
      "     |\n",
      "     |  __init__(self, x=None)\n",
      "     |      Initialize an instance.\n",
      "     |\n",
      "     |      Optional argument x controls seeding, as for Random.seed().\n",
      "     |\n",
      "     |  __reduce__(self)\n",
      "     |      Helper for pickle.\n",
      "     |\n",
      "     |  __setstate__(self, state)\n",
      "     |\n",
      "     |  betavariate(self, alpha, beta)\n",
      "     |      Beta distribution.\n",
      "     |\n",
      "     |      Conditions on the parameters are alpha > 0 and beta > 0.\n",
      "     |      Returned values range between 0 and 1.\n",
      "     |\n",
      "     |      The mean (expected value) and variance of the random variable are:\n",
      "     |\n",
      "     |          E[X] = alpha / (alpha + beta)\n",
      "     |          Var[X] = alpha * beta / ((alpha + beta)**2 * (alpha + beta + 1))\n",
      "     |\n",
      "     |  binomialvariate(self, n=1, p=0.5)\n",
      "     |      Binomial random variable.\n",
      "     |\n",
      "     |      Gives the number of successes for *n* independent trials\n",
      "     |      with the probability of success in each trial being *p*:\n",
      "     |\n",
      "     |          sum(random() < p for i in range(n))\n",
      "     |\n",
      "     |      Returns an integer in the range:   0 <= X <= n\n",
      "     |\n",
      "     |      The mean (expected value) and variance of the random variable are:\n",
      "     |\n",
      "     |          E[X] = n * p\n",
      "     |          Var[x] = n * p * (1 - p)\n",
      "     |\n",
      "     |  choice(self, seq)\n",
      "     |      Choose a random element from a non-empty sequence.\n",
      "     |\n",
      "     |  choices(self, population, weights=None, *, cum_weights=None, k=1)\n",
      "     |      Return a k sized list of population elements chosen with replacement.\n",
      "     |\n",
      "     |      If the relative weights or cumulative weights are not specified,\n",
      "     |      the selections are made with equal probability.\n",
      "     |\n",
      "     |  expovariate(self, lambd=1.0)\n",
      "     |      Exponential distribution.\n",
      "     |\n",
      "     |      lambd is 1.0 divided by the desired mean.  It should be\n",
      "     |      nonzero.  (The parameter would be called \"lambda\", but that is\n",
      "     |      a reserved word in Python.)  Returned values range from 0 to\n",
      "     |      positive infinity if lambd is positive, and from negative\n",
      "     |      infinity to 0 if lambd is negative.\n",
      "     |\n",
      "     |      The mean (expected value) and variance of the random variable are:\n",
      "     |\n",
      "     |          E[X] = 1 / lambd\n",
      "     |          Var[X] = 1 / lambd ** 2\n",
      "     |\n",
      "     |  gammavariate(self, alpha, beta)\n",
      "     |      Gamma distribution.  Not the gamma function!\n",
      "     |\n",
      "     |      Conditions on the parameters are alpha > 0 and beta > 0.\n",
      "     |\n",
      "     |      The probability distribution function is:\n",
      "     |\n",
      "     |                  x ** (alpha - 1) * math.exp(-x / beta)\n",
      "     |        pdf(x) =  --------------------------------------\n",
      "     |                    math.gamma(alpha) * beta ** alpha\n",
      "     |\n",
      "     |      The mean (expected value) and variance of the random variable are:\n",
      "     |\n",
      "     |          E[X] = alpha * beta\n",
      "     |          Var[X] = alpha * beta ** 2\n",
      "     |\n",
      "     |  gauss(self, mu=0.0, sigma=1.0)\n",
      "     |      Gaussian distribution.\n",
      "     |\n",
      "     |      mu is the mean, and sigma is the standard deviation.  This is\n",
      "     |      slightly faster than the normalvariate() function.\n",
      "     |\n",
      "     |      Not thread-safe without a lock around calls.\n",
      "     |\n",
      "     |  lognormvariate(self, mu, sigma)\n",
      "     |      Log normal distribution.\n",
      "     |\n",
      "     |      If you take the natural logarithm of this distribution, you'll get a\n",
      "     |      normal distribution with mean mu and standard deviation sigma.\n",
      "     |      mu can have any value, and sigma must be greater than zero.\n",
      "     |\n",
      "     |  normalvariate(self, mu=0.0, sigma=1.0)\n",
      "     |      Normal distribution.\n",
      "     |\n",
      "     |      mu is the mean, and sigma is the standard deviation.\n",
      "     |\n",
      "     |  paretovariate(self, alpha)\n",
      "     |      Pareto distribution.  alpha is the shape parameter.\n",
      "     |\n",
      "     |  randint(self, a, b)\n",
      "     |      Return random integer in range [a, b], including both end points.\n",
      "     |\n",
      "     |  randrange(self, start, stop=None, step=1)\n",
      "     |      Choose a random item from range(stop) or range(start, stop[, step]).\n",
      "     |\n",
      "     |      Roughly equivalent to ``choice(range(start, stop, step))`` but\n",
      "     |      supports arbitrarily large ranges and is optimized for common cases.\n",
      "     |\n",
      "     |  sample(self, population, k, *, counts=None)\n",
      "     |      Chooses k unique random elements from a population sequence.\n",
      "     |\n",
      "     |      Returns a new list containing elements from the population while\n",
      "     |      leaving the original population unchanged.  The resulting list is\n",
      "     |      in selection order so that all sub-slices will also be valid random\n",
      "     |      samples.  This allows raffle winners (the sample) to be partitioned\n",
      "     |      into grand prize and second place winners (the subslices).\n",
      "     |\n",
      "     |      Members of the population need not be hashable or unique.  If the\n",
      "     |      population contains repeats, then each occurrence is a possible\n",
      "     |      selection in the sample.\n",
      "     |\n",
      "     |      Repeated elements can be specified one at a time or with the optional\n",
      "     |      counts parameter.  For example:\n",
      "     |\n",
      "     |          sample(['red', 'blue'], counts=[4, 2], k=5)\n",
      "     |\n",
      "     |      is equivalent to:\n",
      "     |\n",
      "     |          sample(['red', 'red', 'red', 'red', 'blue', 'blue'], k=5)\n",
      "     |\n",
      "     |      To choose a sample from a range of integers, use range() for the\n",
      "     |      population argument.  This is especially fast and space efficient\n",
      "     |      for sampling from a large population:\n",
      "     |\n",
      "     |          sample(range(10000000), 60)\n",
      "     |\n",
      "     |  shuffle(self, x)\n",
      "     |      Shuffle list x in place, and return None.\n",
      "     |\n",
      "     |  triangular(self, low=0.0, high=1.0, mode=None)\n",
      "     |      Triangular distribution.\n",
      "     |\n",
      "     |      Continuous distribution bounded by given lower and upper limits,\n",
      "     |      and having a given mode value in-between.\n",
      "     |\n",
      "     |      http://en.wikipedia.org/wiki/Triangular_distribution\n",
      "     |\n",
      "     |      The mean (expected value) and variance of the random variable are:\n",
      "     |\n",
      "     |          E[X] = (low + high + mode) / 3\n",
      "     |          Var[X] = (low**2 + high**2 + mode**2 - low*high - low*mode - high*mode) / 18\n",
      "     |\n",
      "     |  uniform(self, a, b)\n",
      "     |      Get a random number in the range [a, b) or [a, b] depending on rounding.\n",
      "     |\n",
      "     |      The mean (expected value) and variance of the random variable are:\n",
      "     |\n",
      "     |          E[X] = (a + b) / 2\n",
      "     |          Var[X] = (b - a) ** 2 / 12\n",
      "     |\n",
      "     |  vonmisesvariate(self, mu, kappa)\n",
      "     |      Circular data distribution.\n",
      "     |\n",
      "     |      mu is the mean angle, expressed in radians between 0 and 2*pi, and\n",
      "     |      kappa is the concentration parameter, which must be greater than or\n",
      "     |      equal to zero.  If kappa is equal to zero, this distribution reduces\n",
      "     |      to a uniform random angle over the range 0 to 2*pi.\n",
      "     |\n",
      "     |  weibullvariate(self, alpha, beta)\n",
      "     |      Weibull distribution.\n",
      "     |\n",
      "     |      alpha is the scale parameter and beta is the shape parameter.\n",
      "     |\n",
      "     |  ----------------------------------------------------------------------\n",
      "     |  Class methods inherited from Random:\n",
      "     |\n",
      "     |  __init_subclass__(**kwargs)\n",
      "     |      Control how subclasses generate random integers.\n",
      "     |\n",
      "     |      The algorithm a subclass can use depends on the random() and/or\n",
      "     |      getrandbits() implementation available to it and determines\n",
      "     |      whether it can generate random integers from arbitrarily large\n",
      "     |      ranges.\n",
      "     |\n",
      "     |  ----------------------------------------------------------------------\n",
      "     |  Data descriptors inherited from Random:\n",
      "     |\n",
      "     |  __dict__\n",
      "     |      dictionary for instance variables\n",
      "     |\n",
      "     |  __weakref__\n",
      "     |      list of weak references to the object\n",
      "     |\n",
      "     |  ----------------------------------------------------------------------\n",
      "     |  Data and other attributes inherited from Random:\n",
      "     |\n",
      "     |  VERSION = 3\n",
      "     |\n",
      "     |  ----------------------------------------------------------------------\n",
      "     |  Static methods inherited from _random.Random:\n",
      "     |\n",
      "     |  __new__(*args, **kwargs) class method of _random.Random\n",
      "     |      Create and return a new object.  See help(type) for accurate signature.\n",
      "\n",
      "FUNCTIONS\n",
      "    betavariate(alpha, beta) method of Random instance\n",
      "        Beta distribution.\n",
      "\n",
      "        Conditions on the parameters are alpha > 0 and beta > 0.\n",
      "        Returned values range between 0 and 1.\n",
      "\n",
      "        The mean (expected value) and variance of the random variable are:\n",
      "\n",
      "            E[X] = alpha / (alpha + beta)\n",
      "            Var[X] = alpha * beta / ((alpha + beta)**2 * (alpha + beta + 1))\n",
      "\n",
      "    binomialvariate(n=1, p=0.5) method of Random instance\n",
      "        Binomial random variable.\n",
      "\n",
      "        Gives the number of successes for *n* independent trials\n",
      "        with the probability of success in each trial being *p*:\n",
      "\n",
      "            sum(random() < p for i in range(n))\n",
      "\n",
      "        Returns an integer in the range:   0 <= X <= n\n",
      "\n",
      "        The mean (expected value) and variance of the random variable are:\n",
      "\n",
      "            E[X] = n * p\n",
      "            Var[x] = n * p * (1 - p)\n",
      "\n",
      "    choice(seq) method of Random instance\n",
      "        Choose a random element from a non-empty sequence.\n",
      "\n",
      "    choices(population, weights=None, *, cum_weights=None, k=1) method of Random instance\n",
      "        Return a k sized list of population elements chosen with replacement.\n",
      "\n",
      "        If the relative weights or cumulative weights are not specified,\n",
      "        the selections are made with equal probability.\n",
      "\n",
      "    expovariate(lambd=1.0) method of Random instance\n",
      "        Exponential distribution.\n",
      "\n",
      "        lambd is 1.0 divided by the desired mean.  It should be\n",
      "        nonzero.  (The parameter would be called \"lambda\", but that is\n",
      "        a reserved word in Python.)  Returned values range from 0 to\n",
      "        positive infinity if lambd is positive, and from negative\n",
      "        infinity to 0 if lambd is negative.\n",
      "\n",
      "        The mean (expected value) and variance of the random variable are:\n",
      "\n",
      "            E[X] = 1 / lambd\n",
      "            Var[X] = 1 / lambd ** 2\n",
      "\n",
      "    gammavariate(alpha, beta) method of Random instance\n",
      "        Gamma distribution.  Not the gamma function!\n",
      "\n",
      "        Conditions on the parameters are alpha > 0 and beta > 0.\n",
      "\n",
      "        The probability distribution function is:\n",
      "\n",
      "                    x ** (alpha - 1) * math.exp(-x / beta)\n",
      "          pdf(x) =  --------------------------------------\n",
      "                      math.gamma(alpha) * beta ** alpha\n",
      "\n",
      "        The mean (expected value) and variance of the random variable are:\n",
      "\n",
      "            E[X] = alpha * beta\n",
      "            Var[X] = alpha * beta ** 2\n",
      "\n",
      "    gauss(mu=0.0, sigma=1.0) method of Random instance\n",
      "        Gaussian distribution.\n",
      "\n",
      "        mu is the mean, and sigma is the standard deviation.  This is\n",
      "        slightly faster than the normalvariate() function.\n",
      "\n",
      "        Not thread-safe without a lock around calls.\n",
      "\n",
      "    getrandbits(k, /) method of Random instance\n",
      "        getrandbits(k) -> x.  Generates an int with k random bits.\n",
      "\n",
      "    getstate() method of Random instance\n",
      "        Return internal state; can be passed to setstate() later.\n",
      "\n",
      "    lognormvariate(mu, sigma) method of Random instance\n",
      "        Log normal distribution.\n",
      "\n",
      "        If you take the natural logarithm of this distribution, you'll get a\n",
      "        normal distribution with mean mu and standard deviation sigma.\n",
      "        mu can have any value, and sigma must be greater than zero.\n",
      "\n",
      "    normalvariate(mu=0.0, sigma=1.0) method of Random instance\n",
      "        Normal distribution.\n",
      "\n",
      "        mu is the mean, and sigma is the standard deviation.\n",
      "\n",
      "    paretovariate(alpha) method of Random instance\n",
      "        Pareto distribution.  alpha is the shape parameter.\n",
      "\n",
      "    randbytes(n) method of Random instance\n",
      "        Generate n random bytes.\n",
      "\n",
      "    randint(a, b) method of Random instance\n",
      "        Return random integer in range [a, b], including both end points.\n",
      "\n",
      "    random() method of Random instance\n",
      "        random() -> x in the interval [0, 1).\n",
      "\n",
      "    randrange(start, stop=None, step=1) method of Random instance\n",
      "        Choose a random item from range(stop) or range(start, stop[, step]).\n",
      "\n",
      "        Roughly equivalent to ``choice(range(start, stop, step))`` but\n",
      "        supports arbitrarily large ranges and is optimized for common cases.\n",
      "\n",
      "    sample(population, k, *, counts=None) method of Random instance\n",
      "        Chooses k unique random elements from a population sequence.\n",
      "\n",
      "        Returns a new list containing elements from the population while\n",
      "        leaving the original population unchanged.  The resulting list is\n",
      "        in selection order so that all sub-slices will also be valid random\n",
      "        samples.  This allows raffle winners (the sample) to be partitioned\n",
      "        into grand prize and second place winners (the subslices).\n",
      "\n",
      "        Members of the population need not be hashable or unique.  If the\n",
      "        population contains repeats, then each occurrence is a possible\n",
      "        selection in the sample.\n",
      "\n",
      "        Repeated elements can be specified one at a time or with the optional\n",
      "        counts parameter.  For example:\n",
      "\n",
      "            sample(['red', 'blue'], counts=[4, 2], k=5)\n",
      "\n",
      "        is equivalent to:\n",
      "\n",
      "            sample(['red', 'red', 'red', 'red', 'blue', 'blue'], k=5)\n",
      "\n",
      "        To choose a sample from a range of integers, use range() for the\n",
      "        population argument.  This is especially fast and space efficient\n",
      "        for sampling from a large population:\n",
      "\n",
      "            sample(range(10000000), 60)\n",
      "\n",
      "    seed(a=None, version=2) method of Random instance\n",
      "        Initialize internal state from a seed.\n",
      "\n",
      "        The only supported seed types are None, int, float,\n",
      "        str, bytes, and bytearray.\n",
      "\n",
      "        None or no argument seeds from current time or from an operating\n",
      "        system specific randomness source if available.\n",
      "\n",
      "        If *a* is an int, all bits are used.\n",
      "\n",
      "        For version 2 (the default), all of the bits are used if *a* is a str,\n",
      "        bytes, or bytearray.  For version 1 (provided for reproducing random\n",
      "        sequences from older versions of Python), the algorithm for str and\n",
      "        bytes generates a narrower range of seeds.\n",
      "\n",
      "    setstate(state) method of Random instance\n",
      "        Restore internal state from object returned by getstate().\n",
      "\n",
      "    shuffle(x) method of Random instance\n",
      "        Shuffle list x in place, and return None.\n",
      "\n",
      "    triangular(low=0.0, high=1.0, mode=None) method of Random instance\n",
      "        Triangular distribution.\n",
      "\n",
      "        Continuous distribution bounded by given lower and upper limits,\n",
      "        and having a given mode value in-between.\n",
      "\n",
      "        http://en.wikipedia.org/wiki/Triangular_distribution\n",
      "\n",
      "        The mean (expected value) and variance of the random variable are:\n",
      "\n",
      "            E[X] = (low + high + mode) / 3\n",
      "            Var[X] = (low**2 + high**2 + mode**2 - low*high - low*mode - high*mode) / 18\n",
      "\n",
      "    uniform(a, b) method of Random instance\n",
      "        Get a random number in the range [a, b) or [a, b] depending on rounding.\n",
      "\n",
      "        The mean (expected value) and variance of the random variable are:\n",
      "\n",
      "            E[X] = (a + b) / 2\n",
      "            Var[X] = (b - a) ** 2 / 12\n",
      "\n",
      "    vonmisesvariate(mu, kappa) method of Random instance\n",
      "        Circular data distribution.\n",
      "\n",
      "        mu is the mean angle, expressed in radians between 0 and 2*pi, and\n",
      "        kappa is the concentration parameter, which must be greater than or\n",
      "        equal to zero.  If kappa is equal to zero, this distribution reduces\n",
      "        to a uniform random angle over the range 0 to 2*pi.\n",
      "\n",
      "    weibullvariate(alpha, beta) method of Random instance\n",
      "        Weibull distribution.\n",
      "\n",
      "        alpha is the scale parameter and beta is the shape parameter.\n",
      "\n",
      "DATA\n",
      "    __all__ = ['Random', 'SystemRandom', 'betavariate', 'binomialvariate',...\n",
      "\n",
      "FILE\n",
      "    c:\\users\\kunal\\appdata\\local\\programs\\python\\python313\\lib\\random.py\n",
      "\n",
      "\n"
     ]
    }
   ],
   "source": [
    "import random\n",
    "help(random)"
   ]
  },
  {
   "cell_type": "code",
   "execution_count": 3,
   "id": "d5c442ad-35fb-4d51-a33b-8658be29bf3e",
   "metadata": {},
   "outputs": [
    {
     "data": {
      "text/plain": [
       "5"
      ]
     },
     "execution_count": 3,
     "metadata": {},
     "output_type": "execute_result"
    }
   ],
   "source": [
    "random.choice([1, 5, 8, 9])"
   ]
  },
  {
   "cell_type": "code",
   "execution_count": 4,
   "id": "dc6fc619-e42d-403d-9f34-322b01855e69",
   "metadata": {},
   "outputs": [
    {
     "data": {
      "text/plain": [
       "8"
      ]
     },
     "execution_count": 4,
     "metadata": {},
     "output_type": "execute_result"
    }
   ],
   "source": [
    "random.choice([1, 5, 8, 9])"
   ]
  },
  {
   "cell_type": "code",
   "execution_count": 7,
   "id": "1ae8e635-d71d-4e22-8ed5-f7f2df315ce6",
   "metadata": {},
   "outputs": [
    {
     "name": "stdout",
     "output_type": "stream",
     "text": [
      "1\n",
      "9\n",
      "1\n",
      "9\n",
      "5\n",
      "8\n",
      "1\n",
      "9\n",
      "1\n",
      "9\n"
     ]
    }
   ],
   "source": [
    "for i in range(10):\n",
    "    print(random.choice([1, 5, 8, 9]))"
   ]
  },
  {
   "cell_type": "code",
   "execution_count": null,
   "id": "b6ead383-2cee-4b9c-aa8a-da746e6ba948",
   "metadata": {},
   "outputs": [],
   "source": []
  }
 ],
 "metadata": {
  "kernelspec": {
   "display_name": "Python 3 (ipykernel)",
   "language": "python",
   "name": "python3"
  },
  "language_info": {
   "codemirror_mode": {
    "name": "ipython",
    "version": 3
   },
   "file_extension": ".py",
   "mimetype": "text/x-python",
   "name": "python",
   "nbconvert_exporter": "python",
   "pygments_lexer": "ipython3",
   "version": "3.13.1"
  }
 },
 "nbformat": 4,
 "nbformat_minor": 5
}
