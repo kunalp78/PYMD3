{
 "cells": [
  {
   "cell_type": "code",
   "execution_count": 1,
   "id": "6b2aa6a7-c499-4c3e-920a-e1d0238fe518",
   "metadata": {},
   "outputs": [
    {
     "name": "stdout",
     "output_type": "stream",
     "text": [
      "Hello World\n"
     ]
    }
   ],
   "source": [
    "print(\"Hello World\")"
   ]
  },
  {
   "cell_type": "code",
   "execution_count": 2,
   "id": "dcbb0a04-e83d-40b9-8454-6e723ed0155c",
   "metadata": {},
   "outputs": [],
   "source": [
    "name1 = 56"
   ]
  },
  {
   "cell_type": "code",
   "execution_count": 3,
   "id": "1f9b29af-ccc0-4619-b2b1-20eb177c227e",
   "metadata": {},
   "outputs": [
    {
     "ename": "SyntaxError",
     "evalue": "invalid syntax (3943838807.py, line 1)",
     "output_type": "error",
     "traceback": [
      "\u001b[1;36m  Cell \u001b[1;32mIn[3], line 1\u001b[1;36m\u001b[0m\n\u001b[1;33m    namne of person\u001b[0m\n\u001b[1;37m          ^\u001b[0m\n\u001b[1;31mSyntaxError\u001b[0m\u001b[1;31m:\u001b[0m invalid syntax\n"
     ]
    }
   ],
   "source": [
    "namne of person"
   ]
  },
  {
   "cell_type": "markdown",
   "id": "57b5c777-087b-45ae-bb9a-67edefd570a7",
   "metadata": {},
   "source": [
    "### The first character of variable should be a letter or an underscore"
   ]
  },
  {
   "cell_type": "code",
   "execution_count": 4,
   "id": "03c1500b-a53e-4bb2-b09a-7dfafbdf1c36",
   "metadata": {},
   "outputs": [],
   "source": [
    "x = \"Arti\""
   ]
  },
  {
   "cell_type": "code",
   "execution_count": 5,
   "id": "aaf22f0d-14fb-42b5-87ef-bb3082fdeb0b",
   "metadata": {},
   "outputs": [
    {
     "name": "stdout",
     "output_type": "stream",
     "text": [
      "Arti\n"
     ]
    }
   ],
   "source": [
    "print(x)"
   ]
  },
  {
   "cell_type": "code",
   "execution_count": 6,
   "id": "8faa7000-7606-46ab-b685-63f8acb8cd37",
   "metadata": {},
   "outputs": [
    {
     "ename": "NameError",
     "evalue": "name 'X' is not defined",
     "output_type": "error",
     "traceback": [
      "\u001b[1;31m---------------------------------------------------------------------------\u001b[0m",
      "\u001b[1;31mNameError\u001b[0m                                 Traceback (most recent call last)",
      "Cell \u001b[1;32mIn[6], line 1\u001b[0m\n\u001b[1;32m----> 1\u001b[0m \u001b[38;5;28mprint\u001b[39m(\u001b[43mX\u001b[49m)\n",
      "\u001b[1;31mNameError\u001b[0m: name 'X' is not defined"
     ]
    }
   ],
   "source": [
    "print(X)"
   ]
  },
  {
   "cell_type": "code",
   "execution_count": 7,
   "id": "ca5c439c-a659-47db-8f17-e191a3db9c34",
   "metadata": {},
   "outputs": [
    {
     "ename": "NameError",
     "evalue": "name 'Print' is not defined",
     "output_type": "error",
     "traceback": [
      "\u001b[1;31m---------------------------------------------------------------------------\u001b[0m",
      "\u001b[1;31mNameError\u001b[0m                                 Traceback (most recent call last)",
      "Cell \u001b[1;32mIn[7], line 1\u001b[0m\n\u001b[1;32m----> 1\u001b[0m \u001b[43mPrint\u001b[49m(x)\n",
      "\u001b[1;31mNameError\u001b[0m: name 'Print' is not defined"
     ]
    }
   ],
   "source": [
    "Print(x)"
   ]
  },
  {
   "cell_type": "code",
   "execution_count": null,
   "id": "1e13e7be-797f-42bf-a5c5-0bd2bf75d40d",
   "metadata": {},
   "outputs": [],
   "source": [
    "for(i=0; i<10; i++)\n",
    "{\n",
    "    // statemets\n",
    "}"
   ]
  },
  {
   "cell_type": "code",
   "execution_count": 8,
   "id": "dde71208-abcd-49b0-b4ff-c2c290baccd9",
   "metadata": {},
   "outputs": [
    {
     "name": "stdout",
     "output_type": "stream",
     "text": [
      "0\n",
      "1\n",
      "2\n",
      "3\n",
      "4\n",
      "5\n",
      "6\n",
      "Hey I am greater than 5\n",
      "7\n",
      "Hey I am greater than 5\n",
      "8\n",
      "Hey I am greater than 5\n",
      "9\n",
      "Hey I am greater than 5\n"
     ]
    }
   ],
   "source": [
    "# indentation\n",
    "for i in range(10):\n",
    "  print(i)\n",
    "  if i > 5:\n",
    "        print(\"Hey I am greater than 5\")"
   ]
  },
  {
   "cell_type": "code",
   "execution_count": 9,
   "id": "09e27f1d-ce52-42f5-83c7-2c5618853aba",
   "metadata": {},
   "outputs": [],
   "source": [
    "# single line comments"
   ]
  },
  {
   "cell_type": "code",
   "execution_count": 10,
   "id": "3bd9b6f8-3801-416c-9d7c-44c047700c97",
   "metadata": {},
   "outputs": [
    {
     "data": {
      "text/plain": [
       "'\\nI am single quote multi line comment\\n'"
      ]
     },
     "execution_count": 10,
     "metadata": {},
     "output_type": "execute_result"
    }
   ],
   "source": [
    "# multiline comment\n",
    "\"\"\"\n",
    "hi I am a multi line comment 1\n",
    "I am comment 2\n",
    "blah blah blah\n",
    "\"\"\"\n",
    "'''\n",
    "I am single quote multi line comment\n",
    "'''"
   ]
  },
  {
   "cell_type": "markdown",
   "id": "794f1442-b7d2-41cd-b1ca-76732b38f0f0",
   "metadata": {},
   "source": [
    "# Variables and Data types"
   ]
  },
  {
   "cell_type": "code",
   "execution_count": 11,
   "id": "a7cd0977-555f-4f9f-8c8e-845ed8b50c6f",
   "metadata": {},
   "outputs": [],
   "source": [
    "var1 = 256"
   ]
  },
  {
   "cell_type": "code",
   "execution_count": 12,
   "id": "2bf51d7e-7e2a-4d0b-abeb-25ddd1ab6bb1",
   "metadata": {},
   "outputs": [
    {
     "name": "stdout",
     "output_type": "stream",
     "text": [
      "256\n"
     ]
    }
   ],
   "source": [
    "print(var1)"
   ]
  },
  {
   "cell_type": "code",
   "execution_count": null,
   "id": "2a6ea12b-eb03-4306-bec2-0de10794b2a4",
   "metadata": {},
   "outputs": [],
   "source": [
    "# 1) Primitive data type\n",
    "int --> 1,2,3,4...-1,-2,-3....\n",
    "float --> 1.0, 2.5,0.36,...-9.68, 5.668...\n",
    "str --> \"ruchita\", 'vijayas', \"56\"\n",
    "bool --> True, False\n",
    "None"
   ]
  },
  {
   "cell_type": "code",
   "execution_count": 13,
   "id": "7b2d2e25-4aba-4eac-a8e9-c3f84b5b5fe2",
   "metadata": {},
   "outputs": [
    {
     "data": {
      "text/plain": [
       "int"
      ]
     },
     "execution_count": 13,
     "metadata": {},
     "output_type": "execute_result"
    }
   ],
   "source": [
    "type(25)"
   ]
  },
  {
   "cell_type": "code",
   "execution_count": 14,
   "id": "e6b59bb4-00ef-4122-9ee7-293916fc6263",
   "metadata": {},
   "outputs": [
    {
     "data": {
      "text/plain": [
       "str"
      ]
     },
     "execution_count": 14,
     "metadata": {},
     "output_type": "execute_result"
    }
   ],
   "source": [
    "type(\"a\")"
   ]
  },
  {
   "cell_type": "code",
   "execution_count": 15,
   "id": "ac99cab1-ca3b-425b-92a0-4a80f4d28dc5",
   "metadata": {},
   "outputs": [
    {
     "data": {
      "text/plain": [
       "float"
      ]
     },
     "execution_count": 15,
     "metadata": {},
     "output_type": "execute_result"
    }
   ],
   "source": [
    "type(2.5)"
   ]
  },
  {
   "cell_type": "code",
   "execution_count": 16,
   "id": "7731fee3-e314-4e03-8b9a-7b95eb981c59",
   "metadata": {},
   "outputs": [
    {
     "data": {
      "text/plain": [
       "bool"
      ]
     },
     "execution_count": 16,
     "metadata": {},
     "output_type": "execute_result"
    }
   ],
   "source": [
    "type(True)"
   ]
  },
  {
   "cell_type": "code",
   "execution_count": 17,
   "id": "2d471c8e-7be2-4576-b705-a283a1d4272f",
   "metadata": {},
   "outputs": [
    {
     "data": {
      "text/plain": [
       "NoneType"
      ]
     },
     "execution_count": 17,
     "metadata": {},
     "output_type": "execute_result"
    }
   ],
   "source": [
    "type(None)"
   ]
  },
  {
   "cell_type": "code",
   "execution_count": 18,
   "id": "9408e840-72ad-4979-97d8-7bf587ac383a",
   "metadata": {},
   "outputs": [
    {
     "data": {
      "text/plain": [
       "'569'"
      ]
     },
     "execution_count": 18,
     "metadata": {},
     "output_type": "execute_result"
    }
   ],
   "source": [
    "str(569)"
   ]
  },
  {
   "cell_type": "code",
   "execution_count": 19,
   "id": "c0debedb-8862-4102-98e6-81707de234f7",
   "metadata": {},
   "outputs": [
    {
     "data": {
      "text/plain": [
       "str"
      ]
     },
     "execution_count": 19,
     "metadata": {},
     "output_type": "execute_result"
    }
   ],
   "source": [
    "type(str(569))"
   ]
  },
  {
   "cell_type": "code",
   "execution_count": 20,
   "id": "ee007095-c20e-4aae-87ce-8edffaac955c",
   "metadata": {},
   "outputs": [
    {
     "data": {
      "text/plain": [
       "56.0"
      ]
     },
     "execution_count": 20,
     "metadata": {},
     "output_type": "execute_result"
    }
   ],
   "source": [
    "float(56)"
   ]
  },
  {
   "cell_type": "code",
   "execution_count": 21,
   "id": "2abdbda6-8646-4640-b93f-fbb9ed49d271",
   "metadata": {},
   "outputs": [
    {
     "data": {
      "text/plain": [
       "5"
      ]
     },
     "execution_count": 21,
     "metadata": {},
     "output_type": "execute_result"
    }
   ],
   "source": [
    "int(5.6)"
   ]
  },
  {
   "cell_type": "code",
   "execution_count": 22,
   "id": "ac34cd16-52db-4239-a4a1-fd671a9cee23",
   "metadata": {},
   "outputs": [],
   "source": [
    "a = \"5\""
   ]
  },
  {
   "cell_type": "code",
   "execution_count": 23,
   "id": "bd9e03ac-dc06-4bb8-8d50-30086a0ea64c",
   "metadata": {},
   "outputs": [
    {
     "data": {
      "text/plain": [
       "5"
      ]
     },
     "execution_count": 23,
     "metadata": {},
     "output_type": "execute_result"
    }
   ],
   "source": [
    "int(a)"
   ]
  },
  {
   "cell_type": "code",
   "execution_count": 24,
   "id": "db376362-b889-49eb-95bf-2335d5689639",
   "metadata": {},
   "outputs": [],
   "source": [
    "b = \"b5\""
   ]
  },
  {
   "cell_type": "code",
   "execution_count": 25,
   "id": "4b67b242-56ff-4ea1-afca-192cd656c838",
   "metadata": {},
   "outputs": [
    {
     "ename": "ValueError",
     "evalue": "invalid literal for int() with base 10: 'b5'",
     "output_type": "error",
     "traceback": [
      "\u001b[1;31m---------------------------------------------------------------------------\u001b[0m",
      "\u001b[1;31mValueError\u001b[0m                                Traceback (most recent call last)",
      "Cell \u001b[1;32mIn[25], line 1\u001b[0m\n\u001b[1;32m----> 1\u001b[0m \u001b[38;5;28;43mint\u001b[39;49m\u001b[43m(\u001b[49m\u001b[43mb\u001b[49m\u001b[43m)\u001b[49m\n",
      "\u001b[1;31mValueError\u001b[0m: invalid literal for int() with base 10: 'b5'"
     ]
    }
   ],
   "source": [
    "int(b)"
   ]
  },
  {
   "cell_type": "code",
   "execution_count": 27,
   "id": "695a2fc6-806e-447b-ac05-cf8c4c0e936a",
   "metadata": {},
   "outputs": [
    {
     "name": "stdout",
     "output_type": "stream",
     "text": [
      "<class 'int'>\n"
     ]
    }
   ],
   "source": [
    "var = 56\n",
    "print(type(var))"
   ]
  },
  {
   "cell_type": "code",
   "execution_count": 28,
   "id": "706ff9b9-101f-4aeb-ad81-63d70b2a1854",
   "metadata": {},
   "outputs": [
    {
     "data": {
      "text/plain": [
       "'56'"
      ]
     },
     "execution_count": 28,
     "metadata": {},
     "output_type": "execute_result"
    }
   ],
   "source": [
    "str(var)"
   ]
  },
  {
   "cell_type": "code",
   "execution_count": 29,
   "id": "7567d879-73ce-4241-a2dd-5ed75d31d974",
   "metadata": {},
   "outputs": [
    {
     "name": "stdout",
     "output_type": "stream",
     "text": [
      "<class 'str'>\n"
     ]
    }
   ],
   "source": [
    "print(type(str(var)))"
   ]
  },
  {
   "cell_type": "code",
   "execution_count": 30,
   "id": "2ed679a4-8f06-4cc5-9136-b7dc5e5b0142",
   "metadata": {},
   "outputs": [],
   "source": [
    "# Input and Output"
   ]
  },
  {
   "cell_type": "code",
   "execution_count": 31,
   "id": "50f075a1-503a-44f6-98db-b53de8830bcb",
   "metadata": {},
   "outputs": [
    {
     "name": "stdin",
     "output_type": "stream",
     "text": [
      "Enter your value kjsd r\n"
     ]
    },
    {
     "data": {
      "text/plain": [
       "'kjsd r'"
      ]
     },
     "execution_count": 31,
     "metadata": {},
     "output_type": "execute_result"
    }
   ],
   "source": [
    "input(\"Enter your value\") # it takes input from the user and returns it as string"
   ]
  },
  {
   "cell_type": "code",
   "execution_count": 32,
   "id": "57215a06-a4dc-4aea-8d54-d8e724a74670",
   "metadata": {},
   "outputs": [
    {
     "name": "stdin",
     "output_type": "stream",
     "text": [
      "Enter your number 28\n"
     ]
    }
   ],
   "source": [
    "var2 = input(\"Enter your number\")"
   ]
  },
  {
   "cell_type": "code",
   "execution_count": 33,
   "id": "fa26e93e-1876-4812-a4da-d4ad45d5cb2d",
   "metadata": {},
   "outputs": [
    {
     "name": "stdout",
     "output_type": "stream",
     "text": [
      "28\n"
     ]
    }
   ],
   "source": [
    "print(var2)"
   ]
  },
  {
   "cell_type": "code",
   "execution_count": 34,
   "id": "0d0fda4f-c656-4080-b739-0bff3b96d512",
   "metadata": {},
   "outputs": [
    {
     "name": "stdout",
     "output_type": "stream",
     "text": [
      "<class 'str'>\n"
     ]
    }
   ],
   "source": [
    "print(type(var2))"
   ]
  },
  {
   "cell_type": "code",
   "execution_count": 35,
   "id": "28d6d41c-c75d-4f34-b200-accf9bee8d13",
   "metadata": {},
   "outputs": [],
   "source": [
    "var = int(var)"
   ]
  },
  {
   "cell_type": "code",
   "execution_count": 36,
   "id": "09a0b7de-c046-4fee-80e5-c699b07febf1",
   "metadata": {},
   "outputs": [
    {
     "name": "stdout",
     "output_type": "stream",
     "text": [
      "<class 'int'>\n"
     ]
    }
   ],
   "source": [
    "print(type(var))"
   ]
  },
  {
   "cell_type": "code",
   "execution_count": 37,
   "id": "ddd6ac6f-31a8-43be-8152-ce5b8e023fb9",
   "metadata": {},
   "outputs": [
    {
     "data": {
      "text/plain": [
       "145"
      ]
     },
     "execution_count": 37,
     "metadata": {},
     "output_type": "execute_result"
    }
   ],
   "source": [
    "56 + 89"
   ]
  },
  {
   "cell_type": "code",
   "execution_count": 38,
   "id": "27be64f7-fc94-4066-9c3d-eab5cde4a35d",
   "metadata": {},
   "outputs": [
    {
     "name": "stdin",
     "output_type": "stream",
     "text": [
      "Enter value 1 25\n"
     ]
    }
   ],
   "source": [
    "val1 = int(input(\"Enter value 1\"))"
   ]
  },
  {
   "cell_type": "code",
   "execution_count": 39,
   "id": "5c4e0877-2cd9-4ee1-a07a-8f211b799062",
   "metadata": {},
   "outputs": [
    {
     "name": "stdout",
     "output_type": "stream",
     "text": [
      "<class 'int'>\n"
     ]
    }
   ],
   "source": [
    "print(type(val1))"
   ]
  },
  {
   "cell_type": "code",
   "execution_count": 40,
   "id": "73ab0bab-b93c-4819-95e9-b43ac5b2d377",
   "metadata": {},
   "outputs": [
    {
     "name": "stdin",
     "output_type": "stream",
     "text": [
      "Enter the value 2 59\n"
     ]
    }
   ],
   "source": [
    "val2 = int(input(\"Enter the value 2\"))"
   ]
  },
  {
   "cell_type": "code",
   "execution_count": 41,
   "id": "915fac8f-1025-492b-ba0e-e1c06072190d",
   "metadata": {},
   "outputs": [
    {
     "name": "stdout",
     "output_type": "stream",
     "text": [
      "84\n"
     ]
    }
   ],
   "source": [
    "print(val1 + val2)"
   ]
  },
  {
   "cell_type": "code",
   "execution_count": 42,
   "id": "3ca87272-55b5-40f2-b841-78d5de61a123",
   "metadata": {},
   "outputs": [
    {
     "name": "stdin",
     "output_type": "stream",
     "text": [
      "Enter value 85\n"
     ]
    }
   ],
   "source": [
    "val2 = int(input(\"Enter value\"))"
   ]
  },
  {
   "cell_type": "code",
   "execution_count": null,
   "id": "16836ce2-d6c1-493a-a2b9-1ecba8524d89",
   "metadata": {},
   "outputs": [],
   "source": []
  },
  {
   "cell_type": "code",
   "execution_count": null,
   "id": "6f50d0ae-664a-42bb-983f-13c65598635c",
   "metadata": {},
   "outputs": [],
   "source": []
  }
 ],
 "metadata": {
  "kernelspec": {
   "display_name": "Python 3 (ipykernel)",
   "language": "python",
   "name": "python3"
  },
  "language_info": {
   "codemirror_mode": {
    "name": "ipython",
    "version": 3
   },
   "file_extension": ".py",
   "mimetype": "text/x-python",
   "name": "python",
   "nbconvert_exporter": "python",
   "pygments_lexer": "ipython3",
   "version": "3.13.1"
  }
 },
 "nbformat": 4,
 "nbformat_minor": 5
}
