{
 "cells": [
  {
   "cell_type": "code",
   "execution_count": 1,
   "id": "d01e9734-f905-4bc8-a905-0c68aca515b0",
   "metadata": {},
   "outputs": [],
   "source": [
    "# If else (Conditional statements)"
   ]
  },
  {
   "cell_type": "code",
   "execution_count": null,
   "id": "8e74908a-7b1e-4883-8d32-47568aa36e08",
   "metadata": {},
   "outputs": [],
   "source": [
    "# basic structure\n",
    "if condition:\n",
    "    # statements\n",
    "else:\n",
    "    # else condition"
   ]
  },
  {
   "cell_type": "code",
   "execution_count": null,
   "id": "5a55366f-8e6e-4938-8c70-44a8816a6ae9",
   "metadata": {},
   "outputs": [],
   "source": [
    "Truthy:\n",
    "    All the strings except empty string, \n",
    "    any positive or negative or complex numbers except zero,\n",
    "    True.\n",
    "Falsy:\n",
    "    False, empty data structure, None"
   ]
  },
  {
   "cell_type": "code",
   "execution_count": null,
   "id": "c3d941b4-c956-4764-8ec1-b611c57d6f19",
   "metadata": {},
   "outputs": [],
   "source": [
    "Equals: a == b\n",
    "Not Equals: a != b\n",
    "Less than: a < b\n",
    "less than or equals to: a <= b\n",
    "greater than equals to: a >= b\n",
    "greater than: a > b"
   ]
  },
  {
   "cell_type": "code",
   "execution_count": 2,
   "id": "f1ea8143-5c1e-4178-9b4e-dede042802bd",
   "metadata": {},
   "outputs": [
    {
     "name": "stdout",
     "output_type": "stream",
     "text": [
      "False\n"
     ]
    }
   ],
   "source": [
    "a = 56\n",
    "b = 98\n",
    "print(a==b)"
   ]
  },
  {
   "cell_type": "code",
   "execution_count": 3,
   "id": "e1f75ada-bfb2-418b-b5d5-10d61ed3e678",
   "metadata": {},
   "outputs": [
    {
     "data": {
      "text/plain": [
       "False"
      ]
     },
     "execution_count": 3,
     "metadata": {},
     "output_type": "execute_result"
    }
   ],
   "source": [
    "a>b"
   ]
  },
  {
   "cell_type": "code",
   "execution_count": 4,
   "id": "753593d7-c1e6-4144-bf01-2c028b82316a",
   "metadata": {},
   "outputs": [
    {
     "data": {
      "text/plain": [
       "True"
      ]
     },
     "execution_count": 4,
     "metadata": {},
     "output_type": "execute_result"
    }
   ],
   "source": [
    "a<b"
   ]
  },
  {
   "cell_type": "code",
   "execution_count": 5,
   "id": "21467bf7-091b-49c0-aed2-6f127ff17348",
   "metadata": {},
   "outputs": [
    {
     "name": "stdout",
     "output_type": "stream",
     "text": [
      "Hello India\n"
     ]
    }
   ],
   "source": [
    "if a < b:\n",
    "    print(\"Hello India\")"
   ]
  },
  {
   "cell_type": "code",
   "execution_count": 6,
   "id": "72582d86-1907-439e-a53d-69d2c172b6c2",
   "metadata": {},
   "outputs": [],
   "source": [
    "a = 100\n",
    "if a < b:\n",
    "    print(\"Hello India\")"
   ]
  },
  {
   "cell_type": "code",
   "execution_count": 7,
   "id": "5ac89fd1-e8cf-4795-b0fa-02f3dc9f9e1a",
   "metadata": {},
   "outputs": [
    {
     "name": "stdout",
     "output_type": "stream",
     "text": [
      "jyst a normal day\n"
     ]
    }
   ],
   "source": [
    "if a < b:\n",
    "    print(\"hello India\")\n",
    "else:\n",
    "    print(\"jyst a normal day\")"
   ]
  },
  {
   "cell_type": "code",
   "execution_count": 8,
   "id": "a478c806-52ed-41a9-be41-3f65150ede77",
   "metadata": {},
   "outputs": [
    {
     "name": "stdout",
     "output_type": "stream",
     "text": [
      "hello India\n"
     ]
    }
   ],
   "source": [
    "a = -1\n",
    "if a < b:\n",
    "    print(\"hello India\")\n",
    "else:\n",
    "    print(\"just a normal day\")"
   ]
  },
  {
   "cell_type": "code",
   "execution_count": 10,
   "id": "4fb5eb0a-4113-4702-99b5-a2854938342d",
   "metadata": {},
   "outputs": [
    {
     "name": "stdout",
     "output_type": "stream",
     "text": [
      "98\n",
      "-1\n"
     ]
    }
   ],
   "source": [
    "print(b)\n",
    "print(a)"
   ]
  },
  {
   "cell_type": "code",
   "execution_count": 11,
   "id": "c00a2553-9619-4dc5-94a2-b3803a722dcb",
   "metadata": {},
   "outputs": [
    {
     "name": "stdout",
     "output_type": "stream",
     "text": [
      "A equals B\n"
     ]
    }
   ],
   "source": [
    "# if else:\n",
    "# elif --> keyword\n",
    "a = 98\n",
    "if a < b:\n",
    "    print(\"Normal day\")\n",
    "elif a == b:\n",
    "    print(\"A equals B\")\n",
    "else:\n",
    "    print(\"what a day\")"
   ]
  },
  {
   "cell_type": "code",
   "execution_count": 12,
   "id": "453ea1d2-115a-4a4f-afe5-076c4fe437e8",
   "metadata": {},
   "outputs": [
    {
     "name": "stdout",
     "output_type": "stream",
     "text": [
      "Some value\n"
     ]
    }
   ],
   "source": [
    "if a:\n",
    "    print(\"Some value\")\n",
    "else:\n",
    "    print(\"a is falsy\")"
   ]
  },
  {
   "cell_type": "code",
   "execution_count": 13,
   "id": "539c31d0-f465-4b52-b48d-406d2e1c861d",
   "metadata": {},
   "outputs": [
    {
     "name": "stdout",
     "output_type": "stream",
     "text": [
      "a is falsy\n"
     ]
    }
   ],
   "source": [
    "a = False\n",
    "if a:\n",
    "    print(\"Some value\")\n",
    "else:\n",
    "    print(\"a is falsy\")"
   ]
  },
  {
   "cell_type": "code",
   "execution_count": 14,
   "id": "026f890b-1d74-4240-aaa0-4a9aaf77e027",
   "metadata": {},
   "outputs": [
    {
     "name": "stdout",
     "output_type": "stream",
     "text": [
      "a is falsy\n"
     ]
    }
   ],
   "source": [
    "a = 0\n",
    "if a:\n",
    "    print(\"Some value\")\n",
    "else:\n",
    "    print(\"a is falsy\")"
   ]
  },
  {
   "cell_type": "code",
   "execution_count": 15,
   "id": "668969a8-7e5f-4d30-9910-2b8fd5aa6b2b",
   "metadata": {},
   "outputs": [
    {
     "name": "stdout",
     "output_type": "stream",
     "text": [
      "a is falsy\n"
     ]
    }
   ],
   "source": [
    "a = \"\"\n",
    "if a:\n",
    "    print(\"Some value\")\n",
    "else:\n",
    "    print(\"a is falsy\")"
   ]
  },
  {
   "cell_type": "code",
   "execution_count": 16,
   "id": "17052b27-2875-41a3-8f90-166bd2fbb98a",
   "metadata": {},
   "outputs": [
    {
     "name": "stdout",
     "output_type": "stream",
     "text": [
      "a is falsy\n"
     ]
    }
   ],
   "source": [
    "a = []\n",
    "if a:\n",
    "    print(\"Some value\")\n",
    "else:\n",
    "    print(\"a is falsy\")"
   ]
  },
  {
   "cell_type": "code",
   "execution_count": 17,
   "id": "58196b8a-6fae-4fd1-8af4-281840dfc98d",
   "metadata": {},
   "outputs": [
    {
     "name": "stdout",
     "output_type": "stream",
     "text": [
      "a is falsy\n"
     ]
    }
   ],
   "source": [
    "a = set()\n",
    "if a:\n",
    "    print(\"Some value\")\n",
    "else:\n",
    "    print(\"a is falsy\")"
   ]
  },
  {
   "cell_type": "code",
   "execution_count": 18,
   "id": "d7a3da36-3ac7-4c80-8f82-31bb38a54565",
   "metadata": {},
   "outputs": [
    {
     "name": "stdout",
     "output_type": "stream",
     "text": [
      "a is falsy\n"
     ]
    }
   ],
   "source": [
    "a = {}\n",
    "if a:\n",
    "    print(\"Some value\")\n",
    "else:\n",
    "    print(\"a is falsy\")"
   ]
  },
  {
   "cell_type": "code",
   "execution_count": 19,
   "id": "bd8d85ef-0db5-4b52-96a4-d987e40d196f",
   "metadata": {},
   "outputs": [
    {
     "name": "stdout",
     "output_type": "stream",
     "text": [
      "a is falsy\n"
     ]
    }
   ],
   "source": [
    "a = None\n",
    "if a:\n",
    "    print(\"Some value\")\n",
    "else:\n",
    "    print(\"a is falsy\")"
   ]
  },
  {
   "cell_type": "code",
   "execution_count": 20,
   "id": "ab3ec0c6-5467-41d6-8f9f-daa2bf0006af",
   "metadata": {},
   "outputs": [
    {
     "name": "stdout",
     "output_type": "stream",
     "text": [
      "A is greater than B\n"
     ]
    }
   ],
   "source": [
    "a = 98\n",
    "b = 30\n",
    "# a > b ? print(\"greater\") : print(\"small\")\n",
    "if a > b: print(\"A is greater than B\")"
   ]
  },
  {
   "cell_type": "code",
   "execution_count": 21,
   "id": "fd23bad6-acd8-4a32-ad2e-0d83735b294b",
   "metadata": {},
   "outputs": [
    {
     "name": "stdout",
     "output_type": "stream",
     "text": [
      "A\n"
     ]
    }
   ],
   "source": [
    "print(\"A\") if a > b else print(\"B\")"
   ]
  },
  {
   "cell_type": "code",
   "execution_count": 22,
   "id": "bb086606-57ea-48b8-ad69-b2fa2014c98e",
   "metadata": {},
   "outputs": [],
   "source": [
    "a = a+1 if a>b else a-5"
   ]
  },
  {
   "cell_type": "code",
   "execution_count": 23,
   "id": "9b28ea27-5d95-4154-b802-d3c192282c35",
   "metadata": {},
   "outputs": [
    {
     "data": {
      "text/plain": [
       "99"
      ]
     },
     "execution_count": 23,
     "metadata": {},
     "output_type": "execute_result"
    }
   ],
   "source": [
    "a"
   ]
  },
  {
   "cell_type": "code",
   "execution_count": 24,
   "id": "c5291bce-e3e2-4968-80fa-7b49a2e3a3be",
   "metadata": {},
   "outputs": [],
   "source": [
    "a = 2\n",
    "a = a+1 if a>b else a-5"
   ]
  },
  {
   "cell_type": "code",
   "execution_count": 25,
   "id": "21fdccc8-bedd-4df4-8322-a5c91729496a",
   "metadata": {},
   "outputs": [
    {
     "data": {
      "text/plain": [
       "-3"
      ]
     },
     "execution_count": 25,
     "metadata": {},
     "output_type": "execute_result"
    }
   ],
   "source": [
    "a"
   ]
  },
  {
   "cell_type": "code",
   "execution_count": null,
   "id": "e3f7e15b-7cfb-43f3-95ea-0fd8fd28bbe5",
   "metadata": {},
   "outputs": [],
   "source": []
  },
  {
   "cell_type": "code",
   "execution_count": 26,
   "id": "ff94ce42-d888-4ff0-b1dd-7cbae4ab2123",
   "metadata": {},
   "outputs": [
    {
     "name": "stdout",
     "output_type": "stream",
     "text": [
      "Above ten\n",
      "and above 20\n"
     ]
    }
   ],
   "source": [
    "# nested If\n",
    "a = 31\n",
    "if a > 10:\n",
    "    print(\"Above ten\")\n",
    "    if a > 20:\n",
    "        print(\"and above 20\")\n",
    "    else:\n",
    "        print(\"but not above 20\")"
   ]
  },
  {
   "cell_type": "code",
   "execution_count": 28,
   "id": "7fb98e84-33ce-446e-91d8-ce25a5d60261",
   "metadata": {},
   "outputs": [
    {
     "name": "stdout",
     "output_type": "stream",
     "text": [
      "Above ten and above 20\n"
     ]
    }
   ],
   "source": [
    "a = 31\n",
    "if a > 10:\n",
    "    print(\"Above ten\", end=\" \")\n",
    "    if a > 20:\n",
    "        print(\"and above 20\")\n",
    "    else:\n",
    "        print(\"but not above 20\")"
   ]
  },
  {
   "cell_type": "code",
   "execution_count": 30,
   "id": "a11b675b-56ca-469e-96ad-88e815f6873b",
   "metadata": {},
   "outputs": [
    {
     "name": "stdout",
     "output_type": "stream",
     "text": [
      "Above ten but not above 20\n",
      "completed\n"
     ]
    }
   ],
   "source": [
    "a = 19\n",
    "if a > 10:\n",
    "    print(\"Above ten\", end=\" \")\n",
    "    if a > 20:\n",
    "        print(\"and above 20\")\n",
    "    else:\n",
    "        print(\"but not above 20\")\n",
    "print(\"completed\")"
   ]
  },
  {
   "cell_type": "code",
   "execution_count": 32,
   "id": "3abd34fd-6573-4cfe-bcb2-3fb88a08f2ab",
   "metadata": {},
   "outputs": [
    {
     "name": "stdout",
     "output_type": "stream",
     "text": [
      "Above ten__ending it here___\n",
      "\n",
      "below line\n"
     ]
    }
   ],
   "source": [
    "print(\"Above ten\", end=\"__ending it here___\\n\\n\")\n",
    "print(\"below line\")"
   ]
  },
  {
   "cell_type": "code",
   "execution_count": 33,
   "id": "41d09546-738e-449e-82f0-f095334cb20a",
   "metadata": {},
   "outputs": [
    {
     "name": "stdout",
     "output_type": "stream",
     "text": [
      "Help on built-in function print in module builtins:\n",
      "\n",
      "print(*args, sep=' ', end='\\n', file=None, flush=False)\n",
      "    Prints the values to a stream, or to sys.stdout by default.\n",
      "\n",
      "    sep\n",
      "      string inserted between values, default a space.\n",
      "    end\n",
      "      string appended after the last value, default a newline.\n",
      "    file\n",
      "      a file-like object (stream); defaults to the current sys.stdout.\n",
      "    flush\n",
      "      whether to forcibly flush the stream.\n",
      "\n"
     ]
    }
   ],
   "source": [
    "help(print)"
   ]
  },
  {
   "cell_type": "code",
   "execution_count": 34,
   "id": "ce302a6d-2b82-4761-a094-ce678a67570c",
   "metadata": {},
   "outputs": [
    {
     "name": "stdout",
     "output_type": "stream",
     "text": [
      "hello my name is Khan\n"
     ]
    }
   ],
   "source": [
    "print(\"hello\", \"my name is Khan\")"
   ]
  },
  {
   "cell_type": "code",
   "execution_count": 35,
   "id": "80ba5c09-312f-4b58-90ff-7c578913443d",
   "metadata": {},
   "outputs": [],
   "source": [
    "# Loops"
   ]
  },
  {
   "cell_type": "code",
   "execution_count": 36,
   "id": "0c3098d7-2bab-4d12-80d8-eee1b45995fa",
   "metadata": {},
   "outputs": [],
   "source": [
    "# for loop\n",
    "# while loop"
   ]
  },
  {
   "cell_type": "markdown",
   "id": "e3884b0c-fdc2-4da4-9576-dba555cd57a7",
   "metadata": {},
   "source": [
    "### for loop"
   ]
  },
  {
   "cell_type": "code",
   "execution_count": 37,
   "id": "61f5e75f-2dbf-4aed-8d87-25c31b343ba7",
   "metadata": {},
   "outputs": [
    {
     "name": "stdout",
     "output_type": "stream",
     "text": [
      "A\n"
     ]
    }
   ],
   "source": [
    "# a for loop is used for iterating over a sequence:\n",
    "#     list, tuple, dictionary, set, string, range etc\n",
    "a = \"abcdefghijklmnopqrstuvwxyz\"\n",
    "print(a[0].upper())"
   ]
  },
  {
   "cell_type": "code",
   "execution_count": 40,
   "id": "17106575-29a1-4554-83bd-032d937771a2",
   "metadata": {},
   "outputs": [
    {
     "name": "stdout",
     "output_type": "stream",
     "text": [
      "A,B,C,D,E,F,G,H,I,J,K,L,m,N,O,P,Q,R,S,T,U,V,W,X,Y,Z\n"
     ]
    }
   ],
   "source": [
    "end_var = \",\"\n",
    "for alpha in a:\n",
    "    print(alpha.upper() if alpha != \"m\" else alpha, end=end_var if alpha != \"z\" else \"\\n\")"
   ]
  },
  {
   "cell_type": "code",
   "execution_count": null,
   "id": "2df85b14-26fe-4897-b835-dd06f1f04ca4",
   "metadata": {},
   "outputs": [],
   "source": [
    "# range(start(default value is 0), end, step(default value is 1))\n",
    "It returns range of end-start-1 values"
   ]
  },
  {
   "cell_type": "code",
   "execution_count": null,
   "id": "52257f0e-3ae9-4795-9d6f-37b9d067b288",
   "metadata": {},
   "outputs": [],
   "source": [
    "range(1, 10)\n",
    "1, 2, 3, 4, 5, 6, 7, 8, 9"
   ]
  },
  {
   "cell_type": "code",
   "execution_count": null,
   "id": "cbbcb952-7670-43b8-9f5d-c1c078d7eab7",
   "metadata": {},
   "outputs": [],
   "source": [
    "range(10)\n",
    "0, 1, 2, 3, 4, 5, 6, 7, 8, 9"
   ]
  },
  {
   "cell_type": "code",
   "execution_count": 41,
   "id": "4103836d-56c0-4d37-9ae0-92affd100820",
   "metadata": {},
   "outputs": [
    {
     "name": "stdout",
     "output_type": "stream",
     "text": [
      "0\n",
      "1\n",
      "2\n",
      "3\n",
      "4\n",
      "5\n",
      "6\n",
      "7\n",
      "8\n",
      "9\n"
     ]
    }
   ],
   "source": [
    "for i in range(10):\n",
    "    print(i)"
   ]
  },
  {
   "cell_type": "code",
   "execution_count": 42,
   "id": "ca27f517-780b-48ba-92d4-af155c6c9337",
   "metadata": {},
   "outputs": [
    {
     "name": "stdout",
     "output_type": "stream",
     "text": [
      "5\n",
      "6\n",
      "7\n",
      "8\n",
      "9\n"
     ]
    }
   ],
   "source": [
    "for i in range(5, 10):\n",
    "    print(i)"
   ]
  },
  {
   "cell_type": "code",
   "execution_count": 43,
   "id": "48f41c63-2761-4a40-abc6-25af8e8ccda7",
   "metadata": {},
   "outputs": [
    {
     "data": {
      "text/plain": [
       "range(0, 5)"
      ]
     },
     "execution_count": 43,
     "metadata": {},
     "output_type": "execute_result"
    }
   ],
   "source": [
    "range(5)"
   ]
  },
  {
   "cell_type": "code",
   "execution_count": 44,
   "id": "5986c745-4a64-4553-968e-7bc90746639f",
   "metadata": {},
   "outputs": [],
   "source": [
    "# step argument of range"
   ]
  },
  {
   "cell_type": "code",
   "execution_count": 45,
   "id": "48a90f9a-cc89-4625-b3c1-864e45ecdf57",
   "metadata": {},
   "outputs": [
    {
     "data": {
      "text/plain": [
       "range(0, 10, 2)"
      ]
     },
     "execution_count": 45,
     "metadata": {},
     "output_type": "execute_result"
    }
   ],
   "source": [
    "range(0, 10, 2)"
   ]
  },
  {
   "cell_type": "code",
   "execution_count": 46,
   "id": "24941876-e9df-4eb5-a8e5-a7977835aefb",
   "metadata": {},
   "outputs": [
    {
     "name": "stdout",
     "output_type": "stream",
     "text": [
      "0\n",
      "2\n",
      "4\n",
      "6\n",
      "8\n"
     ]
    }
   ],
   "source": [
    "for i in range(0, 10, 2):\n",
    "    print(i)"
   ]
  },
  {
   "cell_type": "code",
   "execution_count": 48,
   "id": "976f11f1-17e6-4fca-813c-4247e1827996",
   "metadata": {},
   "outputs": [
    {
     "name": "stdout",
     "output_type": "stream",
     "text": [
      "0 2 4 6 8 "
     ]
    }
   ],
   "source": [
    "for i in range(0, 10, 2):\n",
    "    print(i , end=\" \")"
   ]
  },
  {
   "cell_type": "code",
   "execution_count": 49,
   "id": "e807b283-3e12-41c4-ab7b-dce1db7e1e6b",
   "metadata": {},
   "outputs": [
    {
     "name": "stdout",
     "output_type": "stream",
     "text": [
      "02468"
     ]
    }
   ],
   "source": [
    "for i in range(0, 10, 2):\n",
    "    print(i , end=\"\")"
   ]
  },
  {
   "cell_type": "code",
   "execution_count": 53,
   "id": "6eecdb29-e009-48b4-b656-ac4d264e0ffd",
   "metadata": {},
   "outputs": [
    {
     "name": "stdout",
     "output_type": "stream",
     "text": [
      "0\n",
      "working\n",
      "2\n",
      "working\n",
      "4\n",
      "working\n",
      "6\n",
      "working\n",
      "8\n",
      "breaking\n"
     ]
    }
   ],
   "source": [
    "# break --> breaks us out of the loop\n",
    "# continue -> It stops the current iteration and jump with the next\n",
    "for num in range(11):\n",
    "    if num == 9:\n",
    "        print(\"breaking\")\n",
    "        break\n",
    "    if num%2:\n",
    "        print(\"working\")\n",
    "        continue\n",
    "    print(num)"
   ]
  },
  {
   "cell_type": "code",
   "execution_count": null,
   "id": "da78f9ff-a021-437c-af91-ad4f914556d8",
   "metadata": {},
   "outputs": [],
   "source": [
    "# while\n",
    "while <condition>:\n",
    "    statements"
   ]
  },
  {
   "cell_type": "code",
   "execution_count": null,
   "id": "3fa71a52-75e4-481f-9660-402d30ca0446",
   "metadata": {},
   "outputs": [],
   "source": [
    "# print odd numbers between 0-10\n",
    "5 min"
   ]
  },
  {
   "cell_type": "code",
   "execution_count": 8,
   "id": "2f007c03-c311-4f3d-9115-1a4b65022380",
   "metadata": {},
   "outputs": [
    {
     "name": "stdout",
     "output_type": "stream",
     "text": [
      "9\n",
      "7\n",
      "5\n",
      "3\n",
      "1\n"
     ]
    }
   ],
   "source": [
    "a=10\n",
    "while a>0:\n",
    "    if a%2:\n",
    "        print(a)\n",
    "        a -= 1\n",
    "        # a--\n",
    "    a-=1"
   ]
  },
  {
   "cell_type": "code",
   "execution_count": 3,
   "id": "5b0e524a-07d2-425b-b05e-d9e4a2154df1",
   "metadata": {},
   "outputs": [
    {
     "name": "stdout",
     "output_type": "stream",
     "text": [
      "1\n",
      "3\n",
      "5\n",
      "7\n",
      "9\n"
     ]
    }
   ],
   "source": [
    "num = 0\n",
    "while num <= 10:\n",
    "    #  is this odd\n",
    "    if num % 2 != 0:\n",
    "        # Print the odd number\n",
    "        print(num)\n",
    "    # Increment the counter\n",
    "    num += 1"
   ]
  },
  {
   "cell_type": "code",
   "execution_count": 9,
   "id": "ab259c04-7310-4755-bb16-b4f13259bdd2",
   "metadata": {},
   "outputs": [
    {
     "name": "stdout",
     "output_type": "stream",
     "text": [
      "1\n",
      "3\n",
      "5\n",
      "7\n",
      "9\n"
     ]
    }
   ],
   "source": [
    "a = 0\n",
    "while 1:\n",
    "    if a == 11:\n",
    "        break\n",
    "    if a % 2:\n",
    "        print(a)\n",
    "        a += 1\n",
    "    a += 1"
   ]
  },
  {
   "cell_type": "code",
   "execution_count": 11,
   "id": "4f94f191-c6dd-4468-bbdf-f5b398533c05",
   "metadata": {},
   "outputs": [
    {
     "name": "stdout",
     "output_type": "stream",
     "text": [
      "1\n",
      "3\n",
      "5\n",
      "7\n",
      "9\n"
     ]
    }
   ],
   "source": [
    "a = 0\n",
    "while 1:\n",
    "    if a == 11:\n",
    "        break\n",
    "    if a % 2 == 0:\n",
    "        a += 1\n",
    "        continue\n",
    "    print(a)\n",
    "    a += 1"
   ]
  },
  {
   "cell_type": "code",
   "execution_count": 12,
   "id": "bbb8127f-9601-4137-bc71-eec7ac644d02",
   "metadata": {},
   "outputs": [],
   "source": [
    "# List \n",
    "fruits = [\"apple\", \"mango\", \"kiwi\", 2, 5, -2.5]"
   ]
  },
  {
   "cell_type": "code",
   "execution_count": 13,
   "id": "cb2b313e-fccc-4231-8bbc-c019af5e5e6c",
   "metadata": {},
   "outputs": [
    {
     "name": "stdout",
     "output_type": "stream",
     "text": [
      "['apple', 'mango', 'kiwi', 2, 5, -2.5]\n"
     ]
    }
   ],
   "source": [
    "print(fruits)"
   ]
  },
  {
   "cell_type": "code",
   "execution_count": 14,
   "id": "e49d5cf6-a402-4e28-a24e-40456cf27df4",
   "metadata": {},
   "outputs": [
    {
     "data": {
      "text/plain": [
       "'apple'"
      ]
     },
     "execution_count": 14,
     "metadata": {},
     "output_type": "execute_result"
    }
   ],
   "source": [
    "fruits[0]"
   ]
  },
  {
   "cell_type": "code",
   "execution_count": 15,
   "id": "e911b51a-2b61-49b2-a2e0-d5ff90310971",
   "metadata": {},
   "outputs": [
    {
     "data": {
      "text/plain": [
       "'kiwi'"
      ]
     },
     "execution_count": 15,
     "metadata": {},
     "output_type": "execute_result"
    }
   ],
   "source": [
    "fruits[2]"
   ]
  },
  {
   "cell_type": "code",
   "execution_count": 16,
   "id": "de6fa8ec-216d-424d-9746-e018ab767389",
   "metadata": {},
   "outputs": [
    {
     "data": {
      "text/plain": [
       "-2.5"
      ]
     },
     "execution_count": 16,
     "metadata": {},
     "output_type": "execute_result"
    }
   ],
   "source": [
    "fruits[5]"
   ]
  },
  {
   "cell_type": "code",
   "execution_count": 17,
   "id": "314cebe0-061b-4743-9ef4-a4af60650911",
   "metadata": {},
   "outputs": [
    {
     "ename": "IndexError",
     "evalue": "list index out of range",
     "output_type": "error",
     "traceback": [
      "\u001b[1;31m---------------------------------------------------------------------------\u001b[0m",
      "\u001b[1;31mIndexError\u001b[0m                                Traceback (most recent call last)",
      "Cell \u001b[1;32mIn[17], line 1\u001b[0m\n\u001b[1;32m----> 1\u001b[0m \u001b[43mfruits\u001b[49m\u001b[43m[\u001b[49m\u001b[38;5;241;43m7\u001b[39;49m\u001b[43m]\u001b[49m\n",
      "\u001b[1;31mIndexError\u001b[0m: list index out of range"
     ]
    }
   ],
   "source": [
    "fruits[7]"
   ]
  },
  {
   "cell_type": "code",
   "execution_count": 18,
   "id": "1b777f96-7d7c-43c5-84d4-af805b363422",
   "metadata": {},
   "outputs": [
    {
     "name": "stdout",
     "output_type": "stream",
     "text": [
      "9\n"
     ]
    }
   ],
   "source": [
    "alphabets = [\"A\", \"B\", \"C\", \"D\", \"E\", \"F\", \"Z\", \"U\", \"X\"]\n",
    "print(len(alphabets))"
   ]
  },
  {
   "cell_type": "code",
   "execution_count": 19,
   "id": "e7dc193e-fef5-4c2e-b9e3-9f76f2220f83",
   "metadata": {},
   "outputs": [
    {
     "data": {
      "text/plain": [
       "'X'"
      ]
     },
     "execution_count": 19,
     "metadata": {},
     "output_type": "execute_result"
    }
   ],
   "source": [
    "alphabets[8]"
   ]
  },
  {
   "cell_type": "code",
   "execution_count": 22,
   "id": "706fe1d6-f05d-4311-a647-6935b02db634",
   "metadata": {},
   "outputs": [
    {
     "data": {
      "text/plain": [
       "'X'"
      ]
     },
     "execution_count": 22,
     "metadata": {},
     "output_type": "execute_result"
    }
   ],
   "source": [
    "alphabets[len(alphabets)-1]"
   ]
  },
  {
   "cell_type": "code",
   "execution_count": 23,
   "id": "a736807a-6dab-42d9-8e65-6648fbc3f619",
   "metadata": {},
   "outputs": [],
   "source": [
    "# Negative indexing"
   ]
  },
  {
   "cell_type": "code",
   "execution_count": 24,
   "id": "835bec88-a67d-45ae-9d7d-160920d3f7ea",
   "metadata": {},
   "outputs": [
    {
     "data": {
      "text/plain": [
       "'X'"
      ]
     },
     "execution_count": 24,
     "metadata": {},
     "output_type": "execute_result"
    }
   ],
   "source": [
    "alphabets[-1]"
   ]
  },
  {
   "cell_type": "code",
   "execution_count": 25,
   "id": "91f29980-26fe-4302-b423-127f45f41065",
   "metadata": {},
   "outputs": [
    {
     "data": {
      "text/plain": [
       "1"
      ]
     },
     "execution_count": 25,
     "metadata": {},
     "output_type": "execute_result"
    }
   ],
   "source": [
    "fruits = [\"apple\", \"mango\", \"kiwi\", 2, 5, -2.5]\n",
    "fruits.index(\"mango\")"
   ]
  },
  {
   "cell_type": "code",
   "execution_count": 26,
   "id": "7133e01a-56f3-4255-a827-144c22bddc3b",
   "metadata": {},
   "outputs": [],
   "source": [
    "alphabets = [\"A\", \"B\", \"C\", \"D\", \"E\", \"F\", \"Z\", \"U\", \"X\"]\n",
    "alphabets.sort()"
   ]
  },
  {
   "cell_type": "code",
   "execution_count": 27,
   "id": "b25102de-4c48-4956-ad53-3b84c43cf3cc",
   "metadata": {},
   "outputs": [
    {
     "data": {
      "text/plain": [
       "['A', 'B', 'C', 'D', 'E', 'F', 'U', 'X', 'Z']"
      ]
     },
     "execution_count": 27,
     "metadata": {},
     "output_type": "execute_result"
    }
   ],
   "source": [
    "alphabets"
   ]
  },
  {
   "cell_type": "code",
   "execution_count": 28,
   "id": "3b781d75-088f-4abc-b5ff-3f474d347d1f",
   "metadata": {},
   "outputs": [],
   "source": [
    "l = []"
   ]
  },
  {
   "cell_type": "code",
   "execution_count": 29,
   "id": "86825046-f3d7-4db0-a07f-16e0f51570a7",
   "metadata": {},
   "outputs": [],
   "source": [
    "l.append(\"123\")"
   ]
  },
  {
   "cell_type": "code",
   "execution_count": 30,
   "id": "eafeca6c-a80b-4730-b028-5993c7195a54",
   "metadata": {},
   "outputs": [
    {
     "name": "stdout",
     "output_type": "stream",
     "text": [
      "['123']\n"
     ]
    }
   ],
   "source": [
    "print(l)"
   ]
  },
  {
   "cell_type": "code",
   "execution_count": 31,
   "id": "9adcba28-9fbf-4a01-9dab-22de643c0930",
   "metadata": {},
   "outputs": [],
   "source": [
    "l.append(\"abc\")"
   ]
  },
  {
   "cell_type": "code",
   "execution_count": 32,
   "id": "518dd68c-20b1-4ce9-9c00-dddad59d7c9a",
   "metadata": {},
   "outputs": [
    {
     "name": "stdout",
     "output_type": "stream",
     "text": [
      "['123', 'abc']\n"
     ]
    }
   ],
   "source": [
    "print(l)"
   ]
  },
  {
   "cell_type": "code",
   "execution_count": 33,
   "id": "3e3820dc-6fe5-4329-9c70-11ef6a9afac6",
   "metadata": {},
   "outputs": [],
   "source": [
    "l.append(\"xyz\")"
   ]
  },
  {
   "cell_type": "code",
   "execution_count": 34,
   "id": "ade66661-731d-4966-9ed0-bd1833d7180b",
   "metadata": {},
   "outputs": [],
   "source": [
    "l.append(\"mno\")"
   ]
  },
  {
   "cell_type": "code",
   "execution_count": 35,
   "id": "06a1605b-ced4-41ce-af12-cdd9398e6349",
   "metadata": {},
   "outputs": [
    {
     "name": "stdout",
     "output_type": "stream",
     "text": [
      "['123', 'abc', 'xyz', 'mno']\n"
     ]
    }
   ],
   "source": [
    "print(l)"
   ]
  },
  {
   "cell_type": "code",
   "execution_count": 36,
   "id": "d2afd32d-a1da-43e7-848e-66641352b527",
   "metadata": {},
   "outputs": [
    {
     "data": {
      "text/plain": [
       "'xyz'"
      ]
     },
     "execution_count": 36,
     "metadata": {},
     "output_type": "execute_result"
    }
   ],
   "source": [
    "l.pop(2)"
   ]
  },
  {
   "cell_type": "code",
   "execution_count": 37,
   "id": "68eb03dc-f3b5-497d-b838-22809665383a",
   "metadata": {},
   "outputs": [
    {
     "name": "stdout",
     "output_type": "stream",
     "text": [
      "['123', 'abc', 'mno']\n"
     ]
    }
   ],
   "source": [
    "print(l)"
   ]
  },
  {
   "cell_type": "code",
   "execution_count": 38,
   "id": "cebf50cc-599c-4d18-8627-2f2ddc09c90c",
   "metadata": {},
   "outputs": [],
   "source": [
    "l.remove(\"123\")"
   ]
  },
  {
   "cell_type": "code",
   "execution_count": 39,
   "id": "e7f73e87-a110-47fd-983d-2ebe22ddd00e",
   "metadata": {},
   "outputs": [
    {
     "data": {
      "text/plain": [
       "['abc', 'mno']"
      ]
     },
     "execution_count": 39,
     "metadata": {},
     "output_type": "execute_result"
    }
   ],
   "source": [
    "l"
   ]
  },
  {
   "cell_type": "code",
   "execution_count": 40,
   "id": "f7a58b24-9b19-410b-acfd-d6ec9c75c7b9",
   "metadata": {},
   "outputs": [],
   "source": [
    "l = ['123', 'abc', 'xyz', 'mno', \"123\", \"123\"]"
   ]
  },
  {
   "cell_type": "code",
   "execution_count": 41,
   "id": "bf90482d-4f63-41f4-8aa6-9e14cd2a4a4c",
   "metadata": {},
   "outputs": [],
   "source": [
    "l.remove(\"123\")"
   ]
  },
  {
   "cell_type": "code",
   "execution_count": 42,
   "id": "1e24a9da-39e2-4277-ac21-f18d5b69d21f",
   "metadata": {},
   "outputs": [
    {
     "name": "stdout",
     "output_type": "stream",
     "text": [
      "['abc', 'xyz', 'mno', '123', '123']\n"
     ]
    }
   ],
   "source": [
    "print(l)"
   ]
  },
  {
   "cell_type": "code",
   "execution_count": 43,
   "id": "97aa6742-49b4-4612-b99b-6a8a878b69cd",
   "metadata": {},
   "outputs": [
    {
     "name": "stdout",
     "output_type": "stream",
     "text": [
      "['uvw', 'abc', 'xyz', 'mno', '123', '123']\n"
     ]
    }
   ],
   "source": [
    "l.insert(0, \"uvw\")\n",
    "print(l)"
   ]
  },
  {
   "cell_type": "code",
   "execution_count": 44,
   "id": "1974b713-3208-4923-9296-4b676dd12bed",
   "metadata": {
    "collapsed": true,
    "jupyter": {
     "outputs_hidden": true
    }
   },
   "outputs": [
    {
     "name": "stdout",
     "output_type": "stream",
     "text": [
      "Help on class list in module builtins:\n",
      "\n",
      "class list(object)\n",
      " |  list(iterable=(), /)\n",
      " |\n",
      " |  Built-in mutable sequence.\n",
      " |\n",
      " |  If no argument is given, the constructor creates a new empty list.\n",
      " |  The argument must be an iterable if specified.\n",
      " |\n",
      " |  Methods defined here:\n",
      " |\n",
      " |  __add__(self, value, /)\n",
      " |      Return self+value.\n",
      " |\n",
      " |  __contains__(self, key, /)\n",
      " |      Return bool(key in self).\n",
      " |\n",
      " |  __delitem__(self, key, /)\n",
      " |      Delete self[key].\n",
      " |\n",
      " |  __eq__(self, value, /)\n",
      " |      Return self==value.\n",
      " |\n",
      " |  __ge__(self, value, /)\n",
      " |      Return self>=value.\n",
      " |\n",
      " |  __getattribute__(self, name, /)\n",
      " |      Return getattr(self, name).\n",
      " |\n",
      " |  __getitem__(self, index, /)\n",
      " |      Return self[index].\n",
      " |\n",
      " |  __gt__(self, value, /)\n",
      " |      Return self>value.\n",
      " |\n",
      " |  __iadd__(self, value, /)\n",
      " |      Implement self+=value.\n",
      " |\n",
      " |  __imul__(self, value, /)\n",
      " |      Implement self*=value.\n",
      " |\n",
      " |  __init__(self, /, *args, **kwargs)\n",
      " |      Initialize self.  See help(type(self)) for accurate signature.\n",
      " |\n",
      " |  __iter__(self, /)\n",
      " |      Implement iter(self).\n",
      " |\n",
      " |  __le__(self, value, /)\n",
      " |      Return self<=value.\n",
      " |\n",
      " |  __len__(self, /)\n",
      " |      Return len(self).\n",
      " |\n",
      " |  __lt__(self, value, /)\n",
      " |      Return self<value.\n",
      " |\n",
      " |  __mul__(self, value, /)\n",
      " |      Return self*value.\n",
      " |\n",
      " |  __ne__(self, value, /)\n",
      " |      Return self!=value.\n",
      " |\n",
      " |  __repr__(self, /)\n",
      " |      Return repr(self).\n",
      " |\n",
      " |  __reversed__(self, /)\n",
      " |      Return a reverse iterator over the list.\n",
      " |\n",
      " |  __rmul__(self, value, /)\n",
      " |      Return value*self.\n",
      " |\n",
      " |  __setitem__(self, key, value, /)\n",
      " |      Set self[key] to value.\n",
      " |\n",
      " |  __sizeof__(self, /)\n",
      " |      Return the size of the list in memory, in bytes.\n",
      " |\n",
      " |  append(self, object, /)\n",
      " |      Append object to the end of the list.\n",
      " |\n",
      " |  clear(self, /)\n",
      " |      Remove all items from list.\n",
      " |\n",
      " |  copy(self, /)\n",
      " |      Return a shallow copy of the list.\n",
      " |\n",
      " |  count(self, value, /)\n",
      " |      Return number of occurrences of value.\n",
      " |\n",
      " |  extend(self, iterable, /)\n",
      " |      Extend list by appending elements from the iterable.\n",
      " |\n",
      " |  index(self, value, start=0, stop=9223372036854775807, /)\n",
      " |      Return first index of value.\n",
      " |\n",
      " |      Raises ValueError if the value is not present.\n",
      " |\n",
      " |  insert(self, index, object, /)\n",
      " |      Insert object before index.\n",
      " |\n",
      " |  pop(self, index=-1, /)\n",
      " |      Remove and return item at index (default last).\n",
      " |\n",
      " |      Raises IndexError if list is empty or index is out of range.\n",
      " |\n",
      " |  remove(self, value, /)\n",
      " |      Remove first occurrence of value.\n",
      " |\n",
      " |      Raises ValueError if the value is not present.\n",
      " |\n",
      " |  reverse(self, /)\n",
      " |      Reverse *IN PLACE*.\n",
      " |\n",
      " |  sort(self, /, *, key=None, reverse=False)\n",
      " |      Sort the list in ascending order and return None.\n",
      " |\n",
      " |      The sort is in-place (i.e. the list itself is modified) and stable (i.e. the\n",
      " |      order of two equal elements is maintained).\n",
      " |\n",
      " |      If a key function is given, apply it once to each list item and sort them,\n",
      " |      ascending or descending, according to their function values.\n",
      " |\n",
      " |      The reverse flag can be set to sort in descending order.\n",
      " |\n",
      " |  ----------------------------------------------------------------------\n",
      " |  Class methods defined here:\n",
      " |\n",
      " |  __class_getitem__(object, /)\n",
      " |      See PEP 585\n",
      " |\n",
      " |  ----------------------------------------------------------------------\n",
      " |  Static methods defined here:\n",
      " |\n",
      " |  __new__(*args, **kwargs)\n",
      " |      Create and return a new object.  See help(type) for accurate signature.\n",
      " |\n",
      " |  ----------------------------------------------------------------------\n",
      " |  Data and other attributes defined here:\n",
      " |\n",
      " |  __hash__ = None\n",
      "\n"
     ]
    }
   ],
   "source": [
    "help(list)"
   ]
  },
  {
   "cell_type": "code",
   "execution_count": 45,
   "id": "d4a96c5e-1fc2-4fb5-bcd6-764663260145",
   "metadata": {},
   "outputs": [],
   "source": [
    "l = [1, 2, 3]\n",
    "l2 = [\"a\", \"B\"]\n",
    "l.append(l2)"
   ]
  },
  {
   "cell_type": "code",
   "execution_count": 46,
   "id": "6132e9ca-9fe7-4476-895f-94e2d9409202",
   "metadata": {},
   "outputs": [
    {
     "data": {
      "text/plain": [
       "[1, 2, 3, ['a', 'B']]"
      ]
     },
     "execution_count": 46,
     "metadata": {},
     "output_type": "execute_result"
    }
   ],
   "source": [
    "l"
   ]
  },
  {
   "cell_type": "code",
   "execution_count": 47,
   "id": "11c26985-b055-4666-91da-6ad3392404be",
   "metadata": {},
   "outputs": [],
   "source": [
    "l = [1, 2, 3]\n",
    "l2 = [\"a\", \"B\"]\n",
    "l.extend(l2)"
   ]
  },
  {
   "cell_type": "code",
   "execution_count": 48,
   "id": "3dfa2ffe-3ae2-41c4-aca7-1c22ad7800f2",
   "metadata": {},
   "outputs": [
    {
     "name": "stdout",
     "output_type": "stream",
     "text": [
      "[1, 2, 3, 'a', 'B']\n"
     ]
    }
   ],
   "source": [
    "print(l)"
   ]
  },
  {
   "cell_type": "code",
   "execution_count": 49,
   "id": "65b58f3f-cb18-493d-b865-3b3b4d4f1866",
   "metadata": {},
   "outputs": [],
   "source": [
    "# tuple\n",
    "t = (2, 5)"
   ]
  },
  {
   "cell_type": "code",
   "execution_count": 50,
   "id": "7996b0f9-64d6-476c-9b6f-461fa39c24ca",
   "metadata": {},
   "outputs": [
    {
     "ename": "AttributeError",
     "evalue": "'tuple' object has no attribute 'append'",
     "output_type": "error",
     "traceback": [
      "\u001b[1;31m---------------------------------------------------------------------------\u001b[0m",
      "\u001b[1;31mAttributeError\u001b[0m                            Traceback (most recent call last)",
      "Cell \u001b[1;32mIn[50], line 1\u001b[0m\n\u001b[1;32m----> 1\u001b[0m \u001b[43mt\u001b[49m\u001b[38;5;241;43m.\u001b[39;49m\u001b[43mappend\u001b[49m(\u001b[38;5;124m\"\u001b[39m\u001b[38;5;124m5\u001b[39m\u001b[38;5;124m\"\u001b[39m)\n",
      "\u001b[1;31mAttributeError\u001b[0m: 'tuple' object has no attribute 'append'"
     ]
    }
   ],
   "source": [
    "t.append(\"5\")"
   ]
  },
  {
   "cell_type": "code",
   "execution_count": 51,
   "id": "07090f23-d3ec-4ff5-b272-dc4f3b34d20f",
   "metadata": {
    "collapsed": true,
    "jupyter": {
     "outputs_hidden": true
    }
   },
   "outputs": [
    {
     "name": "stdout",
     "output_type": "stream",
     "text": [
      "Help on class tuple in module builtins:\n",
      "\n",
      "class tuple(object)\n",
      " |  tuple(iterable=(), /)\n",
      " |\n",
      " |  Built-in immutable sequence.\n",
      " |\n",
      " |  If no argument is given, the constructor returns an empty tuple.\n",
      " |  If iterable is specified the tuple is initialized from iterable's items.\n",
      " |\n",
      " |  If the argument is a tuple, the return value is the same object.\n",
      " |\n",
      " |  Built-in subclasses:\n",
      " |      asyncgen_hooks\n",
      " |      UnraisableHookArgs\n",
      " |\n",
      " |  Methods defined here:\n",
      " |\n",
      " |  __add__(self, value, /)\n",
      " |      Return self+value.\n",
      " |\n",
      " |  __contains__(self, key, /)\n",
      " |      Return bool(key in self).\n",
      " |\n",
      " |  __eq__(self, value, /)\n",
      " |      Return self==value.\n",
      " |\n",
      " |  __ge__(self, value, /)\n",
      " |      Return self>=value.\n",
      " |\n",
      " |  __getattribute__(self, name, /)\n",
      " |      Return getattr(self, name).\n",
      " |\n",
      " |  __getitem__(self, key, /)\n",
      " |      Return self[key].\n",
      " |\n",
      " |  __getnewargs__(self, /)\n",
      " |\n",
      " |  __gt__(self, value, /)\n",
      " |      Return self>value.\n",
      " |\n",
      " |  __hash__(self, /)\n",
      " |      Return hash(self).\n",
      " |\n",
      " |  __iter__(self, /)\n",
      " |      Implement iter(self).\n",
      " |\n",
      " |  __le__(self, value, /)\n",
      " |      Return self<=value.\n",
      " |\n",
      " |  __len__(self, /)\n",
      " |      Return len(self).\n",
      " |\n",
      " |  __lt__(self, value, /)\n",
      " |      Return self<value.\n",
      " |\n",
      " |  __mul__(self, value, /)\n",
      " |      Return self*value.\n",
      " |\n",
      " |  __ne__(self, value, /)\n",
      " |      Return self!=value.\n",
      " |\n",
      " |  __repr__(self, /)\n",
      " |      Return repr(self).\n",
      " |\n",
      " |  __rmul__(self, value, /)\n",
      " |      Return value*self.\n",
      " |\n",
      " |  count(self, value, /)\n",
      " |      Return number of occurrences of value.\n",
      " |\n",
      " |  index(self, value, start=0, stop=9223372036854775807, /)\n",
      " |      Return first index of value.\n",
      " |\n",
      " |      Raises ValueError if the value is not present.\n",
      " |\n",
      " |  ----------------------------------------------------------------------\n",
      " |  Class methods defined here:\n",
      " |\n",
      " |  __class_getitem__(object, /)\n",
      " |      See PEP 585\n",
      " |\n",
      " |  ----------------------------------------------------------------------\n",
      " |  Static methods defined here:\n",
      " |\n",
      " |  __new__(*args, **kwargs)\n",
      " |      Create and return a new object.  See help(type) for accurate signature.\n",
      "\n"
     ]
    }
   ],
   "source": [
    "help(tuple)"
   ]
  },
  {
   "cell_type": "code",
   "execution_count": null,
   "id": "0667e1e2-a759-4311-98a8-661c30b4eca6",
   "metadata": {},
   "outputs": [],
   "source": [
    "# Hw 1 read on operators of python\n",
    "# HW 2: read on dictionary and set"
   ]
  }
 ],
 "metadata": {
  "kernelspec": {
   "display_name": "Python 3 (ipykernel)",
   "language": "python",
   "name": "python3"
  },
  "language_info": {
   "codemirror_mode": {
    "name": "ipython",
    "version": 3
   },
   "file_extension": ".py",
   "mimetype": "text/x-python",
   "name": "python",
   "nbconvert_exporter": "python",
   "pygments_lexer": "ipython3",
   "version": "3.13.1"
  }
 },
 "nbformat": 4,
 "nbformat_minor": 5
}
